{
 "cells": [
  {
   "cell_type": "markdown",
   "metadata": {},
   "source": [
    "[this demo requires doom installed either from gym-pool or from [ppaquette's repo](https://github.com/ppaquette/gym-doom)]\n",
    "\n",
    "## Basic Doom demo\n",
    "\n",
    "* This demo solves DoomBasic env with a simple q-learning with experience replay."
   ]
  },
  {
   "cell_type": "markdown",
   "metadata": {},
   "source": [
    "# Experiment setup\n",
    "* Here we basically just load the game and check that it works"
   ]
  },
  {
   "cell_type": "code",
   "execution_count": 1,
   "metadata": {},
   "outputs": [
    {
     "name": "stdout",
     "output_type": "stream",
     "text": [
      "env: THEANO_FLAGS=device=cuda,floatX=float32\n"
     ]
    }
   ],
   "source": [
    "import matplotlib.pyplot as plt\n",
    "import numpy as np\n",
    "%matplotlib inline\n",
    "%env THEANO_FLAGS=device=cuda,floatX=float32"
   ]
  },
  {
   "cell_type": "code",
   "execution_count": 2,
   "metadata": {},
   "outputs": [
    {
     "name": "stderr",
     "output_type": "stream",
     "text": [
      "Using cuDNN version 5110 on context None\n",
      "Mapped name None to device cuda: Tesla K80 (0000:00:1E.0)\n",
      "[2017-06-27 00:58:59,522] Making new env: ppaquette/DoomCorridor-v0\n"
     ]
    }
   ],
   "source": [
    "import gym\n",
    "import ppaquette_gym_doom\n",
    "from gym.wrappers import SkipWrapper\n",
    "from ppaquette_gym_doom.wrappers.action_space import ToDiscrete\n",
    "from agentnet.experiments.openai_gym.wrappers import PreprocessImage\n",
    "GAME_NAME = 'ppaquette/DoomCorridor-v0'\n",
    "\n",
    "make_env = lambda: PreprocessImage(SkipWrapper(4)(ToDiscrete(\"minimal\")(gym.make(GAME_NAME))),\n",
    "                                   width=80,height=80,grayscale=True)\n",
    "\n",
    "env = make_env()"
   ]
  },
  {
   "cell_type": "code",
   "execution_count": 3,
   "metadata": {
    "collapsed": true
   },
   "outputs": [],
   "source": [
    "#global params.\n",
    "observation_shape = env.observation_space.shape\n",
    "n_actions = env.action_space.n\n",
    "#number of parallel agents and batch sequence length (frames)\n",
    "N_AGENTS = 1\n",
    "SEQ_LENGTH = 10"
   ]
  },
  {
   "cell_type": "code",
   "execution_count": 4,
   "metadata": {},
   "outputs": [
    {
     "name": "stdout",
     "output_type": "stream",
     "text": [
      "0.0 False\n"
     ]
    },
    {
     "data": {
      "text/plain": [
       "<matplotlib.image.AxesImage at 0x7f7d883b5390>"
      ]
     },
     "execution_count": 4,
     "metadata": {},
     "output_type": "execute_result"
    },
    {
     "data": {
      "image/png": "[encoded data removed]",
      "text/plain": [
       "<matplotlib.figure.Figure at 0x7f7d9bf57550>"
      ]
     },
     "metadata": {},
     "output_type": "display_data"
    }
   ],
   "source": [
    "env.reset()\n",
    "obs,r,done,_=env.step(1)\n",
    "print(r, done)\n",
    "plt.imshow(obs[0],cmap='gray',interpolation='none')"
   ]
  },
  {
   "cell_type": "markdown",
   "metadata": {},
   "source": [
    "# Basic agent setup\n",
    "Here we define a simple agent that maps game images into Qvalues using simple convolutional neural network.\n",
    "\n",
    "![scheme](https://s18.postimg.org/gbmsq6gmx/dqn_scheme.png)"
   ]
  },
  {
   "cell_type": "code",
   "execution_count": 5,
   "metadata": {},
   "outputs": [
    {
     "name": "stdout",
     "output_type": "stream",
     "text": [
      "env: THEANO_FLAGS=device=cuda,floatX=float32\n"
     ]
    }
   ],
   "source": [
    "#setup and import theano/lasagne. Prefer GPU\n",
    "%env THEANO_FLAGS=device=cuda,floatX=float32\n",
    "\n",
    "import theano, lasagne\n",
    "from lasagne.layers import *"
   ]
  },
  {
   "cell_type": "code",
   "execution_count": 6,
   "metadata": {
    "collapsed": true
   },
   "outputs": [],
   "source": [
    "#observation\n",
    "observation_layer = InputLayer((None,)+observation_shape,)\n",
    "\n",
    "#4-tick window over images\n",
    "from agentnet.memory import WindowAugmentation, LSTMCell\n",
    "\n",
    "prev_wnd = InputLayer((None,4)+observation_shape)\n",
    "new_wnd = WindowAugmentation(observation_layer,prev_wnd)\n",
    "        \n",
    "#reshape to (frame, h,w). If you don't use grayscale, 4 should become 12.\n",
    "wnd_reshape = reshape(new_wnd, (-1,4*observation_shape[0])+observation_shape[1:])\n"
   ]
  },
  {
   "cell_type": "code",
   "execution_count": 7,
   "metadata": {
    "collapsed": true
   },
   "outputs": [],
   "source": [
    "from lasagne.nonlinearities import elu,tanh,softmax\n",
    "#main neural network body.\n",
    "#note that we use batch normalization here which speeds up training but may\n",
    "#get unstable if you use small experience replay buffer\n",
    "conv0 = Conv2DLayer(wnd_reshape,32,filter_size=(8,8),stride=(4,4),name='conv0')\n",
    "\n",
    "conv1 = Conv2DLayer(batch_norm(conv0),64,filter_size=(4,4),stride=(2,2),name='conv1')\n",
    "\n",
    "dense = DenseLayer(batch_norm(conv1),512,name='dense',nonlinearity = lasagne.nonlinearities.tanh)        \n"
   ]
  },
  {
   "cell_type": "code",
   "execution_count": 8,
   "metadata": {
    "collapsed": true
   },
   "outputs": [],
   "source": [
    "\n",
    "#baseline for all qvalues\n",
    "qvalues_layer = DenseLayer(dense,n_actions,nonlinearity=None,name='qval')\n",
    "        \n",
    "#sample actions proportionally to policy_layer\n",
    "from agentnet.resolver import EpsilonGreedyResolver\n",
    "action_layer = EpsilonGreedyResolver(qvalues_layer)\n"
   ]
  },
  {
   "cell_type": "code",
   "execution_count": 9,
   "metadata": {
    "collapsed": true
   },
   "outputs": [],
   "source": [
    "from agentnet.target_network import TargetNetwork\n",
    "targetnet = TargetNetwork(qvalues_layer)\n",
    "qvalues_old = targetnet.output_layers"
   ]
  },
  {
   "cell_type": "markdown",
   "metadata": {},
   "source": [
    "##### Finally, agent\n",
    "We declare that this network is and MDP agent with such and such inputs, states and outputs"
   ]
  },
  {
   "cell_type": "code",
   "execution_count": 10,
   "metadata": {
    "collapsed": true
   },
   "outputs": [],
   "source": [
    "from agentnet.agent import Agent\n",
    "#all together\n",
    "agent = Agent(observation_layers=observation_layer,\n",
    "              policy_estimators=(qvalues_layer,qvalues_old),\n",
    "              agent_states={new_wnd:prev_wnd},\n",
    "              action_layers=action_layer)\n"
   ]
  },
  {
   "cell_type": "code",
   "execution_count": 11,
   "metadata": {},
   "outputs": [
    {
     "data": {
      "text/plain": [
       "[conv0.W,\n",
       " conv0_bn.beta,\n",
       " conv0_bn.gamma,\n",
       " conv1.W,\n",
       " conv1_bn.beta,\n",
       " conv1_bn.gamma,\n",
       " dense.W,\n",
       " dense.b,\n",
       " qval.W,\n",
       " qval.b]"
      ]
     },
     "execution_count": 11,
     "metadata": {},
     "output_type": "execute_result"
    }
   ],
   "source": [
    "#Since it's a single lasagne network, one can get it's weights, output, etc\n",
    "weights = lasagne.layers.get_all_params(action_layer,trainable=True)\n",
    "weights"
   ]
  },
  {
   "cell_type": "markdown",
   "metadata": {},
   "source": [
    "# Create and manage a pool of atari sessions to play with\n",
    "\n",
    "* To make training more stable, we shall have an entire batch of game sessions each happening independent of others\n",
    "* Why several parallel agents help training: http://arxiv.org/pdf/1602.01783v1.pdf\n",
    "* Alternative approach: store more sessions: https://www.cs.toronto.edu/~vmnih/docs/dqn.pdf"
   ]
  },
  {
   "cell_type": "code",
   "execution_count": 12,
   "metadata": {},
   "outputs": [
    {
     "name": "stderr",
     "output_type": "stream",
     "text": [
      "[2017-06-27 00:59:00,395] Making new env: ppaquette/DoomCorridor-v0\n"
     ]
    }
   ],
   "source": [
    "from agentnet.experiments.openai_gym.pool import EnvPool\n",
    "\n",
    "pool = EnvPool(agent,make_env, \n",
    "               n_games=N_AGENTS,\n",
    "               max_size=300) #experience replay pool holding last 1k sessions\n"
   ]
  },
  {
   "cell_type": "code",
   "execution_count": 13,
   "metadata": {},
   "outputs": [
    {
     "name": "stdout",
     "output_type": "stream",
     "text": [
      "[[4 1 3 5 5 0 4]]\n",
      "[[ 0.  0.  0.  0.  0.  0.  0.]]\n",
      "CPU times: user 32 ms, sys: 0 ns, total: 32 ms\n",
      "Wall time: 83.2 ms\n"
     ]
    }
   ],
   "source": [
    "%%time\n",
    "#interact for 7 ticks\n",
    "_,action_log,reward_log,_,_,_  = pool.interact(7)\n",
    "\n",
    "\n",
    "print(action_log[:2])\n",
    "print(reward_log[:2])"
   ]
  },
  {
   "cell_type": "code",
   "execution_count": 14,
   "metadata": {
    "collapsed": true
   },
   "outputs": [],
   "source": [
    "#load first sessions (this function calls interact and remembers sessions)\n",
    "pool.update(SEQ_LENGTH)"
   ]
  },
  {
   "cell_type": "markdown",
   "metadata": {},
   "source": [
    "# Q-learning\n",
    "* An agent has a method that produces symbolic environment interaction sessions\n",
    "* Such sessions are in sequences of observations, agent memory, actions, q-values,etc\n",
    "  * one has to pre-define maximum session length.\n",
    "\n",
    "* SessionPool also stores rewards (Q-learning objective)"
   ]
  },
  {
   "cell_type": "code",
   "execution_count": 15,
   "metadata": {
    "collapsed": true
   },
   "outputs": [],
   "source": [
    "#get agent's Qvalues obtained via experience replay\n",
    "replay = pool.experience_replay.sample_session_batch(100,replace=True)\n",
    "\n",
    "_,_,_,_,(qvalues_seq,old_qvalues_seq) = agent.get_sessions(\n",
    "    replay,\n",
    "    session_length=SEQ_LENGTH,\n",
    "    experience_replay=True,\n",
    ")\n",
    "\n"
   ]
  },
  {
   "cell_type": "code",
   "execution_count": 16,
   "metadata": {
    "collapsed": true
   },
   "outputs": [],
   "source": [
    "#get reference Qvalues according to Qlearning algorithm\n",
    "from agentnet.learning import qlearning\n",
    "\n",
    "#loss for Qlearning = (Q(s,a) - (r+gamma*Q(s',a_max)))^2\n",
    "elwise_mse_loss = qlearning.get_elementwise_objective(qvalues_seq,\n",
    "                                                      replay.actions[0],\n",
    "                                                      replay.rewards,\n",
    "                                                      replay.is_alive,\n",
    "                                                      qvalues_target=old_qvalues_seq,\n",
    "                                                      gamma_or_gammas=0.99)\n",
    "\n",
    "#compute mean over \"alive\" fragments\n",
    "loss = elwise_mse_loss.sum() / replay.is_alive.sum()"
   ]
  },
  {
   "cell_type": "code",
   "execution_count": 17,
   "metadata": {
    "collapsed": true
   },
   "outputs": [],
   "source": [
    "# Compute weight updates\n",
    "updates = lasagne.updates.adam(loss,weights)\n",
    "\n",
    "#compile train function\n",
    "import theano\n",
    "train_step = theano.function([],loss,updates=updates)"
   ]
  },
  {
   "cell_type": "markdown",
   "metadata": {},
   "source": [
    "# Demo run"
   ]
  },
  {
   "cell_type": "code",
   "execution_count": 18,
   "metadata": {},
   "outputs": [
    {
     "name": "stderr",
     "output_type": "stream",
     "text": [
      "[2017-06-27 00:59:30,889] Making new env: ppaquette/DoomCorridor-v0\n",
      "[2017-06-27 00:59:30,897] Clearing 12 monitor files from previous run (because force=True was provided)\n",
      "[2017-06-27 00:59:31,141] Starting new video recorder writing to /home/ubuntu/records/openaigym.video.0.18145.video000000.mp4\n",
      "[2017-06-27 00:59:38,544] Starting new video recorder writing to /home/ubuntu/records/openaigym.video.0.18145.video000001.mp4\n"
     ]
    },
    {
     "name": "stdout",
     "output_type": "stream",
     "text": [
      "Episode finished after 420 timesteps with reward=619.6599731445312\n",
      "Episode finished after 74 timesteps with reward=55.565185546875\n",
      "Episode finished after 65 timesteps with reward=352.19871520996094\n",
      "Episode finished after 80 timesteps with reward=39.92762756347656\n",
      "Episode finished after 45 timesteps with reward=15.961837768554688\n",
      "Episode finished after 60 timesteps with reward=317.4081573486328\n",
      "Episode finished after 90 timesteps with reward=581.0654296875\n"
     ]
    },
    {
     "name": "stderr",
     "output_type": "stream",
     "text": [
      "[2017-06-27 00:59:45,683] Starting new video recorder writing to /home/ubuntu/records/openaigym.video.0.18145.video000008.mp4\n"
     ]
    },
    {
     "name": "stdout",
     "output_type": "stream",
     "text": [
      "Episode finished after 51 timesteps with reward=-68.173583984375\n",
      "Episode finished after 69 timesteps with reward=269.0601348876953\n"
     ]
    },
    {
     "name": "stderr",
     "output_type": "stream",
     "text": [
      "[2017-06-27 00:59:48,474] Finished writing results. You can upload them to the scoreboard via gym.upload('/home/ubuntu/records')\n"
     ]
    },
    {
     "name": "stdout",
     "output_type": "stream",
     "text": [
      "Episode finished after 63 timesteps with reward=40.193511962890625\n"
     ]
    }
   ],
   "source": [
    "action_layer.epsilon.set_value(0)\n",
    "untrained_reward = np.mean(pool.evaluate(save_path=\"./records\",record_video=True,n_games=10))"
   ]
  },
  {
   "cell_type": "code",
   "execution_count": 19,
   "metadata": {},
   "outputs": [
    {
     "data": {
      "text/html": [
       "\n",
       "<video width=\"640\" height=\"480\" controls>\n",
       "  <source src=\"./records/openaigym.video.0.18145.video000001.mp4\" type=\"video/mp4\">\n",
       "</video>\n"
      ],
      "text/plain": [
       "<IPython.core.display.HTML object>"
      ]
     },
     "execution_count": 19,
     "metadata": {},
     "output_type": "execute_result"
    }
   ],
   "source": [
    "#show video\n",
    "from IPython.display import HTML\n",
    "import os\n",
    "\n",
    "video_names = list(filter(lambda s:s.endswith(\".mp4\"),os.listdir(\"./records/\")))\n",
    "\n",
    "HTML(\"\"\"\n",
    "<video width=\"640\" height=\"480\" controls>\n",
    "  <source src=\"{}\" type=\"video/mp4\">\n",
    "</video>\n",
    "\"\"\".format(\"./records/\"+video_names[-1])) #this may or may not be _last_ video. Try other indices"
   ]
  },
  {
   "cell_type": "markdown",
   "metadata": {},
   "source": [
    "# Training loop"
   ]
  },
  {
   "cell_type": "code",
   "execution_count": 20,
   "metadata": {
    "collapsed": true
   },
   "outputs": [],
   "source": [
    "#starting epoch\n",
    "epoch_counter = 1\n",
    "\n",
    "#full game rewards\n",
    "rewards = {0:[untrained_reward]}\n"
   ]
  },
  {
   "cell_type": "code",
   "execution_count": 21,
   "metadata": {},
   "outputs": [
    {
     "name": "stderr",
     "output_type": "stream",
     "text": [
      "  1%|          | 11/2000 [00:02<07:33,  4.39it/s]"
     ]
    },
    {
     "name": "stdout",
     "output_type": "stream",
     "text": [
      "iter=10\tepsilon=0.954\treward/step=2.89163\n"
     ]
    },
    {
     "name": "stderr",
     "output_type": "stream",
     "text": [
      "  1%|          | 21/2000 [00:04<07:32,  4.38it/s]"
     ]
    },
    {
     "name": "stdout",
     "output_type": "stream",
     "text": [
      "iter=20\tepsilon=0.910\treward/step=1.69263\n"
     ]
    },
    {
     "name": "stderr",
     "output_type": "stream",
     "text": [
      "  2%|▏         | 31/2000 [00:07<07:29,  4.38it/s]"
     ]
    },
    {
     "name": "stdout",
     "output_type": "stream",
     "text": [
      "iter=30\tepsilon=0.868\treward/step=3.74129\n"
     ]
    },
    {
     "name": "stderr",
     "output_type": "stream",
     "text": [
      "  2%|▏         | 41/2000 [00:09<07:23,  4.41it/s]"
     ]
    },
    {
     "name": "stdout",
     "output_type": "stream",
     "text": [
      "iter=40\tepsilon=0.828\treward/step=2.51663\n"
     ]
    },
    {
     "name": "stderr",
     "output_type": "stream",
     "text": [
      "  2%|▏         | 49/2000 [00:11<07:55,  4.10it/s][2017-06-27 01:00:00,297] Making new env: ppaquette/DoomCorridor-v0\n",
      "[2017-06-27 01:00:00,304] Clearing 8 monitor files from previous run (because force=True was provided)\n"
     ]
    },
    {
     "name": "stdout",
     "output_type": "stream",
     "text": [
      "iter=50\tepsilon=0.790\treward/step=3.70828\n",
      "Episode finished after 46 timesteps with reward=335.2664489746094\n",
      "Episode finished after 49 timesteps with reward=460.98974609375\n",
      "Episode finished after 47 timesteps with reward=476.9317169189453\n",
      "Episode finished after 42 timesteps with reward=203.15736389160156\n"
     ]
    },
    {
     "name": "stderr",
     "output_type": "stream",
     "text": [
      "[2017-06-27 01:00:03,824] Finished writing results. You can upload them to the scoreboard via gym.upload('/home/ubuntu/records')\n",
      "  2%|▎         | 50/2000 [00:15<42:56,  1.32s/it]"
     ]
    },
    {
     "name": "stdout",
     "output_type": "stream",
     "text": [
      "Episode finished after 62 timesteps with reward=390.40342712402344\n"
     ]
    },
    {
     "name": "stderr",
     "output_type": "stream",
     "text": [
      "  3%|▎         | 61/2000 [00:18<08:27,  3.82it/s]"
     ]
    },
    {
     "name": "stdout",
     "output_type": "stream",
     "text": [
      "iter=60\tepsilon=0.754\treward/step=4.31290\n"
     ]
    },
    {
     "name": "stderr",
     "output_type": "stream",
     "text": [
      "  4%|▎         | 70/2000 [00:20<08:17,  3.88it/s]"
     ]
    },
    {
     "name": "stdout",
     "output_type": "stream",
     "text": [
      "iter=70\tepsilon=0.719\treward/step=4.96162\n"
     ]
    },
    {
     "name": "stderr",
     "output_type": "stream",
     "text": [
      "  4%|▍         | 80/2000 [00:22<08:06,  3.94it/s]"
     ]
    },
    {
     "name": "stdout",
     "output_type": "stream",
     "text": [
      "iter=80\tepsilon=0.687\treward/step=5.11334\n"
     ]
    },
    {
     "name": "stderr",
     "output_type": "stream",
     "text": [
      "  4%|▍         | 90/2000 [00:25<08:16,  3.85it/s]"
     ]
    },
    {
     "name": "stdout",
     "output_type": "stream",
     "text": [
      "iter=90\tepsilon=0.656\treward/step=5.90909\n"
     ]
    },
    {
     "name": "stderr",
     "output_type": "stream",
     "text": [
      "  5%|▍         | 99/2000 [00:27<07:54,  4.01it/s][2017-06-27 01:00:16,246] Making new env: ppaquette/DoomCorridor-v0\n",
      "[2017-06-27 01:00:16,251] Clearing 2 monitor files from previous run (because force=True was provided)\n"
     ]
    },
    {
     "name": "stdout",
     "output_type": "stream",
     "text": [
      "iter=100\tepsilon=0.626\treward/step=6.14729\n",
      "Episode finished after 53 timesteps with reward=134.90814208984375\n",
      "Episode finished after 46 timesteps with reward=398.0626678466797\n",
      "Episode finished after 39 timesteps with reward=376.5001220703125\n",
      "Episode finished after 62 timesteps with reward=552.6234436035156\n"
     ]
    },
    {
     "name": "stderr",
     "output_type": "stream",
     "text": [
      "[2017-06-27 01:00:19,952] Finished writing results. You can upload them to the scoreboard via gym.upload('/home/ubuntu/records')\n",
      "  5%|▌         | 100/2000 [00:31<43:43,  1.38s/it]"
     ]
    },
    {
     "name": "stdout",
     "output_type": "stream",
     "text": [
      "Episode finished after 64 timesteps with reward=839.3578186035156\n"
     ]
    },
    {
     "name": "stderr",
     "output_type": "stream",
     "text": [
      "  6%|▌         | 110/2000 [00:33<09:24,  3.35it/s]"
     ]
    },
    {
     "name": "stdout",
     "output_type": "stream",
     "text": [
      "iter=110\tepsilon=0.598\treward/step=6.32873\n"
     ]
    },
    {
     "name": "stderr",
     "output_type": "stream",
     "text": [
      "  6%|▌         | 120/2000 [00:36<08:32,  3.67it/s]"
     ]
    },
    {
     "name": "stdout",
     "output_type": "stream",
     "text": [
      "iter=120\tepsilon=0.571\treward/step=6.62783\n"
     ]
    },
    {
     "name": "stderr",
     "output_type": "stream",
     "text": [
      "  6%|▋         | 130/2000 [00:39<08:32,  3.65it/s]"
     ]
    },
    {
     "name": "stdout",
     "output_type": "stream",
     "text": [
      "iter=130\tepsilon=0.546\treward/step=6.74801\n"
     ]
    },
    {
     "name": "stderr",
     "output_type": "stream",
     "text": [
      "  7%|▋         | 140/2000 [00:41<08:35,  3.61it/s]"
     ]
    },
    {
     "name": "stdout",
     "output_type": "stream",
     "text": [
      "iter=140\tepsilon=0.522\treward/step=7.32147\n"
     ]
    },
    {
     "name": "stderr",
     "output_type": "stream",
     "text": [
      "  7%|▋         | 149/2000 [00:44<08:17,  3.72it/s][2017-06-27 01:00:33,065] Making new env: ppaquette/DoomCorridor-v0\n",
      "[2017-06-27 01:00:33,070] Clearing 2 monitor files from previous run (because force=True was provided)\n"
     ]
    },
    {
     "name": "stdout",
     "output_type": "stream",
     "text": [
      "iter=150\tepsilon=0.499\treward/step=7.63401\n",
      "Episode finished after 50 timesteps with reward=861.8364868164062\n",
      "Episode finished after 40 timesteps with reward=590.7874603271484\n",
      "Episode finished after 56 timesteps with reward=842.1662902832031\n",
      "Episode finished after 47 timesteps with reward=866.8045043945312\n"
     ]
    },
    {
     "name": "stderr",
     "output_type": "stream",
     "text": [
      "[2017-06-27 01:00:36,291] Finished writing results. You can upload them to the scoreboard via gym.upload('/home/ubuntu/records')\n",
      "  8%|▊         | 150/2000 [00:47<38:45,  1.26s/it]"
     ]
    },
    {
     "name": "stdout",
     "output_type": "stream",
     "text": [
      "Episode finished after 34 timesteps with reward=422.50929260253906\n"
     ]
    },
    {
     "name": "stderr",
     "output_type": "stream",
     "text": [
      "  8%|▊         | 160/2000 [00:50<09:35,  3.20it/s]"
     ]
    },
    {
     "name": "stdout",
     "output_type": "stream",
     "text": [
      "iter=160\tepsilon=0.477\treward/step=7.88752\n"
     ]
    },
    {
     "name": "stderr",
     "output_type": "stream",
     "text": [
      "  8%|▊         | 170/2000 [00:53<08:45,  3.48it/s]"
     ]
    },
    {
     "name": "stdout",
     "output_type": "stream",
     "text": [
      "iter=170\tepsilon=0.456\treward/step=8.05973\n"
     ]
    },
    {
     "name": "stderr",
     "output_type": "stream",
     "text": [
      "  9%|▉         | 180/2000 [00:56<08:44,  3.47it/s]"
     ]
    },
    {
     "name": "stdout",
     "output_type": "stream",
     "text": [
      "iter=180\tepsilon=0.436\treward/step=8.07448\n"
     ]
    },
    {
     "name": "stderr",
     "output_type": "stream",
     "text": [
      " 10%|▉         | 190/2000 [00:58<08:55,  3.38it/s]"
     ]
    },
    {
     "name": "stdout",
     "output_type": "stream",
     "text": [
      "iter=190\tepsilon=0.417\treward/step=8.40919\n"
     ]
    },
    {
     "name": "stderr",
     "output_type": "stream",
     "text": [
      " 10%|▉         | 199/2000 [01:01<08:41,  3.45it/s][2017-06-27 01:00:50,273] Making new env: ppaquette/DoomCorridor-v0\n",
      "[2017-06-27 01:00:50,278] Clearing 2 monitor files from previous run (because force=True was provided)\n"
     ]
    },
    {
     "name": "stdout",
     "output_type": "stream",
     "text": [
      "iter=200\tepsilon=0.399\treward/step=8.49671\n",
      "Episode finished after 46 timesteps with reward=894.1930236816406\n",
      "Episode finished after 29 timesteps with reward=422.4984436035156\n",
      "Episode finished after 42 timesteps with reward=499.0796203613281\n",
      "Episode finished after 35 timesteps with reward=312.9708557128906\n"
     ]
    },
    {
     "name": "stderr",
     "output_type": "stream",
     "text": [
      "[2017-06-27 01:00:52,994] Finished writing results. You can upload them to the scoreboard via gym.upload('/home/ubuntu/records')\n",
      " 10%|█         | 200/2000 [01:04<33:45,  1.13s/it]"
     ]
    },
    {
     "name": "stdout",
     "output_type": "stream",
     "text": [
      "Episode finished after 33 timesteps with reward=408.3773651123047\n"
     ]
    },
    {
     "name": "stderr",
     "output_type": "stream",
     "text": [
      " 10%|█         | 210/2000 [01:07<09:52,  3.02it/s]"
     ]
    },
    {
     "name": "stdout",
     "output_type": "stream",
     "text": [
      "iter=210\tepsilon=0.382\treward/step=8.58315\n"
     ]
    },
    {
     "name": "stderr",
     "output_type": "stream",
     "text": [
      " 11%|█         | 220/2000 [01:10<09:37,  3.08it/s]"
     ]
    },
    {
     "name": "stdout",
     "output_type": "stream",
     "text": [
      "iter=220\tepsilon=0.366\treward/step=8.92074\n"
     ]
    },
    {
     "name": "stderr",
     "output_type": "stream",
     "text": [
      " 12%|█▏        | 230/2000 [01:13<09:50,  3.00it/s]"
     ]
    },
    {
     "name": "stdout",
     "output_type": "stream",
     "text": [
      "iter=230\tepsilon=0.351\treward/step=9.07481\n"
     ]
    },
    {
     "name": "stderr",
     "output_type": "stream",
     "text": [
      " 12%|█▏        | 240/2000 [01:17<09:55,  2.96it/s]"
     ]
    },
    {
     "name": "stdout",
     "output_type": "stream",
     "text": [
      "iter=240\tepsilon=0.336\treward/step=9.28634\n"
     ]
    },
    {
     "name": "stderr",
     "output_type": "stream",
     "text": [
      " 12%|█▏        | 249/2000 [01:19<09:38,  3.03it/s][2017-06-27 01:01:08,873] Making new env: ppaquette/DoomCorridor-v0\n",
      "[2017-06-27 01:01:08,881] Clearing 2 monitor files from previous run (because force=True was provided)\n"
     ]
    },
    {
     "name": "stdout",
     "output_type": "stream",
     "text": [
      "iter=250\tepsilon=0.322\treward/step=9.51130\n",
      "Episode finished after 56 timesteps with reward=919.1798248291016\n",
      "Episode finished after 44 timesteps with reward=1050.9606628417969\n",
      "Episode finished after 37 timesteps with reward=621.8755340576172\n",
      "Episode finished after 51 timesteps with reward=869.2304382324219\n"
     ]
    },
    {
     "name": "stderr",
     "output_type": "stream",
     "text": [
      "[2017-06-27 01:01:12,003] Finished writing results. You can upload them to the scoreboard via gym.upload('/home/ubuntu/records')\n",
      " 12%|█▎        | 250/2000 [01:23<37:35,  1.29s/it]"
     ]
    },
    {
     "name": "stdout",
     "output_type": "stream",
     "text": [
      "Episode finished after 30 timesteps with reward=549.5291900634766\n"
     ]
    },
    {
     "name": "stderr",
     "output_type": "stream",
     "text": [
      " 13%|█▎        | 260/2000 [01:26<10:48,  2.68it/s]"
     ]
    },
    {
     "name": "stdout",
     "output_type": "stream",
     "text": [
      "iter=260\tepsilon=0.309\treward/step=9.79269\n"
     ]
    },
    {
     "name": "stderr",
     "output_type": "stream",
     "text": [
      " 14%|█▎        | 270/2000 [01:30<10:03,  2.87it/s]"
     ]
    },
    {
     "name": "stdout",
     "output_type": "stream",
     "text": [
      "iter=270\tepsilon=0.296\treward/step=9.93036\n"
     ]
    },
    {
     "name": "stderr",
     "output_type": "stream",
     "text": [
      " 14%|█▍        | 280/2000 [01:33<10:08,  2.83it/s]"
     ]
    },
    {
     "name": "stdout",
     "output_type": "stream",
     "text": [
      "iter=280\tepsilon=0.284\treward/step=10.57928\n"
     ]
    },
    {
     "name": "stderr",
     "output_type": "stream",
     "text": [
      " 14%|█▍        | 290/2000 [01:37<10:15,  2.78it/s]"
     ]
    },
    {
     "name": "stdout",
     "output_type": "stream",
     "text": [
      "iter=290\tepsilon=0.273\treward/step=10.87134\n"
     ]
    },
    {
     "name": "stderr",
     "output_type": "stream",
     "text": [
      " 15%|█▍        | 299/2000 [01:40<09:57,  2.85it/s][2017-06-27 01:01:29,154] Making new env: ppaquette/DoomCorridor-v0\n",
      "[2017-06-27 01:01:29,160] Clearing 2 monitor files from previous run (because force=True was provided)\n"
     ]
    },
    {
     "name": "stdout",
     "output_type": "stream",
     "text": [
      "iter=300\tepsilon=0.262\treward/step=11.60365\n",
      "Episode finished after 54 timesteps with reward=2277.581085205078\n",
      "Episode finished after 53 timesteps with reward=724.2173614501953\n",
      "Episode finished after 33 timesteps with reward=698.47705078125\n",
      "Episode finished after 29 timesteps with reward=592.0419921875\n"
     ]
    },
    {
     "name": "stderr",
     "output_type": "stream",
     "text": [
      "[2017-06-27 01:01:31,965] Finished writing results. You can upload them to the scoreboard via gym.upload('/home/ubuntu/records')\n",
      " 15%|█▌        | 300/2000 [01:43<34:22,  1.21s/it]"
     ]
    },
    {
     "name": "stdout",
     "output_type": "stream",
     "text": [
      "Episode finished after 26 timesteps with reward=576.644287109375\n"
     ]
    },
    {
     "name": "stderr",
     "output_type": "stream",
     "text": [
      " 16%|█▌        | 310/2000 [01:46<10:42,  2.63it/s]"
     ]
    },
    {
     "name": "stdout",
     "output_type": "stream",
     "text": [
      "iter=310\tepsilon=0.252\treward/step=11.97840\n"
     ]
    },
    {
     "name": "stderr",
     "output_type": "stream",
     "text": [
      " 16%|█▌        | 320/2000 [01:50<09:59,  2.80it/s]"
     ]
    },
    {
     "name": "stdout",
     "output_type": "stream",
     "text": [
      "iter=320\tepsilon=0.242\treward/step=12.89187\n"
     ]
    },
    {
     "name": "stderr",
     "output_type": "stream",
     "text": [
      " 16%|█▋        | 330/2000 [01:53<09:46,  2.85it/s]"
     ]
    },
    {
     "name": "stdout",
     "output_type": "stream",
     "text": [
      "iter=330\tepsilon=0.232\treward/step=13.21550\n"
     ]
    },
    {
     "name": "stderr",
     "output_type": "stream",
     "text": [
      " 17%|█▋        | 340/2000 [01:57<09:42,  2.85it/s]"
     ]
    },
    {
     "name": "stdout",
     "output_type": "stream",
     "text": [
      "iter=340\tepsilon=0.224\treward/step=14.50075\n"
     ]
    },
    {
     "name": "stderr",
     "output_type": "stream",
     "text": [
      " 17%|█▋        | 349/2000 [02:00<09:22,  2.94it/s][2017-06-27 01:01:49,059] Making new env: ppaquette/DoomCorridor-v0\n",
      "[2017-06-27 01:01:49,064] Clearing 2 monitor files from previous run (because force=True was provided)\n"
     ]
    },
    {
     "name": "stdout",
     "output_type": "stream",
     "text": [
      "iter=350\tepsilon=0.215\treward/step=14.91513\n",
      "Episode finished after 54 timesteps with reward=944.5041961669922\n",
      "Episode finished after 45 timesteps with reward=2276.4895629882812\n",
      "Episode finished after 60 timesteps with reward=2276.919677734375\n",
      "Episode finished after 48 timesteps with reward=811.1809539794922\n"
     ]
    },
    {
     "name": "stderr",
     "output_type": "stream",
     "text": [
      "[2017-06-27 01:01:52,462] Finished writing results. You can upload them to the scoreboard via gym.upload('/home/ubuntu/records')\n",
      " 18%|█▊        | 350/2000 [02:03<37:59,  1.38s/it]"
     ]
    },
    {
     "name": "stdout",
     "output_type": "stream",
     "text": [
      "Episode finished after 35 timesteps with reward=459.18048095703125\n"
     ]
    },
    {
     "name": "stderr",
     "output_type": "stream",
     "text": [
      " 18%|█▊        | 360/2000 [02:07<10:24,  2.63it/s]"
     ]
    },
    {
     "name": "stdout",
     "output_type": "stream",
     "text": [
      "iter=360\tepsilon=0.207\treward/step=15.27736\n"
     ]
    },
    {
     "name": "stderr",
     "output_type": "stream",
     "text": [
      " 18%|█▊        | 370/2000 [02:10<09:30,  2.86it/s]"
     ]
    },
    {
     "name": "stdout",
     "output_type": "stream",
     "text": [
      "iter=370\tepsilon=0.199\treward/step=16.60179\n"
     ]
    },
    {
     "name": "stderr",
     "output_type": "stream",
     "text": [
      " 19%|█▉        | 380/2000 [02:14<09:31,  2.84it/s]"
     ]
    },
    {
     "name": "stdout",
     "output_type": "stream",
     "text": [
      "iter=380\tepsilon=0.192\treward/step=17.04600\n"
     ]
    },
    {
     "name": "stderr",
     "output_type": "stream",
     "text": [
      " 20%|█▉        | 390/2000 [02:17<09:25,  2.85it/s]"
     ]
    },
    {
     "name": "stdout",
     "output_type": "stream",
     "text": [
      "iter=390\tepsilon=0.185\treward/step=17.27995\n"
     ]
    },
    {
     "name": "stderr",
     "output_type": "stream",
     "text": [
      " 20%|█▉        | 399/2000 [02:20<09:05,  2.94it/s][2017-06-27 01:02:09,480] Making new env: ppaquette/DoomCorridor-v0\n",
      "[2017-06-27 01:02:09,484] Clearing 2 monitor files from previous run (because force=True was provided)\n"
     ]
    },
    {
     "name": "stdout",
     "output_type": "stream",
     "text": [
      "iter=400\tepsilon=0.179\treward/step=17.70054\n",
      "Episode finished after 35 timesteps with reward=390.1068420410156\n",
      "Episode finished after 35 timesteps with reward=895.2181854248047\n",
      "Episode finished after 29 timesteps with reward=752.9567718505859\n",
      "Episode finished after 37 timesteps with reward=553.3306121826172\n"
     ]
    },
    {
     "name": "stderr",
     "output_type": "stream",
     "text": [
      "[2017-06-27 01:02:12,166] Finished writing results. You can upload them to the scoreboard via gym.upload('/home/ubuntu/records')\n",
      " 20%|██        | 400/2000 [02:23<30:59,  1.16s/it]"
     ]
    },
    {
     "name": "stdout",
     "output_type": "stream",
     "text": [
      "Episode finished after 50 timesteps with reward=2277.6788635253906\n"
     ]
    },
    {
     "name": "stderr",
     "output_type": "stream",
     "text": [
      " 20%|██        | 410/2000 [02:27<10:02,  2.64it/s]"
     ]
    },
    {
     "name": "stdout",
     "output_type": "stream",
     "text": [
      "iter=410\tepsilon=0.172\treward/step=17.98644\n"
     ]
    },
    {
     "name": "stderr",
     "output_type": "stream",
     "text": [
      " 21%|██        | 420/2000 [02:30<09:21,  2.82it/s]"
     ]
    },
    {
     "name": "stdout",
     "output_type": "stream",
     "text": [
      "iter=420\tepsilon=0.166\treward/step=18.45321\n"
     ]
    },
    {
     "name": "stderr",
     "output_type": "stream",
     "text": [
      " 22%|██▏       | 430/2000 [02:33<09:15,  2.83it/s]"
     ]
    },
    {
     "name": "stdout",
     "output_type": "stream",
     "text": [
      "iter=430\tepsilon=0.161\treward/step=19.32962\n"
     ]
    },
    {
     "name": "stderr",
     "output_type": "stream",
     "text": [
      " 22%|██▏       | 440/2000 [02:37<09:08,  2.84it/s]"
     ]
    },
    {
     "name": "stdout",
     "output_type": "stream",
     "text": [
      "iter=440\tepsilon=0.155\treward/step=19.42015\n"
     ]
    },
    {
     "name": "stderr",
     "output_type": "stream",
     "text": [
      " 22%|██▏       | 449/2000 [02:40<08:52,  2.91it/s][2017-06-27 01:02:29,314] Making new env: ppaquette/DoomCorridor-v0\n",
      "[2017-06-27 01:02:29,319] Clearing 2 monitor files from previous run (because force=True was provided)\n"
     ]
    },
    {
     "name": "stdout",
     "output_type": "stream",
     "text": [
      "iter=450\tepsilon=0.150\treward/step=19.76658\n",
      "Episode finished after 42 timesteps with reward=2276.815719604492\n",
      "Episode finished after 47 timesteps with reward=827.4177856445312\n",
      "Episode finished after 43 timesteps with reward=2278.5723419189453\n",
      "Episode finished after 38 timesteps with reward=806.7581787109375\n"
     ]
    },
    {
     "name": "stderr",
     "output_type": "stream",
     "text": [
      "[2017-06-27 01:02:32,237] Finished writing results. You can upload them to the scoreboard via gym.upload('/home/ubuntu/records')\n",
      " 22%|██▎       | 450/2000 [02:43<32:02,  1.24s/it]"
     ]
    },
    {
     "name": "stdout",
     "output_type": "stream",
     "text": [
      "Episode finished after 35 timesteps with reward=2280.221710205078\n"
     ]
    },
    {
     "name": "stderr",
     "output_type": "stream",
     "text": [
      " 23%|██▎       | 460/2000 [02:47<09:48,  2.62it/s]"
     ]
    },
    {
     "name": "stdout",
     "output_type": "stream",
     "text": [
      "iter=460\tepsilon=0.145\treward/step=20.63627\n"
     ]
    },
    {
     "name": "stderr",
     "output_type": "stream",
     "text": [
      " 24%|██▎       | 470/2000 [02:50<09:05,  2.80it/s]"
     ]
    },
    {
     "name": "stdout",
     "output_type": "stream",
     "text": [
      "iter=470\tepsilon=0.141\treward/step=21.43344\n"
     ]
    },
    {
     "name": "stderr",
     "output_type": "stream",
     "text": [
      " 24%|██▍       | 480/2000 [02:54<08:59,  2.82it/s]"
     ]
    },
    {
     "name": "stdout",
     "output_type": "stream",
     "text": [
      "iter=480\tepsilon=0.136\treward/step=21.99444\n"
     ]
    },
    {
     "name": "stderr",
     "output_type": "stream",
     "text": [
      " 24%|██▍       | 490/2000 [02:57<08:55,  2.82it/s]"
     ]
    },
    {
     "name": "stdout",
     "output_type": "stream",
     "text": [
      "iter=490\tepsilon=0.132\treward/step=22.98674\n"
     ]
    },
    {
     "name": "stderr",
     "output_type": "stream",
     "text": [
      " 25%|██▍       | 499/2000 [03:00<08:30,  2.94it/s][2017-06-27 01:02:49,409] Making new env: ppaquette/DoomCorridor-v0\n",
      "[2017-06-27 01:02:49,414] Clearing 2 monitor files from previous run (because force=True was provided)\n"
     ]
    },
    {
     "name": "stdout",
     "output_type": "stream",
     "text": [
      "iter=500\tepsilon=0.128\treward/step=23.83699\n",
      "Episode finished after 31 timesteps with reward=761.2829132080078\n",
      "Episode finished after 53 timesteps with reward=919.8325500488281\n",
      "Episode finished after 36 timesteps with reward=997.7441253662109\n",
      "Episode finished after 27 timesteps with reward=595.5919189453125\n"
     ]
    },
    {
     "name": "stderr",
     "output_type": "stream",
     "text": [
      "[2017-06-27 01:02:51,988] Finished writing results. You can upload them to the scoreboard via gym.upload('/home/ubuntu/records')\n",
      " 25%|██▌       | 500/2000 [03:03<28:17,  1.13s/it]"
     ]
    },
    {
     "name": "stdout",
     "output_type": "stream",
     "text": [
      "Episode finished after 31 timesteps with reward=392.3008575439453\n"
     ]
    },
    {
     "name": "stderr",
     "output_type": "stream",
     "text": [
      " 26%|██▌       | 510/2000 [03:06<09:19,  2.66it/s]"
     ]
    },
    {
     "name": "stdout",
     "output_type": "stream",
     "text": [
      "iter=510\tepsilon=0.124\treward/step=24.71967\n"
     ]
    },
    {
     "name": "stderr",
     "output_type": "stream",
     "text": [
      " 26%|██▌       | 520/2000 [03:10<08:47,  2.81it/s]"
     ]
    },
    {
     "name": "stdout",
     "output_type": "stream",
     "text": [
      "iter=520\tepsilon=0.121\treward/step=25.03335\n"
     ]
    },
    {
     "name": "stderr",
     "output_type": "stream",
     "text": [
      " 26%|██▋       | 530/2000 [03:13<08:36,  2.84it/s]"
     ]
    },
    {
     "name": "stdout",
     "output_type": "stream",
     "text": [
      "iter=530\tepsilon=0.117\treward/step=25.21330\n"
     ]
    },
    {
     "name": "stderr",
     "output_type": "stream",
     "text": [
      " 27%|██▋       | 540/2000 [03:17<08:37,  2.82it/s]"
     ]
    },
    {
     "name": "stdout",
     "output_type": "stream",
     "text": [
      "iter=540\tepsilon=0.114\treward/step=25.95399\n"
     ]
    },
    {
     "name": "stderr",
     "output_type": "stream",
     "text": [
      " 27%|██▋       | 549/2000 [03:20<08:16,  2.92it/s][2017-06-27 01:03:09,143] Making new env: ppaquette/DoomCorridor-v0\n",
      "[2017-06-27 01:03:09,148] Clearing 2 monitor files from previous run (because force=True was provided)\n"
     ]
    },
    {
     "name": "stdout",
     "output_type": "stream",
     "text": [
      "iter=550\tepsilon=0.111\treward/step=26.62381\n",
      "Episode finished after 66 timesteps with reward=2276.094436645508\n",
      "Episode finished after 31 timesteps with reward=901.7236175537109\n",
      "Episode finished after 39 timesteps with reward=1015.5735473632812\n",
      "Episode finished after 49 timesteps with reward=1076.5906829833984\n"
     ]
    },
    {
     "name": "stderr",
     "output_type": "stream",
     "text": [
      "[2017-06-27 01:03:12,263] Finished writing results. You can upload them to the scoreboard via gym.upload('/home/ubuntu/records')\n",
      " 28%|██▊       | 550/2000 [03:23<31:24,  1.30s/it]"
     ]
    },
    {
     "name": "stdout",
     "output_type": "stream",
     "text": [
      "Episode finished after 35 timesteps with reward=2279.1160888671875\n"
     ]
    },
    {
     "name": "stderr",
     "output_type": "stream",
     "text": [
      " 28%|██▊       | 560/2000 [03:27<09:11,  2.61it/s]"
     ]
    },
    {
     "name": "stdout",
     "output_type": "stream",
     "text": [
      "iter=560\tepsilon=0.108\treward/step=27.20776\n"
     ]
    },
    {
     "name": "stderr",
     "output_type": "stream",
     "text": [
      " 28%|██▊       | 570/2000 [03:30<08:25,  2.83it/s]"
     ]
    },
    {
     "name": "stdout",
     "output_type": "stream",
     "text": [
      "iter=570\tepsilon=0.105\treward/step=27.63276\n"
     ]
    },
    {
     "name": "stderr",
     "output_type": "stream",
     "text": [
      " 29%|██▉       | 580/2000 [03:34<08:21,  2.83it/s]"
     ]
    },
    {
     "name": "stdout",
     "output_type": "stream",
     "text": [
      "iter=580\tepsilon=0.102\treward/step=27.30981\n"
     ]
    },
    {
     "name": "stderr",
     "output_type": "stream",
     "text": [
      " 30%|██▉       | 590/2000 [03:37<08:18,  2.83it/s]"
     ]
    },
    {
     "name": "stdout",
     "output_type": "stream",
     "text": [
      "iter=590\tepsilon=0.100\treward/step=28.36772\n"
     ]
    },
    {
     "name": "stderr",
     "output_type": "stream",
     "text": [
      " 30%|██▉       | 599/2000 [03:40<08:01,  2.91it/s][2017-06-27 01:03:29,436] Making new env: ppaquette/DoomCorridor-v0\n",
      "[2017-06-27 01:03:29,441] Clearing 2 monitor files from previous run (because force=True was provided)\n"
     ]
    },
    {
     "name": "stdout",
     "output_type": "stream",
     "text": [
      "iter=600\tepsilon=0.097\treward/step=28.46691\n",
      "Episode finished after 34 timesteps with reward=2278.4652252197266\n",
      "Episode finished after 33 timesteps with reward=802.2808685302734\n",
      "Episode finished after 39 timesteps with reward=2276.587677001953\n",
      "Episode finished after 37 timesteps with reward=2283.972671508789\n"
     ]
    },
    {
     "name": "stderr",
     "output_type": "stream",
     "text": [
      "[2017-06-27 01:03:32,126] Finished writing results. You can upload them to the scoreboard via gym.upload('/home/ubuntu/records')\n",
      " 30%|███       | 600/2000 [03:43<27:10,  1.16s/it]"
     ]
    },
    {
     "name": "stdout",
     "output_type": "stream",
     "text": [
      "Episode finished after 43 timesteps with reward=772.3943786621094\n"
     ]
    },
    {
     "name": "stderr",
     "output_type": "stream",
     "text": [
      " 30%|███       | 610/2000 [03:46<08:40,  2.67it/s]"
     ]
    },
    {
     "name": "stdout",
     "output_type": "stream",
     "text": [
      "iter=610\tepsilon=0.095\treward/step=29.64100\n"
     ]
    },
    {
     "name": "stderr",
     "output_type": "stream",
     "text": [
      " 31%|███       | 620/2000 [03:50<08:01,  2.86it/s]"
     ]
    },
    {
     "name": "stdout",
     "output_type": "stream",
     "text": [
      "iter=620\tepsilon=0.093\treward/step=28.59078\n"
     ]
    },
    {
     "name": "stderr",
     "output_type": "stream",
     "text": [
      " 32%|███▏      | 630/2000 [03:53<07:57,  2.87it/s]"
     ]
    },
    {
     "name": "stdout",
     "output_type": "stream",
     "text": [
      "iter=630\tepsilon=0.091\treward/step=29.02666\n"
     ]
    },
    {
     "name": "stderr",
     "output_type": "stream",
     "text": [
      " 32%|███▏      | 640/2000 [03:57<07:58,  2.84it/s]"
     ]
    },
    {
     "name": "stdout",
     "output_type": "stream",
     "text": [
      "iter=640\tepsilon=0.089\treward/step=28.48971\n"
     ]
    },
    {
     "name": "stderr",
     "output_type": "stream",
     "text": [
      " 32%|███▏      | 649/2000 [04:00<07:35,  2.96it/s][2017-06-27 01:03:49,095] Making new env: ppaquette/DoomCorridor-v0\n",
      "[2017-06-27 01:03:49,100] Clearing 2 monitor files from previous run (because force=True was provided)\n"
     ]
    },
    {
     "name": "stdout",
     "output_type": "stream",
     "text": [
      "iter=650\tepsilon=0.087\treward/step=29.36247\n",
      "Episode finished after 32 timesteps with reward=805.9324340820312\n",
      "Episode finished after 37 timesteps with reward=760.9263610839844\n",
      "Episode finished after 26 timesteps with reward=701.4460754394531\n",
      "Episode finished after 35 timesteps with reward=852.5287933349609\n"
     ]
    },
    {
     "name": "stderr",
     "output_type": "stream",
     "text": [
      "[2017-06-27 01:03:51,568] Finished writing results. You can upload them to the scoreboard via gym.upload('/home/ubuntu/records')\n",
      " 32%|███▎      | 650/2000 [04:03<24:39,  1.10s/it]"
     ]
    },
    {
     "name": "stdout",
     "output_type": "stream",
     "text": [
      "Episode finished after 40 timesteps with reward=2276.2073364257812\n"
     ]
    },
    {
     "name": "stderr",
     "output_type": "stream",
     "text": [
      " 33%|███▎      | 660/2000 [04:06<08:22,  2.67it/s]"
     ]
    },
    {
     "name": "stdout",
     "output_type": "stream",
     "text": [
      "iter=660\tepsilon=0.085\treward/step=29.84828\n"
     ]
    },
    {
     "name": "stderr",
     "output_type": "stream",
     "text": [
      " 34%|███▎      | 670/2000 [04:09<07:49,  2.83it/s]"
     ]
    },
    {
     "name": "stdout",
     "output_type": "stream",
     "text": [
      "iter=670\tepsilon=0.083\treward/step=29.39237\n"
     ]
    },
    {
     "name": "stderr",
     "output_type": "stream",
     "text": [
      " 34%|███▍      | 680/2000 [04:13<07:47,  2.82it/s]"
     ]
    },
    {
     "name": "stdout",
     "output_type": "stream",
     "text": [
      "iter=680\tepsilon=0.082\treward/step=29.62929\n"
     ]
    },
    {
     "name": "stderr",
     "output_type": "stream",
     "text": [
      " 34%|███▍      | 690/2000 [04:16<07:49,  2.79it/s]"
     ]
    },
    {
     "name": "stdout",
     "output_type": "stream",
     "text": [
      "iter=690\tepsilon=0.080\treward/step=29.96876\n"
     ]
    },
    {
     "name": "stderr",
     "output_type": "stream",
     "text": [
      " 35%|███▍      | 699/2000 [04:19<07:24,  2.92it/s][2017-06-27 01:04:08,706] Making new env: ppaquette/DoomCorridor-v0\n",
      "[2017-06-27 01:04:08,711] Clearing 2 monitor files from previous run (because force=True was provided)\n"
     ]
    },
    {
     "name": "stdout",
     "output_type": "stream",
     "text": [
      "iter=700\tepsilon=0.079\treward/step=30.47762\n",
      "Episode finished after 35 timesteps with reward=2277.345718383789\n",
      "Episode finished after 34 timesteps with reward=1123.957763671875\n",
      "Episode finished after 51 timesteps with reward=961.134765625\n",
      "Episode finished after 32 timesteps with reward=750.2739105224609\n"
     ]
    },
    {
     "name": "stderr",
     "output_type": "stream",
     "text": [
      "[2017-06-27 01:04:11,359] Finished writing results. You can upload them to the scoreboard via gym.upload('/home/ubuntu/records')\n",
      " 35%|███▌      | 700/2000 [04:22<25:03,  1.16s/it]"
     ]
    },
    {
     "name": "stdout",
     "output_type": "stream",
     "text": [
      "Episode finished after 31 timesteps with reward=1000.0382537841797\n"
     ]
    },
    {
     "name": "stderr",
     "output_type": "stream",
     "text": [
      " 36%|███▌      | 710/2000 [04:26<08:07,  2.64it/s]"
     ]
    },
    {
     "name": "stdout",
     "output_type": "stream",
     "text": [
      "iter=710\tepsilon=0.077\treward/step=30.76269\n"
     ]
    },
    {
     "name": "stderr",
     "output_type": "stream",
     "text": [
      " 36%|███▌      | 720/2000 [04:29<07:34,  2.82it/s]"
     ]
    },
    {
     "name": "stdout",
     "output_type": "stream",
     "text": [
      "iter=720\tepsilon=0.076\treward/step=30.57550\n"
     ]
    },
    {
     "name": "stderr",
     "output_type": "stream",
     "text": [
      " 36%|███▋      | 730/2000 [04:33<07:24,  2.86it/s]"
     ]
    },
    {
     "name": "stdout",
     "output_type": "stream",
     "text": [
      "iter=730\tepsilon=0.075\treward/step=30.59974\n"
     ]
    },
    {
     "name": "stderr",
     "output_type": "stream",
     "text": [
      " 37%|███▋      | 740/2000 [04:36<07:27,  2.81it/s]"
     ]
    },
    {
     "name": "stdout",
     "output_type": "stream",
     "text": [
      "iter=740\tepsilon=0.073\treward/step=31.13199\n"
     ]
    },
    {
     "name": "stderr",
     "output_type": "stream",
     "text": [
      " 37%|███▋      | 749/2000 [04:39<07:06,  2.93it/s][2017-06-27 01:04:28,519] Making new env: ppaquette/DoomCorridor-v0\n",
      "[2017-06-27 01:04:28,524] Clearing 2 monitor files from previous run (because force=True was provided)\n"
     ]
    },
    {
     "name": "stdout",
     "output_type": "stream",
     "text": [
      "iter=750\tepsilon=0.072\treward/step=31.13025\n",
      "Episode finished after 30 timesteps with reward=432.349853515625\n",
      "Episode finished after 44 timesteps with reward=927.0829772949219\n",
      "Episode finished after 36 timesteps with reward=2283.903091430664\n",
      "Episode finished after 41 timesteps with reward=902.1521148681641\n"
     ]
    },
    {
     "name": "stderr",
     "output_type": "stream",
     "text": [
      "[2017-06-27 01:04:31,252] Finished writing results. You can upload them to the scoreboard via gym.upload('/home/ubuntu/records')\n",
      " 38%|███▊      | 750/2000 [04:42<24:30,  1.18s/it]"
     ]
    },
    {
     "name": "stdout",
     "output_type": "stream",
     "text": [
      "Episode finished after 38 timesteps with reward=850.0609283447266\n"
     ]
    },
    {
     "name": "stderr",
     "output_type": "stream",
     "text": [
      " 38%|███▊      | 760/2000 [04:46<07:45,  2.67it/s]"
     ]
    },
    {
     "name": "stdout",
     "output_type": "stream",
     "text": [
      "iter=760\tepsilon=0.071\treward/step=30.04468\n"
     ]
    },
    {
     "name": "stderr",
     "output_type": "stream",
     "text": [
      " 38%|███▊      | 770/2000 [04:49<07:12,  2.85it/s]"
     ]
    },
    {
     "name": "stdout",
     "output_type": "stream",
     "text": [
      "iter=770\tepsilon=0.070\treward/step=29.01749\n"
     ]
    },
    {
     "name": "stderr",
     "output_type": "stream",
     "text": [
      " 39%|███▉      | 780/2000 [04:52<07:11,  2.83it/s]"
     ]
    },
    {
     "name": "stdout",
     "output_type": "stream",
     "text": [
      "iter=780\tepsilon=0.069\treward/step=29.33253\n"
     ]
    },
    {
     "name": "stderr",
     "output_type": "stream",
     "text": [
      " 40%|███▉      | 790/2000 [04:56<07:09,  2.82it/s]"
     ]
    },
    {
     "name": "stdout",
     "output_type": "stream",
     "text": [
      "iter=790\tepsilon=0.068\treward/step=29.14847\n"
     ]
    },
    {
     "name": "stderr",
     "output_type": "stream",
     "text": [
      " 40%|███▉      | 799/2000 [04:59<06:53,  2.90it/s][2017-06-27 01:04:48,399] Making new env: ppaquette/DoomCorridor-v0\n",
      "[2017-06-27 01:04:48,404] Clearing 2 monitor files from previous run (because force=True was provided)\n"
     ]
    },
    {
     "name": "stdout",
     "output_type": "stream",
     "text": [
      "iter=800\tepsilon=0.067\treward/step=29.69556\n",
      "Episode finished after 40 timesteps with reward=2276.0565490722656\n",
      "Episode finished after 35 timesteps with reward=2277.048614501953\n",
      "Episode finished after 41 timesteps with reward=1135.6983489990234\n",
      "Episode finished after 35 timesteps with reward=828.6763916015625\n"
     ]
    },
    {
     "name": "stderr",
     "output_type": "stream",
     "text": [
      "[2017-06-27 01:04:51,119] Finished writing results. You can upload them to the scoreboard via gym.upload('/home/ubuntu/records')\n",
      " 40%|████      | 800/2000 [05:02<23:29,  1.17s/it]"
     ]
    },
    {
     "name": "stdout",
     "output_type": "stream",
     "text": [
      "Episode finished after 37 timesteps with reward=926.6159362792969\n"
     ]
    },
    {
     "name": "stderr",
     "output_type": "stream",
     "text": [
      " 40%|████      | 810/2000 [05:06<07:48,  2.54it/s]"
     ]
    },
    {
     "name": "stdout",
     "output_type": "stream",
     "text": [
      "iter=810\tepsilon=0.067\treward/step=30.45357\n"
     ]
    },
    {
     "name": "stderr",
     "output_type": "stream",
     "text": [
      " 41%|████      | 820/2000 [05:09<07:00,  2.81it/s]"
     ]
    },
    {
     "name": "stdout",
     "output_type": "stream",
     "text": [
      "iter=820\tepsilon=0.066\treward/step=30.82626\n"
     ]
    },
    {
     "name": "stderr",
     "output_type": "stream",
     "text": [
      " 42%|████▏     | 830/2000 [05:13<06:53,  2.83it/s]"
     ]
    },
    {
     "name": "stdout",
     "output_type": "stream",
     "text": [
      "iter=830\tepsilon=0.065\treward/step=31.46167\n"
     ]
    },
    {
     "name": "stderr",
     "output_type": "stream",
     "text": [
      " 42%|████▏     | 840/2000 [05:16<06:46,  2.86it/s]"
     ]
    },
    {
     "name": "stdout",
     "output_type": "stream",
     "text": [
      "iter=840\tepsilon=0.064\treward/step=31.57572\n"
     ]
    },
    {
     "name": "stderr",
     "output_type": "stream",
     "text": [
      " 42%|████▏     | 849/2000 [05:19<06:32,  2.93it/s][2017-06-27 01:05:08,547] Making new env: ppaquette/DoomCorridor-v0\n",
      "[2017-06-27 01:05:08,552] Clearing 2 monitor files from previous run (because force=True was provided)\n"
     ]
    },
    {
     "name": "stdout",
     "output_type": "stream",
     "text": [
      "iter=850\tepsilon=0.064\treward/step=31.80829\n",
      "Episode finished after 28 timesteps with reward=897.4129638671875\n",
      "Episode finished after 54 timesteps with reward=795.8829803466797\n",
      "Episode finished after 42 timesteps with reward=2282.037796020508\n",
      "Episode finished after 36 timesteps with reward=804.3627777099609\n"
     ]
    },
    {
     "name": "stderr",
     "output_type": "stream",
     "text": [
      "[2017-06-27 01:05:11,366] Finished writing results. You can upload them to the scoreboard via gym.upload('/home/ubuntu/records')\n",
      " 42%|████▎     | 850/2000 [05:22<23:08,  1.21s/it]"
     ]
    },
    {
     "name": "stdout",
     "output_type": "stream",
     "text": [
      "Episode finished after 35 timesteps with reward=1008.9905242919922\n"
     ]
    },
    {
     "name": "stderr",
     "output_type": "stream",
     "text": [
      " 43%|████▎     | 860/2000 [05:26<07:11,  2.64it/s]"
     ]
    },
    {
     "name": "stdout",
     "output_type": "stream",
     "text": [
      "iter=860\tepsilon=0.063\treward/step=31.30355\n"
     ]
    },
    {
     "name": "stderr",
     "output_type": "stream",
     "text": [
      " 44%|████▎     | 870/2000 [05:29<06:34,  2.86it/s]"
     ]
    },
    {
     "name": "stdout",
     "output_type": "stream",
     "text": [
      "iter=870\tepsilon=0.062\treward/step=31.58392\n"
     ]
    },
    {
     "name": "stderr",
     "output_type": "stream",
     "text": [
      " 44%|████▍     | 880/2000 [05:33<06:32,  2.85it/s]"
     ]
    },
    {
     "name": "stdout",
     "output_type": "stream",
     "text": [
      "iter=880\tepsilon=0.062\treward/step=31.59053\n"
     ]
    },
    {
     "name": "stderr",
     "output_type": "stream",
     "text": [
      " 44%|████▍     | 890/2000 [05:36<06:29,  2.85it/s]"
     ]
    },
    {
     "name": "stdout",
     "output_type": "stream",
     "text": [
      "iter=890\tepsilon=0.061\treward/step=31.24030\n"
     ]
    },
    {
     "name": "stderr",
     "output_type": "stream",
     "text": [
      " 45%|████▍     | 899/2000 [05:39<06:14,  2.94it/s][2017-06-27 01:05:28,414] Making new env: ppaquette/DoomCorridor-v0\n",
      "[2017-06-27 01:05:28,418] Clearing 2 monitor files from previous run (because force=True was provided)\n"
     ]
    },
    {
     "name": "stdout",
     "output_type": "stream",
     "text": [
      "iter=900\tepsilon=0.061\treward/step=32.05826\n",
      "Episode finished after 27 timesteps with reward=763.8812103271484\n",
      "Episode finished after 28 timesteps with reward=599.3265838623047\n",
      "Episode finished after 40 timesteps with reward=2278.5162811279297\n",
      "Episode finished after 33 timesteps with reward=836.7554016113281\n"
     ]
    },
    {
     "name": "stderr",
     "output_type": "stream",
     "text": [
      "[2017-06-27 01:05:30,801] Finished writing results. You can upload them to the scoreboard via gym.upload('/home/ubuntu/records')\n",
      " 45%|████▌     | 900/2000 [05:42<19:45,  1.08s/it]"
     ]
    },
    {
     "name": "stdout",
     "output_type": "stream",
     "text": [
      "Episode finished after 34 timesteps with reward=2276.163604736328\n"
     ]
    },
    {
     "name": "stderr",
     "output_type": "stream",
     "text": [
      " 46%|████▌     | 910/2000 [05:45<06:48,  2.67it/s]"
     ]
    },
    {
     "name": "stdout",
     "output_type": "stream",
     "text": [
      "iter=910\tepsilon=0.060\treward/step=32.16965\n"
     ]
    },
    {
     "name": "stderr",
     "output_type": "stream",
     "text": [
      " 46%|████▌     | 920/2000 [05:49<06:20,  2.84it/s]"
     ]
    },
    {
     "name": "stdout",
     "output_type": "stream",
     "text": [
      "iter=920\tepsilon=0.060\treward/step=33.87628\n"
     ]
    },
    {
     "name": "stderr",
     "output_type": "stream",
     "text": [
      " 46%|████▋     | 930/2000 [05:52<06:28,  2.75it/s]"
     ]
    },
    {
     "name": "stdout",
     "output_type": "stream",
     "text": [
      "iter=930\tepsilon=0.059\treward/step=34.58097\n"
     ]
    },
    {
     "name": "stderr",
     "output_type": "stream",
     "text": [
      " 47%|████▋     | 940/2000 [05:55<06:11,  2.85it/s]"
     ]
    },
    {
     "name": "stdout",
     "output_type": "stream",
     "text": [
      "iter=940\tepsilon=0.059\treward/step=35.44445\n"
     ]
    },
    {
     "name": "stderr",
     "output_type": "stream",
     "text": [
      " 47%|████▋     | 949/2000 [05:59<06:02,  2.90it/s][2017-06-27 01:05:47,977] Making new env: ppaquette/DoomCorridor-v0\n",
      "[2017-06-27 01:05:47,982] Clearing 2 monitor files from previous run (because force=True was provided)\n"
     ]
    },
    {
     "name": "stdout",
     "output_type": "stream",
     "text": [
      "iter=950\tepsilon=0.058\treward/step=34.52916\n",
      "Episode finished after 34 timesteps with reward=827.0018310546875\n",
      "Episode finished after 34 timesteps with reward=2279.442367553711\n",
      "Episode finished after 24 timesteps with reward=654.9808807373047\n",
      "Episode finished after 35 timesteps with reward=905.4264984130859\n"
     ]
    },
    {
     "name": "stderr",
     "output_type": "stream",
     "text": [
      "[2017-06-27 01:05:50,381] Finished writing results. You can upload them to the scoreboard via gym.upload('/home/ubuntu/records')\n",
      " 48%|████▊     | 950/2000 [06:01<18:58,  1.08s/it]"
     ]
    },
    {
     "name": "stdout",
     "output_type": "stream",
     "text": [
      "Episode finished after 36 timesteps with reward=752.8391723632812\n"
     ]
    },
    {
     "name": "stderr",
     "output_type": "stream",
     "text": [
      " 48%|████▊     | 960/2000 [06:05<06:25,  2.70it/s]"
     ]
    },
    {
     "name": "stdout",
     "output_type": "stream",
     "text": [
      "iter=960\tepsilon=0.058\treward/step=33.50945\n"
     ]
    },
    {
     "name": "stderr",
     "output_type": "stream",
     "text": [
      " 48%|████▊     | 970/2000 [06:08<06:02,  2.84it/s]"
     ]
    },
    {
     "name": "stdout",
     "output_type": "stream",
     "text": [
      "iter=970\tepsilon=0.057\treward/step=34.06074\n"
     ]
    },
    {
     "name": "stderr",
     "output_type": "stream",
     "text": [
      " 49%|████▉     | 980/2000 [06:12<05:56,  2.86it/s]"
     ]
    },
    {
     "name": "stdout",
     "output_type": "stream",
     "text": [
      "iter=980\tepsilon=0.057\treward/step=34.39312\n"
     ]
    },
    {
     "name": "stderr",
     "output_type": "stream",
     "text": [
      " 50%|████▉     | 990/2000 [06:15<05:53,  2.86it/s]"
     ]
    },
    {
     "name": "stdout",
     "output_type": "stream",
     "text": [
      "iter=990\tepsilon=0.057\treward/step=34.09402\n"
     ]
    },
    {
     "name": "stderr",
     "output_type": "stream",
     "text": [
      " 50%|████▉     | 999/2000 [06:18<05:42,  2.92it/s][2017-06-27 01:06:07,424] Making new env: ppaquette/DoomCorridor-v0\n",
      "[2017-06-27 01:06:07,429] Clearing 2 monitor files from previous run (because force=True was provided)\n"
     ]
    },
    {
     "name": "stdout",
     "output_type": "stream",
     "text": [
      "iter=1000\tepsilon=0.056\treward/step=33.47522\n",
      "Episode finished after 31 timesteps with reward=802.7084045410156\n",
      "Episode finished after 32 timesteps with reward=333.76031494140625\n",
      "Episode finished after 37 timesteps with reward=2278.5574798583984\n",
      "Episode finished after 30 timesteps with reward=771.3849182128906\n"
     ]
    },
    {
     "name": "stderr",
     "output_type": "stream",
     "text": [
      "[2017-06-27 01:06:09,830] Finished writing results. You can upload them to the scoreboard via gym.upload('/home/ubuntu/records')\n",
      " 50%|█████     | 1000/2000 [06:21<18:04,  1.08s/it]"
     ]
    },
    {
     "name": "stdout",
     "output_type": "stream",
     "text": [
      "Episode finished after 34 timesteps with reward=792.7579498291016\n"
     ]
    },
    {
     "name": "stderr",
     "output_type": "stream",
     "text": [
      " 50%|█████     | 1010/2000 [06:24<06:09,  2.68it/s]"
     ]
    },
    {
     "name": "stdout",
     "output_type": "stream",
     "text": [
      "iter=1010\tepsilon=0.056\treward/step=33.82328\n"
     ]
    },
    {
     "name": "stderr",
     "output_type": "stream",
     "text": [
      " 51%|█████     | 1020/2000 [06:28<05:45,  2.84it/s]"
     ]
    },
    {
     "name": "stdout",
     "output_type": "stream",
     "text": [
      "iter=1020\tepsilon=0.056\treward/step=34.39929\n"
     ]
    },
    {
     "name": "stderr",
     "output_type": "stream",
     "text": [
      " 52%|█████▏    | 1030/2000 [06:31<05:40,  2.85it/s]"
     ]
    },
    {
     "name": "stdout",
     "output_type": "stream",
     "text": [
      "iter=1030\tepsilon=0.056\treward/step=33.79246\n"
     ]
    },
    {
     "name": "stderr",
     "output_type": "stream",
     "text": [
      " 52%|█████▏    | 1040/2000 [06:34<05:34,  2.87it/s]"
     ]
    },
    {
     "name": "stdout",
     "output_type": "stream",
     "text": [
      "iter=1040\tepsilon=0.055\treward/step=33.73231\n"
     ]
    },
    {
     "name": "stderr",
     "output_type": "stream",
     "text": [
      " 52%|█████▏    | 1049/2000 [06:37<05:32,  2.86it/s][2017-06-27 01:06:26,885] Making new env: ppaquette/DoomCorridor-v0\n",
      "[2017-06-27 01:06:26,890] Clearing 2 monitor files from previous run (because force=True was provided)\n"
     ]
    },
    {
     "name": "stdout",
     "output_type": "stream",
     "text": [
      "iter=1050\tepsilon=0.055\treward/step=34.26493\n",
      "Episode finished after 34 timesteps with reward=2282.417007446289\n",
      "Episode finished after 35 timesteps with reward=2285.1615600585938\n",
      "Episode finished after 34 timesteps with reward=2282.804931640625\n",
      "Episode finished after 31 timesteps with reward=834.1009979248047\n"
     ]
    },
    {
     "name": "stderr",
     "output_type": "stream",
     "text": [
      "[2017-06-27 01:06:29,321] Finished writing results. You can upload them to the scoreboard via gym.upload('/home/ubuntu/records')\n",
      " 52%|█████▎    | 1050/2000 [06:40<17:23,  1.10s/it]"
     ]
    },
    {
     "name": "stdout",
     "output_type": "stream",
     "text": [
      "Episode finished after 31 timesteps with reward=472.3924102783203\n"
     ]
    },
    {
     "name": "stderr",
     "output_type": "stream",
     "text": [
      " 53%|█████▎    | 1060/2000 [06:44<06:00,  2.61it/s]"
     ]
    },
    {
     "name": "stdout",
     "output_type": "stream",
     "text": [
      "iter=1060\tepsilon=0.055\treward/step=35.68690\n"
     ]
    },
    {
     "name": "stderr",
     "output_type": "stream",
     "text": [
      " 54%|█████▎    | 1070/2000 [06:47<05:28,  2.83it/s]"
     ]
    },
    {
     "name": "stdout",
     "output_type": "stream",
     "text": [
      "iter=1070\tepsilon=0.055\treward/step=36.17459\n"
     ]
    },
    {
     "name": "stderr",
     "output_type": "stream",
     "text": [
      " 54%|█████▍    | 1080/2000 [06:51<05:23,  2.85it/s]"
     ]
    },
    {
     "name": "stdout",
     "output_type": "stream",
     "text": [
      "iter=1080\tepsilon=0.054\treward/step=35.69733\n"
     ]
    },
    {
     "name": "stderr",
     "output_type": "stream",
     "text": [
      " 55%|█████▍    | 1090/2000 [06:54<05:17,  2.87it/s]"
     ]
    },
    {
     "name": "stdout",
     "output_type": "stream",
     "text": [
      "iter=1090\tepsilon=0.054\treward/step=36.01778\n"
     ]
    },
    {
     "name": "stderr",
     "output_type": "stream",
     "text": [
      " 55%|█████▍    | 1099/2000 [06:57<05:05,  2.95it/s][2017-06-27 01:06:46,351] Making new env: ppaquette/DoomCorridor-v0\n",
      "[2017-06-27 01:06:46,356] Clearing 2 monitor files from previous run (because force=True was provided)\n"
     ]
    },
    {
     "name": "stdout",
     "output_type": "stream",
     "text": [
      "iter=1100\tepsilon=0.054\treward/step=35.95311\n",
      "Episode finished after 32 timesteps with reward=1029.1439819335938\n",
      "Episode finished after 36 timesteps with reward=2278.1190032958984\n",
      "Episode finished after 34 timesteps with reward=2284.681854248047\n",
      "Episode finished after 31 timesteps with reward=728.5377044677734\n"
     ]
    },
    {
     "name": "stderr",
     "output_type": "stream",
     "text": [
      "[2017-06-27 01:06:48,825] Finished writing results. You can upload them to the scoreboard via gym.upload('/home/ubuntu/records')\n",
      " 55%|█████▌    | 1100/2000 [07:00<16:26,  1.10s/it]"
     ]
    },
    {
     "name": "stdout",
     "output_type": "stream",
     "text": [
      "Episode finished after 37 timesteps with reward=2284.309600830078\n"
     ]
    },
    {
     "name": "stderr",
     "output_type": "stream",
     "text": [
      " 56%|█████▌    | 1110/2000 [07:03<05:32,  2.68it/s]"
     ]
    },
    {
     "name": "stdout",
     "output_type": "stream",
     "text": [
      "iter=1110\tepsilon=0.054\treward/step=34.83153\n"
     ]
    },
    {
     "name": "stderr",
     "output_type": "stream",
     "text": [
      " 56%|█████▌    | 1120/2000 [07:07<05:07,  2.86it/s]"
     ]
    },
    {
     "name": "stdout",
     "output_type": "stream",
     "text": [
      "iter=1120\tepsilon=0.054\treward/step=35.22215\n"
     ]
    },
    {
     "name": "stderr",
     "output_type": "stream",
     "text": [
      " 56%|█████▋    | 1130/2000 [07:10<05:07,  2.83it/s]"
     ]
    },
    {
     "name": "stdout",
     "output_type": "stream",
     "text": [
      "iter=1130\tepsilon=0.053\treward/step=34.80867\n"
     ]
    },
    {
     "name": "stderr",
     "output_type": "stream",
     "text": [
      " 57%|█████▋    | 1140/2000 [07:13<05:04,  2.83it/s]"
     ]
    },
    {
     "name": "stdout",
     "output_type": "stream",
     "text": [
      "iter=1140\tepsilon=0.053\treward/step=34.24681\n"
     ]
    },
    {
     "name": "stderr",
     "output_type": "stream",
     "text": [
      " 57%|█████▋    | 1149/2000 [07:16<04:49,  2.94it/s][2017-06-27 01:07:05,870] Making new env: ppaquette/DoomCorridor-v0\n",
      "[2017-06-27 01:07:05,875] Clearing 2 monitor files from previous run (because force=True was provided)\n"
     ]
    },
    {
     "name": "stdout",
     "output_type": "stream",
     "text": [
      "iter=1150\tepsilon=0.053\treward/step=33.59414\n",
      "Episode finished after 34 timesteps with reward=2279.5372161865234\n",
      "Episode finished after 59 timesteps with reward=2276.1016998291016\n",
      "Episode finished after 59 timesteps with reward=818.1522216796875\n",
      "Episode finished after 31 timesteps with reward=934.8555297851562\n"
     ]
    },
    {
     "name": "stderr",
     "output_type": "stream",
     "text": [
      "[2017-06-27 01:07:08,964] Finished writing results. You can upload them to the scoreboard via gym.upload('/home/ubuntu/records')\n",
      " 57%|█████▊    | 1150/2000 [07:20<18:14,  1.29s/it]"
     ]
    },
    {
     "name": "stdout",
     "output_type": "stream",
     "text": [
      "Episode finished after 34 timesteps with reward=2285.094451904297\n"
     ]
    },
    {
     "name": "stderr",
     "output_type": "stream",
     "text": [
      " 58%|█████▊    | 1160/2000 [07:23<05:25,  2.58it/s]"
     ]
    },
    {
     "name": "stdout",
     "output_type": "stream",
     "text": [
      "iter=1160\tepsilon=0.053\treward/step=34.14389\n"
     ]
    },
    {
     "name": "stderr",
     "output_type": "stream",
     "text": [
      " 58%|█████▊    | 1170/2000 [07:27<04:51,  2.84it/s]"
     ]
    },
    {
     "name": "stdout",
     "output_type": "stream",
     "text": [
      "iter=1170\tepsilon=0.053\treward/step=33.68037\n"
     ]
    },
    {
     "name": "stderr",
     "output_type": "stream",
     "text": [
      " 59%|█████▉    | 1180/2000 [07:30<04:48,  2.85it/s]"
     ]
    },
    {
     "name": "stdout",
     "output_type": "stream",
     "text": [
      "iter=1180\tepsilon=0.053\treward/step=33.97090\n"
     ]
    },
    {
     "name": "stderr",
     "output_type": "stream",
     "text": [
      " 60%|█████▉    | 1190/2000 [07:34<04:44,  2.85it/s]"
     ]
    },
    {
     "name": "stdout",
     "output_type": "stream",
     "text": [
      "iter=1190\tepsilon=0.052\treward/step=33.60183\n"
     ]
    },
    {
     "name": "stderr",
     "output_type": "stream",
     "text": [
      " 60%|█████▉    | 1199/2000 [07:37<04:30,  2.96it/s][2017-06-27 01:07:26,042] Making new env: ppaquette/DoomCorridor-v0\n",
      "[2017-06-27 01:07:26,047] Clearing 2 monitor files from previous run (because force=True was provided)\n"
     ]
    },
    {
     "name": "stdout",
     "output_type": "stream",
     "text": [
      "iter=1200\tepsilon=0.052\treward/step=33.28833\n",
      "Episode finished after 50 timesteps with reward=100.25532531738281\n",
      "Episode finished after 33 timesteps with reward=847.9771423339844\n",
      "Episode finished after 33 timesteps with reward=2276.3172149658203\n",
      "Episode finished after 41 timesteps with reward=819.2161560058594\n"
     ]
    },
    {
     "name": "stderr",
     "output_type": "stream",
     "text": [
      "[2017-06-27 01:07:28,812] Finished writing results. You can upload them to the scoreboard via gym.upload('/home/ubuntu/records')\n",
      " 60%|██████    | 1200/2000 [07:40<15:47,  1.18s/it]"
     ]
    },
    {
     "name": "stdout",
     "output_type": "stream",
     "text": [
      "Episode finished after 37 timesteps with reward=2282.354690551758\n"
     ]
    },
    {
     "name": "stderr",
     "output_type": "stream",
     "text": [
      " 60%|██████    | 1210/2000 [07:43<04:54,  2.68it/s]"
     ]
    },
    {
     "name": "stdout",
     "output_type": "stream",
     "text": [
      "iter=1210\tepsilon=0.052\treward/step=32.85514\n"
     ]
    },
    {
     "name": "stderr",
     "output_type": "stream",
     "text": [
      " 61%|██████    | 1220/2000 [07:47<04:34,  2.84it/s]"
     ]
    },
    {
     "name": "stdout",
     "output_type": "stream",
     "text": [
      "iter=1220\tepsilon=0.052\treward/step=32.10843\n"
     ]
    },
    {
     "name": "stderr",
     "output_type": "stream",
     "text": [
      " 62%|██████▏   | 1230/2000 [07:50<04:27,  2.88it/s]"
     ]
    },
    {
     "name": "stdout",
     "output_type": "stream",
     "text": [
      "iter=1230\tepsilon=0.052\treward/step=31.99057\n"
     ]
    },
    {
     "name": "stderr",
     "output_type": "stream",
     "text": [
      " 62%|██████▏   | 1240/2000 [07:53<04:26,  2.85it/s]"
     ]
    },
    {
     "name": "stdout",
     "output_type": "stream",
     "text": [
      "iter=1240\tepsilon=0.052\treward/step=31.69980\n"
     ]
    },
    {
     "name": "stderr",
     "output_type": "stream",
     "text": [
      " 62%|██████▏   | 1249/2000 [07:56<04:14,  2.95it/s][2017-06-27 01:07:45,775] Making new env: ppaquette/DoomCorridor-v0\n",
      "[2017-06-27 01:07:45,780] Clearing 2 monitor files from previous run (because force=True was provided)\n"
     ]
    },
    {
     "name": "stdout",
     "output_type": "stream",
     "text": [
      "iter=1250\tepsilon=0.052\treward/step=32.21821\n",
      "Episode finished after 36 timesteps with reward=2280.9578857421875\n",
      "Episode finished after 28 timesteps with reward=641.8248901367188\n",
      "Episode finished after 31 timesteps with reward=889.1630249023438\n",
      "Episode finished after 34 timesteps with reward=2278.7420959472656\n"
     ]
    },
    {
     "name": "stderr",
     "output_type": "stream",
     "text": [
      "[2017-06-27 01:07:48,169] Finished writing results. You can upload them to the scoreboard via gym.upload('/home/ubuntu/records')\n",
      " 62%|██████▎   | 1250/2000 [07:59<13:28,  1.08s/it]"
     ]
    },
    {
     "name": "stdout",
     "output_type": "stream",
     "text": [
      "Episode finished after 35 timesteps with reward=2282.2191314697266\n"
     ]
    },
    {
     "name": "stderr",
     "output_type": "stream",
     "text": [
      " 63%|██████▎   | 1260/2000 [08:03<04:33,  2.71it/s]"
     ]
    },
    {
     "name": "stdout",
     "output_type": "stream",
     "text": [
      "iter=1260\tepsilon=0.052\treward/step=32.87367\n"
     ]
    },
    {
     "name": "stderr",
     "output_type": "stream",
     "text": [
      " 64%|██████▎   | 1270/2000 [08:06<04:13,  2.88it/s]"
     ]
    },
    {
     "name": "stdout",
     "output_type": "stream",
     "text": [
      "iter=1270\tepsilon=0.052\treward/step=32.76422\n"
     ]
    },
    {
     "name": "stderr",
     "output_type": "stream",
     "text": [
      " 64%|██████▍   | 1280/2000 [08:09<04:10,  2.87it/s]"
     ]
    },
    {
     "name": "stdout",
     "output_type": "stream",
     "text": [
      "iter=1280\tepsilon=0.052\treward/step=32.86822\n"
     ]
    },
    {
     "name": "stderr",
     "output_type": "stream",
     "text": [
      " 64%|██████▍   | 1290/2000 [08:13<04:11,  2.82it/s]"
     ]
    },
    {
     "name": "stdout",
     "output_type": "stream",
     "text": [
      "iter=1290\tepsilon=0.052\treward/step=32.88466\n"
     ]
    },
    {
     "name": "stderr",
     "output_type": "stream",
     "text": [
      " 65%|██████▍   | 1299/2000 [08:16<04:03,  2.87it/s][2017-06-27 01:08:05,216] Making new env: ppaquette/DoomCorridor-v0\n",
      "[2017-06-27 01:08:05,220] Clearing 2 monitor files from previous run (because force=True was provided)\n"
     ]
    },
    {
     "name": "stdout",
     "output_type": "stream",
     "text": [
      "iter=1300\tepsilon=0.051\treward/step=32.92010\n",
      "Episode finished after 36 timesteps with reward=2278.2271118164062\n",
      "Episode finished after 41 timesteps with reward=969.3654479980469\n",
      "Episode finished after 34 timesteps with reward=1119.1278533935547\n",
      "Episode finished after 54 timesteps with reward=889.1594848632812\n"
     ]
    },
    {
     "name": "stderr",
     "output_type": "stream",
     "text": [
      "[2017-06-27 01:08:08,071] Finished writing results. You can upload them to the scoreboard via gym.upload('/home/ubuntu/records')\n",
      " 65%|██████▌   | 1300/2000 [08:19<14:17,  1.22s/it]"
     ]
    },
    {
     "name": "stdout",
     "output_type": "stream",
     "text": [
      "Episode finished after 32 timesteps with reward=1120.6480255126953\n"
     ]
    },
    {
     "name": "stderr",
     "output_type": "stream",
     "text": [
      " 66%|██████▌   | 1310/2000 [08:22<04:18,  2.67it/s]"
     ]
    },
    {
     "name": "stdout",
     "output_type": "stream",
     "text": [
      "iter=1310\tepsilon=0.051\treward/step=32.20316\n"
     ]
    },
    {
     "name": "stderr",
     "output_type": "stream",
     "text": [
      " 66%|██████▌   | 1320/2000 [08:26<04:00,  2.83it/s]"
     ]
    },
    {
     "name": "stdout",
     "output_type": "stream",
     "text": [
      "iter=1320\tepsilon=0.051\treward/step=32.35424\n"
     ]
    },
    {
     "name": "stderr",
     "output_type": "stream",
     "text": [
      " 66%|██████▋   | 1330/2000 [08:29<03:56,  2.84it/s]"
     ]
    },
    {
     "name": "stdout",
     "output_type": "stream",
     "text": [
      "iter=1330\tepsilon=0.051\treward/step=33.00814\n"
     ]
    },
    {
     "name": "stderr",
     "output_type": "stream",
     "text": [
      " 67%|██████▋   | 1340/2000 [08:33<03:51,  2.84it/s]"
     ]
    },
    {
     "name": "stdout",
     "output_type": "stream",
     "text": [
      "iter=1340\tepsilon=0.051\treward/step=33.15530\n"
     ]
    },
    {
     "name": "stderr",
     "output_type": "stream",
     "text": [
      " 67%|██████▋   | 1349/2000 [08:36<03:42,  2.92it/s][2017-06-27 01:08:25,142] Making new env: ppaquette/DoomCorridor-v0\n",
      "[2017-06-27 01:08:25,147] Clearing 2 monitor files from previous run (because force=True was provided)\n"
     ]
    },
    {
     "name": "stdout",
     "output_type": "stream",
     "text": [
      "iter=1350\tepsilon=0.051\treward/step=33.57905\n",
      "Episode finished after 38 timesteps with reward=2276.1282958984375\n",
      "Episode finished after 40 timesteps with reward=785.7328338623047\n",
      "Episode finished after 35 timesteps with reward=384.69944763183594\n",
      "Episode finished after 24 timesteps with reward=762.8460235595703\n"
     ]
    },
    {
     "name": "stderr",
     "output_type": "stream",
     "text": [
      "[2017-06-27 01:08:27,611] Finished writing results. You can upload them to the scoreboard via gym.upload('/home/ubuntu/records')\n",
      " 68%|██████▊   | 1350/2000 [08:39<11:57,  1.10s/it]"
     ]
    },
    {
     "name": "stdout",
     "output_type": "stream",
     "text": [
      "Episode finished after 33 timesteps with reward=771.3690338134766\n"
     ]
    },
    {
     "name": "stderr",
     "output_type": "stream",
     "text": [
      " 68%|██████▊   | 1360/2000 [08:42<03:59,  2.68it/s]"
     ]
    },
    {
     "name": "stdout",
     "output_type": "stream",
     "text": [
      "iter=1360\tepsilon=0.051\treward/step=32.80442\n"
     ]
    },
    {
     "name": "stderr",
     "output_type": "stream",
     "text": [
      " 68%|██████▊   | 1370/2000 [08:45<03:40,  2.86it/s]"
     ]
    },
    {
     "name": "stdout",
     "output_type": "stream",
     "text": [
      "iter=1370\tepsilon=0.051\treward/step=33.75476\n"
     ]
    },
    {
     "name": "stderr",
     "output_type": "stream",
     "text": [
      " 69%|██████▉   | 1380/2000 [08:49<03:37,  2.84it/s]"
     ]
    },
    {
     "name": "stdout",
     "output_type": "stream",
     "text": [
      "iter=1380\tepsilon=0.051\treward/step=34.33408\n"
     ]
    },
    {
     "name": "stderr",
     "output_type": "stream",
     "text": [
      " 70%|██████▉   | 1390/2000 [08:52<03:33,  2.86it/s]"
     ]
    },
    {
     "name": "stdout",
     "output_type": "stream",
     "text": [
      "iter=1390\tepsilon=0.051\treward/step=34.15933\n"
     ]
    },
    {
     "name": "stderr",
     "output_type": "stream",
     "text": [
      " 70%|██████▉   | 1399/2000 [08:55<03:23,  2.96it/s][2017-06-27 01:08:44,644] Making new env: ppaquette/DoomCorridor-v0\n",
      "[2017-06-27 01:08:44,649] Clearing 2 monitor files from previous run (because force=True was provided)\n"
     ]
    },
    {
     "name": "stdout",
     "output_type": "stream",
     "text": [
      "iter=1400\tepsilon=0.051\treward/step=33.19626\n",
      "Episode finished after 36 timesteps with reward=2280.867919921875\n",
      "Episode finished after 50 timesteps with reward=789.4605255126953\n",
      "Episode finished after 34 timesteps with reward=785.6921844482422\n",
      "Episode finished after 37 timesteps with reward=2280.3851776123047\n"
     ]
    },
    {
     "name": "stderr",
     "output_type": "stream",
     "text": [
      "[2017-06-27 01:08:47,398] Finished writing results. You can upload them to the scoreboard via gym.upload('/home/ubuntu/records')\n",
      " 70%|███████   | 1400/2000 [08:58<11:51,  1.19s/it]"
     ]
    },
    {
     "name": "stdout",
     "output_type": "stream",
     "text": [
      "Episode finished after 35 timesteps with reward=1112.7450714111328\n"
     ]
    },
    {
     "name": "stderr",
     "output_type": "stream",
     "text": [
      " 70%|███████   | 1410/2000 [09:02<03:43,  2.65it/s]"
     ]
    },
    {
     "name": "stdout",
     "output_type": "stream",
     "text": [
      "iter=1410\tepsilon=0.051\treward/step=32.79780\n"
     ]
    },
    {
     "name": "stderr",
     "output_type": "stream",
     "text": [
      " 71%|███████   | 1420/2000 [09:05<03:28,  2.79it/s]"
     ]
    },
    {
     "name": "stdout",
     "output_type": "stream",
     "text": [
      "iter=1420\tepsilon=0.051\treward/step=31.53196\n"
     ]
    },
    {
     "name": "stderr",
     "output_type": "stream",
     "text": [
      " 72%|███████▏  | 1430/2000 [09:09<03:20,  2.84it/s]"
     ]
    },
    {
     "name": "stdout",
     "output_type": "stream",
     "text": [
      "iter=1430\tepsilon=0.051\treward/step=31.69211\n"
     ]
    },
    {
     "name": "stderr",
     "output_type": "stream",
     "text": [
      " 72%|███████▏  | 1440/2000 [09:12<03:17,  2.84it/s]"
     ]
    },
    {
     "name": "stdout",
     "output_type": "stream",
     "text": [
      "iter=1440\tepsilon=0.051\treward/step=31.48277\n"
     ]
    },
    {
     "name": "stderr",
     "output_type": "stream",
     "text": [
      " 72%|███████▏  | 1449/2000 [09:15<03:05,  2.97it/s][2017-06-27 01:09:04,483] Making new env: ppaquette/DoomCorridor-v0\n",
      "[2017-06-27 01:09:04,488] Clearing 2 monitor files from previous run (because force=True was provided)\n"
     ]
    },
    {
     "name": "stdout",
     "output_type": "stream",
     "text": [
      "iter=1450\tepsilon=0.051\treward/step=30.82818\n",
      "Episode finished after 38 timesteps with reward=2280.722930908203\n",
      "Episode finished after 28 timesteps with reward=569.7157287597656\n",
      "Episode finished after 33 timesteps with reward=2276.5055084228516\n",
      "Episode finished after 39 timesteps with reward=2279.7147521972656\n"
     ]
    },
    {
     "name": "stderr",
     "output_type": "stream",
     "text": [
      "[2017-06-27 01:09:06,995] Finished writing results. You can upload them to the scoreboard via gym.upload('/home/ubuntu/records')\n",
      " 72%|███████▎  | 1450/2000 [09:18<10:12,  1.11s/it]"
     ]
    },
    {
     "name": "stdout",
     "output_type": "stream",
     "text": [
      "Episode finished after 35 timesteps with reward=2283.1038818359375\n"
     ]
    },
    {
     "name": "stderr",
     "output_type": "stream",
     "text": [
      " 73%|███████▎  | 1460/2000 [09:21<03:21,  2.68it/s]"
     ]
    },
    {
     "name": "stdout",
     "output_type": "stream",
     "text": [
      "iter=1460\tepsilon=0.051\treward/step=30.70028\n"
     ]
    },
    {
     "name": "stderr",
     "output_type": "stream",
     "text": [
      " 74%|███████▎  | 1470/2000 [09:25<03:06,  2.84it/s]"
     ]
    },
    {
     "name": "stdout",
     "output_type": "stream",
     "text": [
      "iter=1470\tepsilon=0.051\treward/step=31.67080\n"
     ]
    },
    {
     "name": "stderr",
     "output_type": "stream",
     "text": [
      " 74%|███████▍  | 1480/2000 [09:28<03:02,  2.84it/s]"
     ]
    },
    {
     "name": "stdout",
     "output_type": "stream",
     "text": [
      "iter=1480\tepsilon=0.051\treward/step=31.81816\n"
     ]
    },
    {
     "name": "stderr",
     "output_type": "stream",
     "text": [
      " 74%|███████▍  | 1490/2000 [09:32<02:59,  2.84it/s]"
     ]
    },
    {
     "name": "stdout",
     "output_type": "stream",
     "text": [
      "iter=1490\tepsilon=0.051\treward/step=31.58222\n"
     ]
    },
    {
     "name": "stderr",
     "output_type": "stream",
     "text": [
      " 75%|███████▍  | 1499/2000 [09:35<02:49,  2.96it/s][2017-06-27 01:09:24,044] Making new env: ppaquette/DoomCorridor-v0\n",
      "[2017-06-27 01:09:24,048] Clearing 2 monitor files from previous run (because force=True was provided)\n"
     ]
    },
    {
     "name": "stdout",
     "output_type": "stream",
     "text": [
      "iter=1500\tepsilon=0.051\treward/step=30.92949\n",
      "Episode finished after 25 timesteps with reward=635.4564208984375\n",
      "Episode finished after 44 timesteps with reward=-9.501983642578125\n",
      "Episode finished after 44 timesteps with reward=11.48284912109375\n",
      "Episode finished after 38 timesteps with reward=2277.7506256103516\n"
     ]
    },
    {
     "name": "stderr",
     "output_type": "stream",
     "text": [
      "[2017-06-27 01:09:27,078] Finished writing results. You can upload them to the scoreboard via gym.upload('/home/ubuntu/records')\n",
      " 75%|███████▌  | 1500/2000 [09:38<10:34,  1.27s/it]"
     ]
    },
    {
     "name": "stdout",
     "output_type": "stream",
     "text": [
      "Episode finished after 63 timesteps with reward=2279.3477630615234\n"
     ]
    },
    {
     "name": "stderr",
     "output_type": "stream",
     "text": [
      " 76%|███████▌  | 1510/2000 [09:41<03:04,  2.66it/s]"
     ]
    },
    {
     "name": "stdout",
     "output_type": "stream",
     "text": [
      "iter=1510\tepsilon=0.050\treward/step=31.37035\n"
     ]
    },
    {
     "name": "stderr",
     "output_type": "stream",
     "text": [
      " 76%|███████▌  | 1520/2000 [09:45<02:48,  2.85it/s]"
     ]
    },
    {
     "name": "stdout",
     "output_type": "stream",
     "text": [
      "iter=1520\tepsilon=0.050\treward/step=31.99865\n"
     ]
    },
    {
     "name": "stderr",
     "output_type": "stream",
     "text": [
      " 76%|███████▋  | 1530/2000 [09:48<02:43,  2.87it/s]"
     ]
    },
    {
     "name": "stdout",
     "output_type": "stream",
     "text": [
      "iter=1530\tepsilon=0.050\treward/step=31.54818\n"
     ]
    },
    {
     "name": "stderr",
     "output_type": "stream",
     "text": [
      " 77%|███████▋  | 1540/2000 [09:52<02:44,  2.79it/s]"
     ]
    },
    {
     "name": "stdout",
     "output_type": "stream",
     "text": [
      "iter=1540\tepsilon=0.050\treward/step=30.85957\n"
     ]
    },
    {
     "name": "stderr",
     "output_type": "stream",
     "text": [
      " 77%|███████▋  | 1549/2000 [09:55<02:32,  2.95it/s][2017-06-27 01:09:44,091] Making new env: ppaquette/DoomCorridor-v0\n",
      "[2017-06-27 01:09:44,096] Clearing 2 monitor files from previous run (because force=True was provided)\n"
     ]
    },
    {
     "name": "stdout",
     "output_type": "stream",
     "text": [
      "iter=1550\tepsilon=0.050\treward/step=31.36216\n",
      "Episode finished after 30 timesteps with reward=987.3770904541016\n",
      "Episode finished after 44 timesteps with reward=292.77333068847656\n",
      "Episode finished after 35 timesteps with reward=2280.634796142578\n",
      "Episode finished after 35 timesteps with reward=1125.0271606445312\n"
     ]
    },
    {
     "name": "stderr",
     "output_type": "stream",
     "text": [
      "[2017-06-27 01:09:46,661] Finished writing results. You can upload them to the scoreboard via gym.upload('/home/ubuntu/records')\n",
      " 78%|███████▊  | 1550/2000 [09:58<08:28,  1.13s/it]"
     ]
    },
    {
     "name": "stdout",
     "output_type": "stream",
     "text": [
      "Episode finished after 33 timesteps with reward=2277.715530395508\n"
     ]
    },
    {
     "name": "stderr",
     "output_type": "stream",
     "text": [
      " 78%|███████▊  | 1560/2000 [10:01<02:44,  2.67it/s]"
     ]
    },
    {
     "name": "stdout",
     "output_type": "stream",
     "text": [
      "iter=1560\tepsilon=0.050\treward/step=31.80722\n"
     ]
    },
    {
     "name": "stderr",
     "output_type": "stream",
     "text": [
      " 78%|███████▊  | 1570/2000 [10:04<02:30,  2.87it/s]"
     ]
    },
    {
     "name": "stdout",
     "output_type": "stream",
     "text": [
      "iter=1570\tepsilon=0.050\treward/step=31.17907\n"
     ]
    },
    {
     "name": "stderr",
     "output_type": "stream",
     "text": [
      " 79%|███████▉  | 1580/2000 [10:08<02:27,  2.85it/s]"
     ]
    },
    {
     "name": "stdout",
     "output_type": "stream",
     "text": [
      "iter=1580\tepsilon=0.050\treward/step=30.99263\n"
     ]
    },
    {
     "name": "stderr",
     "output_type": "stream",
     "text": [
      " 80%|███████▉  | 1590/2000 [10:11<02:24,  2.84it/s]"
     ]
    },
    {
     "name": "stdout",
     "output_type": "stream",
     "text": [
      "iter=1590\tepsilon=0.050\treward/step=31.33238\n"
     ]
    },
    {
     "name": "stderr",
     "output_type": "stream",
     "text": [
      " 80%|███████▉  | 1599/2000 [10:14<02:16,  2.93it/s][2017-06-27 01:10:03,682] Making new env: ppaquette/DoomCorridor-v0\n",
      "[2017-06-27 01:10:03,686] Clearing 2 monitor files from previous run (because force=True was provided)\n"
     ]
    },
    {
     "name": "stdout",
     "output_type": "stream",
     "text": [
      "iter=1600\tepsilon=0.050\treward/step=31.82029\n",
      "Episode finished after 33 timesteps with reward=1026.4235229492188\n",
      "Episode finished after 35 timesteps with reward=2278.8130798339844\n",
      "Episode finished after 34 timesteps with reward=2277.79248046875\n",
      "Episode finished after 31 timesteps with reward=556.6439208984375\n"
     ]
    },
    {
     "name": "stderr",
     "output_type": "stream",
     "text": [
      "[2017-06-27 01:10:06,118] Finished writing results. You can upload them to the scoreboard via gym.upload('/home/ubuntu/records')\n",
      " 80%|████████  | 1600/2000 [10:17<07:17,  1.09s/it]"
     ]
    },
    {
     "name": "stdout",
     "output_type": "stream",
     "text": [
      "Episode finished after 34 timesteps with reward=1050.5899353027344\n"
     ]
    },
    {
     "name": "stderr",
     "output_type": "stream",
     "text": [
      " 80%|████████  | 1610/2000 [10:21<02:27,  2.65it/s]"
     ]
    },
    {
     "name": "stdout",
     "output_type": "stream",
     "text": [
      "iter=1610\tepsilon=0.050\treward/step=32.60418\n"
     ]
    },
    {
     "name": "stderr",
     "output_type": "stream",
     "text": [
      " 81%|████████  | 1620/2000 [10:24<02:15,  2.81it/s]"
     ]
    },
    {
     "name": "stdout",
     "output_type": "stream",
     "text": [
      "iter=1620\tepsilon=0.050\treward/step=32.84599\n"
     ]
    },
    {
     "name": "stderr",
     "output_type": "stream",
     "text": [
      " 82%|████████▏ | 1630/2000 [10:27<02:11,  2.81it/s]"
     ]
    },
    {
     "name": "stdout",
     "output_type": "stream",
     "text": [
      "iter=1630\tepsilon=0.050\treward/step=32.45057\n"
     ]
    },
    {
     "name": "stderr",
     "output_type": "stream",
     "text": [
      " 82%|████████▏ | 1640/2000 [10:31<02:07,  2.83it/s]"
     ]
    },
    {
     "name": "stdout",
     "output_type": "stream",
     "text": [
      "iter=1640\tepsilon=0.050\treward/step=31.91880\n"
     ]
    },
    {
     "name": "stderr",
     "output_type": "stream",
     "text": [
      " 82%|████████▏ | 1649/2000 [10:34<01:59,  2.95it/s][2017-06-27 01:10:23,296] Making new env: ppaquette/DoomCorridor-v0\n",
      "[2017-06-27 01:10:23,301] Clearing 2 monitor files from previous run (because force=True was provided)\n"
     ]
    },
    {
     "name": "stdout",
     "output_type": "stream",
     "text": [
      "iter=1650\tepsilon=0.050\treward/step=30.82425\n",
      "Episode finished after 36 timesteps with reward=2279.613739013672\n",
      "Episode finished after 40 timesteps with reward=2283.773696899414\n",
      "Episode finished after 37 timesteps with reward=2287.654815673828\n",
      "Episode finished after 35 timesteps with reward=816.1015014648438\n"
     ]
    },
    {
     "name": "stderr",
     "output_type": "stream",
     "text": [
      "[2017-06-27 01:10:25,943] Finished writing results. You can upload them to the scoreboard via gym.upload('/home/ubuntu/records')\n",
      " 82%|████████▎ | 1650/2000 [10:37<06:44,  1.15s/it]"
     ]
    },
    {
     "name": "stdout",
     "output_type": "stream",
     "text": [
      "Episode finished after 34 timesteps with reward=2280.8277282714844\n"
     ]
    },
    {
     "name": "stderr",
     "output_type": "stream",
     "text": [
      " 83%|████████▎ | 1660/2000 [10:41<02:16,  2.50it/s]"
     ]
    },
    {
     "name": "stdout",
     "output_type": "stream",
     "text": [
      "iter=1660\tepsilon=0.050\treward/step=31.29086\n"
     ]
    },
    {
     "name": "stderr",
     "output_type": "stream",
     "text": [
      " 84%|████████▎ | 1670/2000 [10:44<01:55,  2.85it/s]"
     ]
    },
    {
     "name": "stdout",
     "output_type": "stream",
     "text": [
      "iter=1670\tepsilon=0.050\treward/step=30.56617\n"
     ]
    },
    {
     "name": "stderr",
     "output_type": "stream",
     "text": [
      " 84%|████████▍ | 1680/2000 [10:47<01:53,  2.83it/s]"
     ]
    },
    {
     "name": "stdout",
     "output_type": "stream",
     "text": [
      "iter=1680\tepsilon=0.050\treward/step=30.54943\n"
     ]
    },
    {
     "name": "stderr",
     "output_type": "stream",
     "text": [
      " 84%|████████▍ | 1690/2000 [10:51<01:48,  2.85it/s]"
     ]
    },
    {
     "name": "stdout",
     "output_type": "stream",
     "text": [
      "iter=1690\tepsilon=0.050\treward/step=31.15392\n"
     ]
    },
    {
     "name": "stderr",
     "output_type": "stream",
     "text": [
      " 85%|████████▍ | 1699/2000 [10:54<01:42,  2.94it/s][2017-06-27 01:10:43,277] Making new env: ppaquette/DoomCorridor-v0\n",
      "[2017-06-27 01:10:43,282] Clearing 2 monitor files from previous run (because force=True was provided)\n"
     ]
    },
    {
     "name": "stdout",
     "output_type": "stream",
     "text": [
      "iter=1700\tepsilon=0.050\treward/step=31.75930\n",
      "Episode finished after 40 timesteps with reward=2279.863006591797\n",
      "Episode finished after 35 timesteps with reward=914.619140625\n",
      "Episode finished after 57 timesteps with reward=-111.94032287597656\n",
      "Episode finished after 29 timesteps with reward=491.5217742919922\n"
     ]
    },
    {
     "name": "stderr",
     "output_type": "stream",
     "text": [
      "[2017-06-27 01:10:45,973] Finished writing results. You can upload them to the scoreboard via gym.upload('/home/ubuntu/records')\n",
      " 85%|████████▌ | 1700/2000 [10:57<05:50,  1.17s/it]"
     ]
    },
    {
     "name": "stdout",
     "output_type": "stream",
     "text": [
      "Episode finished after 28 timesteps with reward=508.3809509277344\n"
     ]
    },
    {
     "name": "stderr",
     "output_type": "stream",
     "text": [
      " 86%|████████▌ | 1710/2000 [11:00<01:48,  2.66it/s]"
     ]
    },
    {
     "name": "stdout",
     "output_type": "stream",
     "text": [
      "iter=1710\tepsilon=0.050\treward/step=32.41043\n"
     ]
    },
    {
     "name": "stderr",
     "output_type": "stream",
     "text": [
      " 86%|████████▌ | 1720/2000 [11:04<01:38,  2.85it/s]"
     ]
    },
    {
     "name": "stdout",
     "output_type": "stream",
     "text": [
      "iter=1720\tepsilon=0.050\treward/step=33.11517\n"
     ]
    },
    {
     "name": "stderr",
     "output_type": "stream",
     "text": [
      " 86%|████████▋ | 1730/2000 [11:07<01:34,  2.87it/s]"
     ]
    },
    {
     "name": "stdout",
     "output_type": "stream",
     "text": [
      "iter=1730\tepsilon=0.050\treward/step=32.92467\n"
     ]
    },
    {
     "name": "stderr",
     "output_type": "stream",
     "text": [
      " 87%|████████▋ | 1740/2000 [11:11<01:31,  2.86it/s]"
     ]
    },
    {
     "name": "stdout",
     "output_type": "stream",
     "text": [
      "iter=1740\tepsilon=0.050\treward/step=33.45608\n"
     ]
    },
    {
     "name": "stderr",
     "output_type": "stream",
     "text": [
      " 87%|████████▋ | 1749/2000 [11:14<01:25,  2.94it/s][2017-06-27 01:11:02,970] Making new env: ppaquette/DoomCorridor-v0\n",
      "[2017-06-27 01:11:02,975] Clearing 2 monitor files from previous run (because force=True was provided)\n"
     ]
    },
    {
     "name": "stdout",
     "output_type": "stream",
     "text": [
      "iter=1750\tepsilon=0.050\treward/step=34.99171\n",
      "Episode finished after 29 timesteps with reward=762.1045227050781\n",
      "Episode finished after 64 timesteps with reward=537.4701995849609\n",
      "Episode finished after 36 timesteps with reward=1075.2371978759766\n",
      "Episode finished after 31 timesteps with reward=1085.6559295654297\n"
     ]
    },
    {
     "name": "stderr",
     "output_type": "stream",
     "text": [
      "[2017-06-27 01:11:05,732] Finished writing results. You can upload them to the scoreboard via gym.upload('/home/ubuntu/records')\n",
      " 88%|████████▊ | 1750/2000 [11:17<04:57,  1.19s/it]"
     ]
    },
    {
     "name": "stdout",
     "output_type": "stream",
     "text": [
      "Episode finished after 34 timesteps with reward=2280.095657348633\n"
     ]
    },
    {
     "name": "stderr",
     "output_type": "stream",
     "text": [
      " 88%|████████▊ | 1760/2000 [11:20<01:29,  2.68it/s]"
     ]
    },
    {
     "name": "stdout",
     "output_type": "stream",
     "text": [
      "iter=1760\tepsilon=0.050\treward/step=35.15954\n"
     ]
    },
    {
     "name": "stderr",
     "output_type": "stream",
     "text": [
      " 88%|████████▊ | 1770/2000 [11:23<01:20,  2.84it/s]"
     ]
    },
    {
     "name": "stdout",
     "output_type": "stream",
     "text": [
      "iter=1770\tepsilon=0.050\treward/step=34.22099\n"
     ]
    },
    {
     "name": "stderr",
     "output_type": "stream",
     "text": [
      " 89%|████████▉ | 1780/2000 [11:27<01:17,  2.85it/s]"
     ]
    },
    {
     "name": "stdout",
     "output_type": "stream",
     "text": [
      "iter=1780\tepsilon=0.050\treward/step=34.35918\n"
     ]
    },
    {
     "name": "stderr",
     "output_type": "stream",
     "text": [
      " 90%|████████▉ | 1790/2000 [11:30<01:14,  2.83it/s]"
     ]
    },
    {
     "name": "stdout",
     "output_type": "stream",
     "text": [
      "iter=1790\tepsilon=0.050\treward/step=35.21701\n"
     ]
    },
    {
     "name": "stderr",
     "output_type": "stream",
     "text": [
      " 90%|████████▉ | 1799/2000 [11:33<01:08,  2.92it/s][2017-06-27 01:11:22,742] Making new env: ppaquette/DoomCorridor-v0\n",
      "[2017-06-27 01:11:22,747] Clearing 2 monitor files from previous run (because force=True was provided)\n"
     ]
    },
    {
     "name": "stdout",
     "output_type": "stream",
     "text": [
      "iter=1800\tepsilon=0.050\treward/step=35.20044\n",
      "Episode finished after 38 timesteps with reward=1061.8414306640625\n",
      "Episode finished after 35 timesteps with reward=1131.4617156982422\n",
      "Episode finished after 33 timesteps with reward=1046.8216400146484\n",
      "Episode finished after 32 timesteps with reward=970.6306304931641\n"
     ]
    },
    {
     "name": "stderr",
     "output_type": "stream",
     "text": [
      "[2017-06-27 01:11:25,246] Finished writing results. You can upload them to the scoreboard via gym.upload('/home/ubuntu/records')\n",
      " 90%|█████████ | 1800/2000 [11:36<03:42,  1.11s/it]"
     ]
    },
    {
     "name": "stdout",
     "output_type": "stream",
     "text": [
      "Episode finished after 33 timesteps with reward=2277.5377044677734\n"
     ]
    },
    {
     "name": "stderr",
     "output_type": "stream",
     "text": [
      " 90%|█████████ | 1810/2000 [11:40<01:10,  2.69it/s]"
     ]
    },
    {
     "name": "stdout",
     "output_type": "stream",
     "text": [
      "iter=1810\tepsilon=0.050\treward/step=34.74933\n"
     ]
    },
    {
     "name": "stderr",
     "output_type": "stream",
     "text": [
      " 91%|█████████ | 1820/2000 [11:43<01:02,  2.87it/s]"
     ]
    },
    {
     "name": "stdout",
     "output_type": "stream",
     "text": [
      "iter=1820\tepsilon=0.050\treward/step=35.36044\n"
     ]
    },
    {
     "name": "stderr",
     "output_type": "stream",
     "text": [
      " 92%|█████████▏| 1830/2000 [11:46<01:00,  2.83it/s]"
     ]
    },
    {
     "name": "stdout",
     "output_type": "stream",
     "text": [
      "iter=1830\tepsilon=0.050\treward/step=35.88809\n"
     ]
    },
    {
     "name": "stderr",
     "output_type": "stream",
     "text": [
      " 92%|█████████▏| 1840/2000 [11:50<00:56,  2.83it/s]"
     ]
    },
    {
     "name": "stdout",
     "output_type": "stream",
     "text": [
      "iter=1840\tepsilon=0.050\treward/step=36.83440\n"
     ]
    },
    {
     "name": "stderr",
     "output_type": "stream",
     "text": [
      " 92%|█████████▏| 1849/2000 [11:53<00:51,  2.93it/s][2017-06-27 01:11:42,277] Making new env: ppaquette/DoomCorridor-v0\n",
      "[2017-06-27 01:11:42,282] Clearing 2 monitor files from previous run (because force=True was provided)\n"
     ]
    },
    {
     "name": "stdout",
     "output_type": "stream",
     "text": [
      "iter=1850\tepsilon=0.050\treward/step=35.72233\n",
      "Episode finished after 31 timesteps with reward=816.692138671875\n",
      "Episode finished after 34 timesteps with reward=2278.001663208008\n",
      "Episode finished after 29 timesteps with reward=863.1090240478516\n",
      "Episode finished after 38 timesteps with reward=2277.2149353027344\n"
     ]
    },
    {
     "name": "stderr",
     "output_type": "stream",
     "text": [
      "[2017-06-27 01:11:44,691] Finished writing results. You can upload them to the scoreboard via gym.upload('/home/ubuntu/records')\n",
      " 92%|█████████▎| 1850/2000 [11:56<02:42,  1.09s/it]"
     ]
    },
    {
     "name": "stdout",
     "output_type": "stream",
     "text": [
      "Episode finished after 33 timesteps with reward=744.3194732666016\n"
     ]
    },
    {
     "name": "stderr",
     "output_type": "stream",
     "text": [
      " 93%|█████████▎| 1860/2000 [11:59<00:52,  2.68it/s]"
     ]
    },
    {
     "name": "stdout",
     "output_type": "stream",
     "text": [
      "iter=1860\tepsilon=0.050\treward/step=35.77450\n"
     ]
    },
    {
     "name": "stderr",
     "output_type": "stream",
     "text": [
      " 94%|█████████▎| 1870/2000 [12:02<00:45,  2.84it/s]"
     ]
    },
    {
     "name": "stdout",
     "output_type": "stream",
     "text": [
      "iter=1870\tepsilon=0.050\treward/step=35.49409\n"
     ]
    },
    {
     "name": "stderr",
     "output_type": "stream",
     "text": [
      " 94%|█████████▍| 1880/2000 [12:06<00:42,  2.85it/s]"
     ]
    },
    {
     "name": "stdout",
     "output_type": "stream",
     "text": [
      "iter=1880\tepsilon=0.050\treward/step=36.01794\n"
     ]
    },
    {
     "name": "stderr",
     "output_type": "stream",
     "text": [
      " 94%|█████████▍| 1890/2000 [12:09<00:38,  2.84it/s]"
     ]
    },
    {
     "name": "stdout",
     "output_type": "stream",
     "text": [
      "iter=1890\tepsilon=0.050\treward/step=36.71122\n"
     ]
    },
    {
     "name": "stderr",
     "output_type": "stream",
     "text": [
      " 95%|█████████▍| 1899/2000 [12:12<00:34,  2.96it/s][2017-06-27 01:12:01,711] Making new env: ppaquette/DoomCorridor-v0\n",
      "[2017-06-27 01:12:01,716] Clearing 2 monitor files from previous run (because force=True was provided)\n"
     ]
    },
    {
     "name": "stdout",
     "output_type": "stream",
     "text": [
      "iter=1900\tepsilon=0.050\treward/step=37.26940\n",
      "Episode finished after 28 timesteps with reward=748.9843597412109\n",
      "Episode finished after 34 timesteps with reward=452.071044921875\n",
      "Episode finished after 29 timesteps with reward=395.4964599609375\n",
      "Episode finished after 36 timesteps with reward=2279.9840545654297\n"
     ]
    },
    {
     "name": "stderr",
     "output_type": "stream",
     "text": [
      "[2017-06-27 01:12:03,945] Finished writing results. You can upload them to the scoreboard via gym.upload('/home/ubuntu/records')\n",
      " 95%|█████████▌| 1900/2000 [12:15<01:42,  1.03s/it]"
     ]
    },
    {
     "name": "stdout",
     "output_type": "stream",
     "text": [
      "Episode finished after 24 timesteps with reward=613.8193664550781\n"
     ]
    },
    {
     "name": "stderr",
     "output_type": "stream",
     "text": [
      " 96%|█████████▌| 1910/2000 [12:18<00:33,  2.72it/s]"
     ]
    },
    {
     "name": "stdout",
     "output_type": "stream",
     "text": [
      "iter=1910\tepsilon=0.050\treward/step=36.30229\n"
     ]
    },
    {
     "name": "stderr",
     "output_type": "stream",
     "text": [
      " 96%|█████████▌| 1920/2000 [12:22<00:28,  2.81it/s]"
     ]
    },
    {
     "name": "stdout",
     "output_type": "stream",
     "text": [
      "iter=1920\tepsilon=0.050\treward/step=36.31155\n"
     ]
    },
    {
     "name": "stderr",
     "output_type": "stream",
     "text": [
      " 96%|█████████▋| 1930/2000 [12:25<00:24,  2.85it/s]"
     ]
    },
    {
     "name": "stdout",
     "output_type": "stream",
     "text": [
      "iter=1930\tepsilon=0.050\treward/step=36.36900\n"
     ]
    },
    {
     "name": "stderr",
     "output_type": "stream",
     "text": [
      " 97%|█████████▋| 1940/2000 [12:29<00:20,  2.87it/s]"
     ]
    },
    {
     "name": "stdout",
     "output_type": "stream",
     "text": [
      "iter=1940\tepsilon=0.050\treward/step=37.72208\n"
     ]
    },
    {
     "name": "stderr",
     "output_type": "stream",
     "text": [
      " 97%|█████████▋| 1949/2000 [12:32<00:17,  3.00it/s][2017-06-27 01:12:20,939] Making new env: ppaquette/DoomCorridor-v0\n",
      "[2017-06-27 01:12:20,944] Clearing 2 monitor files from previous run (because force=True was provided)\n"
     ]
    },
    {
     "name": "stdout",
     "output_type": "stream",
     "text": [
      "iter=1950\tepsilon=0.050\treward/step=37.37733\n",
      "Episode finished after 35 timesteps with reward=2282.3616943359375\n",
      "Episode finished after 37 timesteps with reward=2278.749038696289\n",
      "Episode finished after 29 timesteps with reward=636.9063262939453\n",
      "Episode finished after 36 timesteps with reward=2281.190231323242\n"
     ]
    },
    {
     "name": "stderr",
     "output_type": "stream",
     "text": [
      "[2017-06-27 01:12:23,442] Finished writing results. You can upload them to the scoreboard via gym.upload('/home/ubuntu/records')\n",
      " 98%|█████████▊| 1950/2000 [12:34<00:55,  1.11s/it]"
     ]
    },
    {
     "name": "stdout",
     "output_type": "stream",
     "text": [
      "Episode finished after 36 timesteps with reward=2278.3212890625\n"
     ]
    },
    {
     "name": "stderr",
     "output_type": "stream",
     "text": [
      " 98%|█████████▊| 1960/2000 [12:38<00:15,  2.67it/s]"
     ]
    },
    {
     "name": "stdout",
     "output_type": "stream",
     "text": [
      "iter=1960\tepsilon=0.050\treward/step=36.26636\n"
     ]
    },
    {
     "name": "stderr",
     "output_type": "stream",
     "text": [
      " 98%|█████████▊| 1970/2000 [12:41<00:10,  2.81it/s]"
     ]
    },
    {
     "name": "stdout",
     "output_type": "stream",
     "text": [
      "iter=1970\tepsilon=0.050\treward/step=36.56681\n"
     ]
    },
    {
     "name": "stderr",
     "output_type": "stream",
     "text": [
      " 99%|█████████▉| 1980/2000 [12:45<00:07,  2.85it/s]"
     ]
    },
    {
     "name": "stdout",
     "output_type": "stream",
     "text": [
      "iter=1980\tepsilon=0.050\treward/step=36.38050\n"
     ]
    },
    {
     "name": "stderr",
     "output_type": "stream",
     "text": [
      "100%|█████████▉| 1990/2000 [12:48<00:03,  2.86it/s]"
     ]
    },
    {
     "name": "stdout",
     "output_type": "stream",
     "text": [
      "iter=1990\tepsilon=0.050\treward/step=34.76856\n"
     ]
    },
    {
     "name": "stderr",
     "output_type": "stream",
     "text": [
      "100%|█████████▉| 1999/2000 [12:51<00:00,  2.98it/s][2017-06-27 01:12:40,499] Making new env: ppaquette/DoomCorridor-v0\n",
      "[2017-06-27 01:12:40,504] Clearing 2 monitor files from previous run (because force=True was provided)\n"
     ]
    },
    {
     "name": "stdout",
     "output_type": "stream",
     "text": [
      "iter=2000\tepsilon=0.050\treward/step=35.00850\n",
      "Episode finished after 43 timesteps with reward=2276.187042236328\n",
      "Episode finished after 32 timesteps with reward=957.85009765625\n",
      "Episode finished after 28 timesteps with reward=822.2978363037109\n",
      "Episode finished after 49 timesteps with reward=2278.8570098876953\n"
     ]
    },
    {
     "name": "stderr",
     "output_type": "stream",
     "text": [
      "[2017-06-27 01:12:43,069] Finished writing results. You can upload them to the scoreboard via gym.upload('/home/ubuntu/records')\n",
      "100%|██████████| 2000/2000 [12:54<00:00,  1.13s/it]"
     ]
    },
    {
     "name": "stdout",
     "output_type": "stream",
     "text": [
      "Episode finished after 27 timesteps with reward=351.53736877441406\n"
     ]
    },
    {
     "name": "stderr",
     "output_type": "stream",
     "text": [
      "\n"
     ]
    }
   ],
   "source": [
    "from tqdm import trange\n",
    "#the loop may take eons to finish.\n",
    "#consider interrupting early.\n",
    "for i in trange(2000):    \n",
    "    \n",
    "    \n",
    "    #train\n",
    "    pool.update(SEQ_LENGTH, append=True)\n",
    "    \n",
    "    loss = train_step()\n",
    "    \n",
    "    targetnet.load_weights(0.01)\n",
    "    \n",
    "    ##update resolver's epsilon (chance of random action instead of optimal one)\n",
    "    current_epsilon = 0.05 + 0.95*np.exp(-epoch_counter/200.)\n",
    "    action_layer.epsilon.set_value(np.float32(current_epsilon))\n",
    "    \n",
    "    if epoch_counter%10==0:\n",
    "        #average reward per game tick in current experience replay pool\n",
    "        pool_mean_reward = pool.experience_replay.rewards.get_value().mean()\n",
    "        print(\"iter=%i\\tepsilon=%.3f\\treward/step=%.5f\"%(epoch_counter,\n",
    "                                                         current_epsilon,\n",
    "                                                         pool_mean_reward))\n",
    "        \n",
    "    ##record current learning progress and show learning curves\n",
    "    if epoch_counter%50 ==0:\n",
    "        rewards[epoch_counter] = pool.evaluate(5, record_video=False)\n",
    "    \n",
    "    epoch_counter  +=1\n",
    "\n",
    "    \n",
    "# Time to drink some coffee!"
   ]
  },
  {
   "cell_type": "markdown",
   "metadata": {},
   "source": [
    "# Evaluating results\n",
    " * Here we plot learning curves and sample testimonials"
   ]
  },
  {
   "cell_type": "code",
   "execution_count": 22,
   "metadata": {},
   "outputs": [
    {
     "data": {
      "text/plain": [
       "[<matplotlib.lines.Line2D at 0x7f7d4eaf6c50>]"
      ]
     },
     "execution_count": 22,
     "metadata": {},
     "output_type": "execute_result"
    },
    {
     "data": {
      "image/png": "[encoded data removed]",
      "text/plain": [
       "<matplotlib.figure.Figure at 0x7f7d4f537ba8>"
      ]
     },
     "metadata": {},
     "output_type": "display_data"
    }
   ],
   "source": [
    "time,rw = zip(*sorted(list(rewards.items()),key=lambda p:p[0]))\n",
    "plt.plot(time,list(map(np.mean,rw)))\n",
    "    "
   ]
  },
  {
   "cell_type": "code",
   "execution_count": 25,
   "metadata": {},
   "outputs": [],
   "source": [
    "import os\n",
    "tmp = GAME_NAME.split('/')[1]\n",
    "os.mkdir(tmp)\n",
    "with open('{}/{}'.format(tmp, tmp), 'w') as outp:\n",
    "    for idx in range(len(time)):\n",
    "        print(time[idx], rw[idx], file=outp)"
   ]
  },
  {
   "cell_type": "code",
   "execution_count": 26,
   "metadata": {},
   "outputs": [
    {
     "name": "stderr",
     "output_type": "stream",
     "text": [
      "[2017-06-27 01:16:30,780] Making new env: ppaquette/DoomCorridor-v0\n",
      "[2017-06-27 01:16:30,785] Clearing 2 monitor files from previous run (because force=True was provided)\n",
      "[2017-06-27 01:16:31,028] Starting new video recorder writing to /home/ubuntu/records/openaigym.video.41.18145.video000000.mp4\n"
     ]
    },
    {
     "name": "stdout",
     "output_type": "stream",
     "text": [
      "Episode finished after 34 timesteps with reward=2278.692657470703\n"
     ]
    },
    {
     "name": "stderr",
     "output_type": "stream",
     "text": [
      "[2017-06-27 01:16:32,230] Starting new video recorder writing to /home/ubuntu/records/openaigym.video.41.18145.video000001.mp4\n"
     ]
    },
    {
     "name": "stdout",
     "output_type": "stream",
     "text": [
      "Episode finished after 33 timesteps with reward=2279.1280517578125\n",
      "Episode finished after 36 timesteps with reward=2283.1307525634766\n",
      "Episode finished after 33 timesteps with reward=2280.5428924560547\n",
      "Episode finished after 32 timesteps with reward=878.9631500244141\n",
      "Episode finished after 36 timesteps with reward=2279.8557739257812\n",
      "Episode finished after 30 timesteps with reward=800.676513671875\n"
     ]
    },
    {
     "name": "stderr",
     "output_type": "stream",
     "text": [
      "[2017-06-27 01:16:36,035] Starting new video recorder writing to /home/ubuntu/records/openaigym.video.41.18145.video000008.mp4\n"
     ]
    },
    {
     "name": "stdout",
     "output_type": "stream",
     "text": [
      "Episode finished after 33 timesteps with reward=2281.4136962890625\n",
      "Episode finished after 31 timesteps with reward=799.3393402099609\n",
      "Episode finished after 36 timesteps with reward=2278.3609161376953\n",
      "Episode finished after 33 timesteps with reward=2281.4291381835938\n",
      "Episode finished after 35 timesteps with reward=2277.819305419922\n",
      "Episode finished after 34 timesteps with reward=2278.4578247070312\n",
      "Episode finished after 34 timesteps with reward=892.0908050537109\n",
      "Episode finished after 31 timesteps with reward=1009.7021179199219\n",
      "Episode finished after 32 timesteps with reward=1026.642562866211\n",
      "Episode finished after 34 timesteps with reward=2276.1107330322266\n",
      "Episode finished after 34 timesteps with reward=2281.4493865966797\n",
      "Episode finished after 35 timesteps with reward=2278.0687713623047\n",
      "Episode finished after 32 timesteps with reward=1086.9984130859375\n",
      "Episode finished after 33 timesteps with reward=2276.643768310547\n",
      "Episode finished after 33 timesteps with reward=2281.4036865234375\n",
      "Episode finished after 34 timesteps with reward=1146.5022277832031\n",
      "Episode finished after 33 timesteps with reward=2276.569122314453\n",
      "Episode finished after 35 timesteps with reward=2281.068313598633\n",
      "Episode finished after 33 timesteps with reward=2279.771499633789\n"
     ]
    },
    {
     "name": "stderr",
     "output_type": "stream",
     "text": [
      "[2017-06-27 01:16:45,116] Starting new video recorder writing to /home/ubuntu/records/openaigym.video.41.18145.video000027.mp4\n"
     ]
    },
    {
     "name": "stdout",
     "output_type": "stream",
     "text": [
      "Episode finished after 34 timesteps with reward=2281.0116577148438\n",
      "Episode finished after 54 timesteps with reward=1071.0080871582031\n",
      "Episode finished after 33 timesteps with reward=2276.4221954345703\n",
      "Episode finished after 35 timesteps with reward=2277.761260986328\n",
      "Episode finished after 33 timesteps with reward=2285.120803833008\n",
      "Episode finished after 33 timesteps with reward=2278.1656799316406\n",
      "Episode finished after 35 timesteps with reward=2284.166976928711\n",
      "Episode finished after 34 timesteps with reward=2276.8358306884766\n",
      "Episode finished after 38 timesteps with reward=2278.7713928222656\n",
      "Episode finished after 34 timesteps with reward=2282.883743286133\n",
      "Episode finished after 34 timesteps with reward=2281.2247924804688\n",
      "Episode finished after 34 timesteps with reward=2287.1004028320312\n",
      "Episode finished after 35 timesteps with reward=2278.4327850341797\n",
      "Episode finished after 31 timesteps with reward=1076.3035430908203\n",
      "Episode finished after 34 timesteps with reward=1092.6141967773438\n",
      "Episode finished after 36 timesteps with reward=2280.286087036133\n",
      "Episode finished after 34 timesteps with reward=2278.1478729248047\n",
      "Episode finished after 33 timesteps with reward=2282.062515258789\n",
      "Episode finished after 26 timesteps with reward=617.593017578125\n",
      "Episode finished after 35 timesteps with reward=2280.1461486816406\n",
      "Episode finished after 34 timesteps with reward=2278.3502197265625\n",
      "Episode finished after 32 timesteps with reward=1105.344741821289\n",
      "Episode finished after 35 timesteps with reward=2279.7843017578125\n",
      "Episode finished after 40 timesteps with reward=932.939697265625\n",
      "Episode finished after 33 timesteps with reward=2278.3109741210938\n",
      "Episode finished after 33 timesteps with reward=2277.9554138183594\n",
      "Episode finished after 33 timesteps with reward=2279.7970275878906\n",
      "Episode finished after 36 timesteps with reward=2276.4680938720703\n",
      "Episode finished after 34 timesteps with reward=2282.2835235595703\n",
      "Episode finished after 49 timesteps with reward=2277.031478881836\n",
      "Episode finished after 36 timesteps with reward=1093.2366180419922\n",
      "Episode finished after 34 timesteps with reward=2279.5713958740234\n",
      "Episode finished after 35 timesteps with reward=2276.006362915039\n",
      "Episode finished after 34 timesteps with reward=2280.834915161133\n",
      "Episode finished after 36 timesteps with reward=1170.7309265136719\n",
      "Episode finished after 30 timesteps with reward=934.9022369384766\n",
      "Episode finished after 34 timesteps with reward=2276.3233184814453\n"
     ]
    },
    {
     "name": "stderr",
     "output_type": "stream",
     "text": [
      "[2017-06-27 01:17:03,128] Starting new video recorder writing to /home/ubuntu/records/openaigym.video.41.18145.video000064.mp4\n"
     ]
    },
    {
     "name": "stdout",
     "output_type": "stream",
     "text": [
      "Episode finished after 33 timesteps with reward=2278.4346618652344\n",
      "Episode finished after 33 timesteps with reward=2280.1056213378906\n",
      "Episode finished after 34 timesteps with reward=2276.0962524414062\n",
      "Episode finished after 33 timesteps with reward=2276.66650390625\n",
      "Episode finished after 32 timesteps with reward=1129.6983642578125\n",
      "Episode finished after 33 timesteps with reward=2281.829086303711\n",
      "Episode finished after 34 timesteps with reward=1162.5662994384766\n",
      "Episode finished after 34 timesteps with reward=2282.6495666503906\n",
      "Episode finished after 32 timesteps with reward=2283.862594604492\n",
      "Episode finished after 35 timesteps with reward=2276.7298736572266\n",
      "Episode finished after 40 timesteps with reward=1043.595443725586\n",
      "Episode finished after 34 timesteps with reward=2282.38671875\n",
      "Episode finished after 36 timesteps with reward=2277.5995025634766\n",
      "Episode finished after 35 timesteps with reward=2282.7584686279297\n",
      "Episode finished after 35 timesteps with reward=2277.683364868164\n",
      "Episode finished after 33 timesteps with reward=2278.6720275878906\n",
      "Episode finished after 35 timesteps with reward=2278.0648803710938\n",
      "Episode finished after 35 timesteps with reward=2280.420166015625\n",
      "Episode finished after 35 timesteps with reward=2284.453887939453\n",
      "Episode finished after 34 timesteps with reward=2283.9606018066406\n",
      "Episode finished after 35 timesteps with reward=2279.5531005859375\n",
      "Episode finished after 34 timesteps with reward=2279.041244506836\n",
      "Episode finished after 37 timesteps with reward=2279.895706176758\n",
      "Episode finished after 32 timesteps with reward=2284.700241088867\n",
      "Episode finished after 34 timesteps with reward=2277.149215698242\n",
      "Episode finished after 34 timesteps with reward=2278.7164459228516\n",
      "Episode finished after 34 timesteps with reward=2279.8766174316406\n",
      "Episode finished after 33 timesteps with reward=2278.4227142333984\n",
      "Episode finished after 30 timesteps with reward=867.0456390380859\n",
      "Episode finished after 33 timesteps with reward=2282.224166870117\n",
      "Episode finished after 34 timesteps with reward=2281.125503540039\n",
      "Episode finished after 33 timesteps with reward=2281.4857025146484\n",
      "Episode finished after 38 timesteps with reward=916.4089965820312\n",
      "Episode finished after 36 timesteps with reward=2280.1324615478516\n",
      "Episode finished after 34 timesteps with reward=2276.656692504883\n",
      "Episode finished after 36 timesteps with reward=1112.4976959228516\n"
     ]
    },
    {
     "name": "stderr",
     "output_type": "stream",
     "text": [
      "[2017-06-27 01:17:20,152] Finished writing results. You can upload them to the scoreboard via gym.upload('/home/ubuntu/records')\n"
     ]
    },
    {
     "name": "stdout",
     "output_type": "stream",
     "text": [
      "Episode finished after 35 timesteps with reward=2278.9090270996094\n",
      "mean session score=1985.088367\n"
     ]
    }
   ],
   "source": [
    "action_layer.epsilon.set_value(0.001)\n",
    "rw = pool.evaluate(n_games=100,save_path=\"./records\",record_video=True)\n",
    "print(\"mean session score=%f\"%np.mean(rw))"
   ]
  },
  {
   "cell_type": "code",
   "execution_count": 27,
   "metadata": {
    "collapsed": true
   },
   "outputs": [],
   "source": [
    "from agentnet.utils.persistence import save,load\n",
    "#save for display\n",
    "save(action_layer,\"{}/{}.pcl\".format(tmp, tmp))"
   ]
  },
  {
   "cell_type": "code",
   "execution_count": 28,
   "metadata": {
    "collapsed": true
   },
   "outputs": [],
   "source": [
    "save(qvalues_layer,\"dist_weights/{}.pcl\".format(tmp))"
   ]
  },
  {
   "cell_type": "markdown",
   "metadata": {},
   "source": [
    "## Get serious\n",
    "\n",
    "* Switch to DoomDefendCenter, DoomHealthGathering, DoomDeathmatch or similar\n",
    "* Deploy a better RL algorithm\n",
    "* Deploy a better network. Doom will likely need some recurrent nets"
   ]
  },
  {
   "cell_type": "code",
   "execution_count": null,
   "metadata": {
    "collapsed": true
   },
   "outputs": [],
   "source": []
  }
 ],
 "metadata": {
  "anaconda-cloud": {},
  "kernelspec": {
   "display_name": "Python 3",
   "language": "python",
   "name": "python3"
  },
  "language_info": {
   "codemirror_mode": {
    "name": "ipython",
    "version": 3
   },
   "file_extension": ".py",
   "mimetype": "text/x-python",
   "name": "python",
   "nbconvert_exporter": "python",
   "pygments_lexer": "ipython3",
   "version": "3.5.2"
  }
 },
 "nbformat": 4,
 "nbformat_minor": 1
}
