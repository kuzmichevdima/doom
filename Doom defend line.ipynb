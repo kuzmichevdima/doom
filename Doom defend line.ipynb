{
 "cells": [
  {
   "cell_type": "markdown",
   "metadata": {},
   "source": [
    "[this demo requires doom installed either from gym-pool or from [ppaquette's repo](https://github.com/ppaquette/gym-doom)]\n",
    "\n",
    "## Basic Doom demo\n",
    "\n",
    "* This demo solves DoomBasic env with a simple q-learning with experience replay."
   ]
  },
  {
   "cell_type": "markdown",
   "metadata": {},
   "source": [
    "# Experiment setup\n",
    "* Here we basically just load the game and check that it works"
   ]
  },
  {
   "cell_type": "code",
   "execution_count": 1,
   "metadata": {},
   "outputs": [
    {
     "name": "stdout",
     "output_type": "stream",
     "text": [
      "env: THEANO_FLAGS=device=cuda,floatX=float32\n"
     ]
    }
   ],
   "source": [
    "import matplotlib.pyplot as plt\n",
    "import numpy as np\n",
    "%matplotlib inline\n",
    "%env THEANO_FLAGS=device=cuda,floatX=float32"
   ]
  },
  {
   "cell_type": "code",
   "execution_count": 2,
   "metadata": {},
   "outputs": [
    {
     "name": "stderr",
     "output_type": "stream",
     "text": [
      "Using cuDNN version 5110 on context None\n",
      "Mapped name None to device cuda: Tesla K80 (0000:00:1E.0)\n",
      "[2017-06-26 20:12:06,215] Making new env: ppaquette/DoomDefendLine-v0\n"
     ]
    }
   ],
   "source": [
    "import gym\n",
    "import ppaquette_gym_doom\n",
    "from gym.wrappers import SkipWrapper\n",
    "from ppaquette_gym_doom.wrappers.action_space import ToDiscrete\n",
    "from agentnet.experiments.openai_gym.wrappers import PreprocessImage\n",
    "GAME_NAME = 'ppaquette/DoomDefendLine-v0'\n",
    "\n",
    "make_env = lambda: PreprocessImage(SkipWrapper(4)(ToDiscrete(\"minimal\")(gym.make(GAME_NAME))),\n",
    "                                   width=80,height=80,grayscale=True)\n",
    "\n",
    "env = make_env()"
   ]
  },
  {
   "cell_type": "code",
   "execution_count": 3,
   "metadata": {
    "collapsed": true
   },
   "outputs": [],
   "source": [
    "#global params.\n",
    "observation_shape = env.observation_space.shape\n",
    "n_actions = env.action_space.n\n",
    "#number of parallel agents and batch sequence length (frames)\n",
    "N_AGENTS = 1\n",
    "SEQ_LENGTH = 5"
   ]
  },
  {
   "cell_type": "code",
   "execution_count": 4,
   "metadata": {},
   "outputs": [
    {
     "name": "stdout",
     "output_type": "stream",
     "text": [
      "1.0 False\n"
     ]
    },
    {
     "data": {
      "text/plain": [
       "<matplotlib.image.AxesImage at 0x7f3db05b6d68>"
      ]
     },
     "execution_count": 4,
     "metadata": {},
     "output_type": "execute_result"
    },
    {
     "data": {
      "image/png": "[encoded data removed]",
      "text/plain": [
       "<matplotlib.figure.Figure at 0x7f3dc70c7438>"
      ]
     },
     "metadata": {},
     "output_type": "display_data"
    }
   ],
   "source": [
    "env.reset()\n",
    "obs,r,done,_=env.step(1)\n",
    "print(r, done)\n",
    "plt.imshow(obs[0],cmap='gray',interpolation='none')"
   ]
  },
  {
   "cell_type": "markdown",
   "metadata": {},
   "source": [
    "# Basic agent setup\n",
    "Here we define a simple agent that maps game images into Qvalues using simple convolutional neural network.\n",
    "\n",
    "![scheme](https://s18.postimg.org/gbmsq6gmx/dqn_scheme.png)"
   ]
  },
  {
   "cell_type": "code",
   "execution_count": 5,
   "metadata": {},
   "outputs": [
    {
     "name": "stdout",
     "output_type": "stream",
     "text": [
      "env: THEANO_FLAGS=device=cuda,floatX=float32\n"
     ]
    }
   ],
   "source": [
    "#setup and import theano/lasagne. Prefer GPU\n",
    "%env THEANO_FLAGS=device=cuda,floatX=float32\n",
    "\n",
    "import theano, lasagne\n",
    "from lasagne.layers import *"
   ]
  },
  {
   "cell_type": "code",
   "execution_count": 6,
   "metadata": {
    "collapsed": true
   },
   "outputs": [],
   "source": [
    "#observation\n",
    "observation_layer = InputLayer((None,)+observation_shape,)\n",
    "\n",
    "#4-tick window over images\n",
    "from agentnet.memory import WindowAugmentation, LSTMCell\n",
    "\n",
    "prev_wnd = InputLayer((None,4)+observation_shape)\n",
    "new_wnd = WindowAugmentation(observation_layer,prev_wnd)\n",
    "        \n",
    "#reshape to (frame, h,w). If you don't use grayscale, 4 should become 12.\n",
    "wnd_reshape = reshape(new_wnd, (-1,4*observation_shape[0])+observation_shape[1:])\n"
   ]
  },
  {
   "cell_type": "code",
   "execution_count": 7,
   "metadata": {
    "collapsed": true
   },
   "outputs": [],
   "source": [
    "from lasagne.nonlinearities import elu,tanh,softmax\n",
    "#main neural network body.\n",
    "#note that we use batch normalization here which speeds up training but may\n",
    "#get unstable if you use small experience replay buffer\n",
    "conv0 = Conv2DLayer(wnd_reshape,32,filter_size=(8,8),stride=(4,4),name='conv0')\n",
    "\n",
    "conv1 = Conv2DLayer(batch_norm(conv0),64,filter_size=(4,4),stride=(2,2),name='conv1')\n",
    "\n",
    "dense = DenseLayer(batch_norm(conv1),512,name='dense',nonlinearity = lasagne.nonlinearities.tanh)        \n"
   ]
  },
  {
   "cell_type": "code",
   "execution_count": 8,
   "metadata": {
    "collapsed": true
   },
   "outputs": [],
   "source": [
    "\n",
    "#baseline for all qvalues\n",
    "qvalues_layer = DenseLayer(dense,n_actions,nonlinearity=None,name='qval')\n",
    "        \n",
    "#sample actions proportionally to policy_layer\n",
    "from agentnet.resolver import EpsilonGreedyResolver\n",
    "action_layer = EpsilonGreedyResolver(qvalues_layer)\n"
   ]
  },
  {
   "cell_type": "code",
   "execution_count": 9,
   "metadata": {
    "collapsed": true
   },
   "outputs": [],
   "source": [
    "from agentnet.target_network import TargetNetwork\n",
    "targetnet = TargetNetwork(qvalues_layer)\n",
    "qvalues_old = targetnet.output_layers"
   ]
  },
  {
   "cell_type": "markdown",
   "metadata": {},
   "source": [
    "##### Finally, agent\n",
    "We declare that this network is and MDP agent with such and such inputs, states and outputs"
   ]
  },
  {
   "cell_type": "code",
   "execution_count": 10,
   "metadata": {
    "collapsed": true
   },
   "outputs": [],
   "source": [
    "from agentnet.agent import Agent\n",
    "#all together\n",
    "agent = Agent(observation_layers=observation_layer,\n",
    "              policy_estimators=(qvalues_layer,qvalues_old),\n",
    "              agent_states={new_wnd:prev_wnd},\n",
    "              action_layers=action_layer)\n"
   ]
  },
  {
   "cell_type": "code",
   "execution_count": 11,
   "metadata": {},
   "outputs": [
    {
     "data": {
      "text/plain": [
       "[conv0.W,\n",
       " conv0_bn.beta,\n",
       " conv0_bn.gamma,\n",
       " conv1.W,\n",
       " conv1_bn.beta,\n",
       " conv1_bn.gamma,\n",
       " dense.W,\n",
       " dense.b,\n",
       " qval.W,\n",
       " qval.b]"
      ]
     },
     "execution_count": 11,
     "metadata": {},
     "output_type": "execute_result"
    }
   ],
   "source": [
    "#Since it's a single lasagne network, one can get it's weights, output, etc\n",
    "weights = lasagne.layers.get_all_params(action_layer,trainable=True)\n",
    "weights"
   ]
  },
  {
   "cell_type": "markdown",
   "metadata": {},
   "source": [
    "# Create and manage a pool of atari sessions to play with\n",
    "\n",
    "* To make training more stable, we shall have an entire batch of game sessions each happening independent of others\n",
    "* Why several parallel agents help training: http://arxiv.org/pdf/1602.01783v1.pdf\n",
    "* Alternative approach: store more sessions: https://www.cs.toronto.edu/~vmnih/docs/dqn.pdf"
   ]
  },
  {
   "cell_type": "code",
   "execution_count": 12,
   "metadata": {},
   "outputs": [
    {
     "name": "stderr",
     "output_type": "stream",
     "text": [
      "[2017-06-26 20:12:07,117] Making new env: ppaquette/DoomDefendLine-v0\n"
     ]
    }
   ],
   "source": [
    "from agentnet.experiments.openai_gym.pool import EnvPool\n",
    "\n",
    "pool = EnvPool(agent,make_env, \n",
    "               n_games=N_AGENTS,\n",
    "               max_size=300) #experience replay pool holding last 1k sessions\n"
   ]
  },
  {
   "cell_type": "code",
   "execution_count": 13,
   "metadata": {},
   "outputs": [
    {
     "name": "stdout",
     "output_type": "stream",
     "text": [
      "[[2 0 3 0 0 0 0]]\n",
      "[[ 0.  0.  0.  0.  0.  0.  0.]]\n",
      "CPU times: user 36 ms, sys: 0 ns, total: 36 ms\n",
      "Wall time: 87.4 ms\n"
     ]
    }
   ],
   "source": [
    "%%time\n",
    "#interact for 7 ticks\n",
    "_,action_log,reward_log,_,_,_  = pool.interact(7)\n",
    "\n",
    "\n",
    "print(action_log[:2])\n",
    "print(reward_log[:2])"
   ]
  },
  {
   "cell_type": "code",
   "execution_count": 14,
   "metadata": {
    "collapsed": true
   },
   "outputs": [],
   "source": [
    "#load first sessions (this function calls interact and remembers sessions)\n",
    "pool.update(SEQ_LENGTH)"
   ]
  },
  {
   "cell_type": "markdown",
   "metadata": {},
   "source": [
    "# Q-learning\n",
    "* An agent has a method that produces symbolic environment interaction sessions\n",
    "* Such sessions are in sequences of observations, agent memory, actions, q-values,etc\n",
    "  * one has to pre-define maximum session length.\n",
    "\n",
    "* SessionPool also stores rewards (Q-learning objective)"
   ]
  },
  {
   "cell_type": "code",
   "execution_count": 15,
   "metadata": {
    "collapsed": true
   },
   "outputs": [],
   "source": [
    "#get agent's Qvalues obtained via experience replay\n",
    "replay = pool.experience_replay.sample_session_batch(100,replace=True)\n",
    "\n",
    "_,_,_,_,(qvalues_seq,old_qvalues_seq) = agent.get_sessions(\n",
    "    replay,\n",
    "    session_length=SEQ_LENGTH,\n",
    "    experience_replay=True,\n",
    ")\n",
    "\n"
   ]
  },
  {
   "cell_type": "code",
   "execution_count": 16,
   "metadata": {
    "collapsed": true
   },
   "outputs": [],
   "source": [
    "#get reference Qvalues according to Qlearning algorithm\n",
    "from agentnet.learning import qlearning\n",
    "\n",
    "#loss for Qlearning = (Q(s,a) - (r+gamma*Q(s',a_max)))^2\n",
    "elwise_mse_loss = qlearning.get_elementwise_objective(qvalues_seq,\n",
    "                                                      replay.actions[0],\n",
    "                                                      replay.rewards,\n",
    "                                                      replay.is_alive,\n",
    "                                                      qvalues_target=old_qvalues_seq,\n",
    "                                                      gamma_or_gammas=0.99)\n",
    "\n",
    "#compute mean over \"alive\" fragments\n",
    "loss = elwise_mse_loss.sum() / replay.is_alive.sum()"
   ]
  },
  {
   "cell_type": "code",
   "execution_count": 17,
   "metadata": {
    "collapsed": true
   },
   "outputs": [],
   "source": [
    "# Compute weight updates\n",
    "updates = lasagne.updates.adam(loss,weights)\n",
    "\n",
    "#compile train function\n",
    "import theano\n",
    "train_step = theano.function([],loss,updates=updates)"
   ]
  },
  {
   "cell_type": "markdown",
   "metadata": {},
   "source": [
    "# Demo run"
   ]
  },
  {
   "cell_type": "code",
   "execution_count": 18,
   "metadata": {},
   "outputs": [
    {
     "name": "stderr",
     "output_type": "stream",
     "text": [
      "[2017-06-26 20:12:24,004] Making new env: ppaquette/DoomDefendLine-v0\n",
      "[2017-06-26 20:12:24,014] Clearing 12 monitor files from previous run (because force=True was provided)\n",
      "[2017-06-26 20:12:24,258] Starting new video recorder writing to /home/ubuntu/records/openaigym.video.0.14018.video000000.mp4\n"
     ]
    },
    {
     "name": "stdout",
     "output_type": "stream",
     "text": [
      "Episode finished after 52 timesteps with reward=2.0\n"
     ]
    },
    {
     "name": "stderr",
     "output_type": "stream",
     "text": [
      "[2017-06-26 20:12:25,565] Starting new video recorder writing to /home/ubuntu/records/openaigym.video.0.14018.video000001.mp4\n"
     ]
    },
    {
     "name": "stdout",
     "output_type": "stream",
     "text": [
      "Episode finished after 127 timesteps with reward=7.0\n",
      "Episode finished after 66 timesteps with reward=1.0\n",
      "Episode finished after 54 timesteps with reward=0.0\n",
      "Episode finished after 116 timesteps with reward=6.0\n",
      "Episode finished after 100 timesteps with reward=5.0\n",
      "Episode finished after 93 timesteps with reward=5.0\n"
     ]
    },
    {
     "name": "stderr",
     "output_type": "stream",
     "text": [
      "[2017-06-26 20:12:34,594] Starting new video recorder writing to /home/ubuntu/records/openaigym.video.0.14018.video000008.mp4\n"
     ]
    },
    {
     "name": "stdout",
     "output_type": "stream",
     "text": [
      "Episode finished after 85 timesteps with reward=6.0\n",
      "Episode finished after 62 timesteps with reward=3.0\n"
     ]
    },
    {
     "name": "stderr",
     "output_type": "stream",
     "text": [
      "[2017-06-26 20:12:37,431] Finished writing results. You can upload them to the scoreboard via gym.upload('/home/ubuntu/records')\n"
     ]
    },
    {
     "name": "stdout",
     "output_type": "stream",
     "text": [
      "Episode finished after 106 timesteps with reward=4.0\n"
     ]
    }
   ],
   "source": [
    "action_layer.epsilon.set_value(0)\n",
    "untrained_reward = np.mean(pool.evaluate(save_path=\"./records\",record_video=True,n_games=10))"
   ]
  },
  {
   "cell_type": "code",
   "execution_count": 19,
   "metadata": {},
   "outputs": [
    {
     "data": {
      "text/html": [
       "\n",
       "<video width=\"640\" height=\"480\" controls>\n",
       "  <source src=\"./records/openaigym.video.0.14018.video000000.mp4\" type=\"video/mp4\">\n",
       "</video>\n"
      ],
      "text/plain": [
       "<IPython.core.display.HTML object>"
      ]
     },
     "execution_count": 19,
     "metadata": {},
     "output_type": "execute_result"
    }
   ],
   "source": [
    "#show video\n",
    "from IPython.display import HTML\n",
    "import os\n",
    "\n",
    "video_names = list(filter(lambda s:s.endswith(\".mp4\"),os.listdir(\"./records/\")))\n",
    "\n",
    "HTML(\"\"\"\n",
    "<video width=\"640\" height=\"480\" controls>\n",
    "  <source src=\"{}\" type=\"video/mp4\">\n",
    "</video>\n",
    "\"\"\".format(\"./records/\"+video_names[-1])) #this may or may not be _last_ video. Try other indices"
   ]
  },
  {
   "cell_type": "markdown",
   "metadata": {},
   "source": [
    "# Training loop"
   ]
  },
  {
   "cell_type": "code",
   "execution_count": 20,
   "metadata": {
    "collapsed": true
   },
   "outputs": [],
   "source": [
    "#starting epoch\n",
    "epoch_counter = 1\n",
    "\n",
    "#full game rewards\n",
    "rewards = {0:[untrained_reward]}\n"
   ]
  },
  {
   "cell_type": "code",
   "execution_count": 21,
   "metadata": {},
   "outputs": [
    {
     "name": "stderr",
     "output_type": "stream",
     "text": [
      "  1%|          | 11/2000 [00:01<04:12,  7.88it/s]"
     ]
    },
    {
     "name": "stdout",
     "output_type": "stream",
     "text": [
      "iter=10\tepsilon=0.954\treward/step=0.05455\n"
     ]
    },
    {
     "name": "stderr",
     "output_type": "stream",
     "text": [
      "  1%|          | 21/2000 [00:02<04:04,  8.09it/s]"
     ]
    },
    {
     "name": "stdout",
     "output_type": "stream",
     "text": [
      "iter=20\tepsilon=0.910\treward/step=0.04762\n"
     ]
    },
    {
     "name": "stderr",
     "output_type": "stream",
     "text": [
      "  2%|▏         | 31/2000 [00:03<04:03,  8.07it/s]"
     ]
    },
    {
     "name": "stdout",
     "output_type": "stream",
     "text": [
      "iter=30\tepsilon=0.868\treward/step=0.05806\n"
     ]
    },
    {
     "name": "stderr",
     "output_type": "stream",
     "text": [
      "  2%|▏         | 41/2000 [00:05<04:04,  8.01it/s]"
     ]
    },
    {
     "name": "stdout",
     "output_type": "stream",
     "text": [
      "iter=40\tepsilon=0.828\treward/step=0.06341\n"
     ]
    },
    {
     "name": "stderr",
     "output_type": "stream",
     "text": [
      "  2%|▏         | 49/2000 [00:06<04:07,  7.89it/s][2017-06-26 20:12:43,878] Making new env: ppaquette/DoomDefendLine-v0\n",
      "[2017-06-26 20:12:43,883] Clearing 8 monitor files from previous run (because force=True was provided)\n"
     ]
    },
    {
     "name": "stdout",
     "output_type": "stream",
     "text": [
      "iter=50\tepsilon=0.790\treward/step=0.06275\n"
     ]
    },
    {
     "name": "stderr",
     "output_type": "stream",
     "text": [
      "[2017-06-26 20:12:44,676] Finished writing results. You can upload them to the scoreboard via gym.upload('/home/ubuntu/records')\n",
      "  3%|▎         | 51/2000 [00:07<09:41,  3.35it/s]"
     ]
    },
    {
     "name": "stdout",
     "output_type": "stream",
     "text": [
      "Episode finished after 40 timesteps with reward=3.0\n"
     ]
    },
    {
     "name": "stderr",
     "output_type": "stream",
     "text": [
      "  3%|▎         | 61/2000 [00:08<04:16,  7.56it/s]"
     ]
    },
    {
     "name": "stdout",
     "output_type": "stream",
     "text": [
      "iter=60\tepsilon=0.754\treward/step=0.05574\n"
     ]
    },
    {
     "name": "stderr",
     "output_type": "stream",
     "text": [
      "  4%|▎         | 71/2000 [00:09<04:23,  7.33it/s]"
     ]
    },
    {
     "name": "stdout",
     "output_type": "stream",
     "text": [
      "iter=70\tepsilon=0.719\treward/step=0.05915\n"
     ]
    },
    {
     "name": "stderr",
     "output_type": "stream",
     "text": [
      "  4%|▍         | 81/2000 [00:11<04:23,  7.27it/s]"
     ]
    },
    {
     "name": "stdout",
     "output_type": "stream",
     "text": [
      "iter=80\tepsilon=0.687\treward/step=0.05926\n"
     ]
    },
    {
     "name": "stderr",
     "output_type": "stream",
     "text": [
      "  5%|▍         | 91/2000 [00:12<04:33,  6.97it/s]"
     ]
    },
    {
     "name": "stdout",
     "output_type": "stream",
     "text": [
      "iter=90\tepsilon=0.656\treward/step=0.05495\n"
     ]
    },
    {
     "name": "stderr",
     "output_type": "stream",
     "text": [
      "  5%|▍         | 99/2000 [00:13<04:37,  6.86it/s][2017-06-26 20:12:51,639] Making new env: ppaquette/DoomDefendLine-v0\n",
      "[2017-06-26 20:12:51,647] Clearing 2 monitor files from previous run (because force=True was provided)\n"
     ]
    },
    {
     "name": "stdout",
     "output_type": "stream",
     "text": [
      "iter=100\tepsilon=0.626\treward/step=0.05545\n"
     ]
    },
    {
     "name": "stderr",
     "output_type": "stream",
     "text": [
      "[2017-06-26 20:12:53,129] Finished writing results. You can upload them to the scoreboard via gym.upload('/home/ubuntu/records')\n",
      "  5%|▌         | 101/2000 [00:15<14:36,  2.17it/s]"
     ]
    },
    {
     "name": "stdout",
     "output_type": "stream",
     "text": [
      "Episode finished after 93 timesteps with reward=3.0\n"
     ]
    },
    {
     "name": "stderr",
     "output_type": "stream",
     "text": [
      "  6%|▌         | 111/2000 [00:17<05:16,  5.96it/s]"
     ]
    },
    {
     "name": "stdout",
     "output_type": "stream",
     "text": [
      "iter=110\tepsilon=0.598\treward/step=0.05405\n"
     ]
    },
    {
     "name": "stderr",
     "output_type": "stream",
     "text": [
      "  6%|▌         | 121/2000 [00:18<05:02,  6.21it/s]"
     ]
    },
    {
     "name": "stdout",
     "output_type": "stream",
     "text": [
      "iter=120\tepsilon=0.571\treward/step=0.05124\n"
     ]
    },
    {
     "name": "stderr",
     "output_type": "stream",
     "text": [
      "  7%|▋         | 131/2000 [00:20<05:08,  6.05it/s]"
     ]
    },
    {
     "name": "stdout",
     "output_type": "stream",
     "text": [
      "iter=130\tepsilon=0.546\treward/step=0.04885\n"
     ]
    },
    {
     "name": "stderr",
     "output_type": "stream",
     "text": [
      "  7%|▋         | 141/2000 [00:22<05:11,  5.97it/s]"
     ]
    },
    {
     "name": "stdout",
     "output_type": "stream",
     "text": [
      "iter=140\tepsilon=0.522\treward/step=0.05248\n"
     ]
    },
    {
     "name": "stderr",
     "output_type": "stream",
     "text": [
      "  7%|▋         | 149/2000 [00:23<05:12,  5.92it/s][2017-06-26 20:13:01,420] Making new env: ppaquette/DoomDefendLine-v0\n",
      "[2017-06-26 20:13:01,429] Clearing 2 monitor files from previous run (because force=True was provided)\n"
     ]
    },
    {
     "name": "stdout",
     "output_type": "stream",
     "text": [
      "iter=150\tepsilon=0.499\treward/step=0.05166\n"
     ]
    },
    {
     "name": "stderr",
     "output_type": "stream",
     "text": [
      "[2017-06-26 20:13:03,972] Finished writing results. You can upload them to the scoreboard via gym.upload('/home/ubuntu/records')\n",
      "  8%|▊         | 151/2000 [00:26<21:46,  1.42it/s]"
     ]
    },
    {
     "name": "stdout",
     "output_type": "stream",
     "text": [
      "Episode finished after 167 timesteps with reward=12.0\n"
     ]
    },
    {
     "name": "stderr",
     "output_type": "stream",
     "text": [
      "  8%|▊         | 161/2000 [00:28<05:39,  5.42it/s]"
     ]
    },
    {
     "name": "stdout",
     "output_type": "stream",
     "text": [
      "iter=160\tepsilon=0.477\treward/step=0.05217\n"
     ]
    },
    {
     "name": "stderr",
     "output_type": "stream",
     "text": [
      "  9%|▊         | 171/2000 [00:30<05:23,  5.65it/s]"
     ]
    },
    {
     "name": "stdout",
     "output_type": "stream",
     "text": [
      "iter=170\tepsilon=0.456\treward/step=0.05497\n"
     ]
    },
    {
     "name": "stderr",
     "output_type": "stream",
     "text": [
      "  9%|▉         | 181/2000 [00:31<05:17,  5.74it/s]"
     ]
    },
    {
     "name": "stdout",
     "output_type": "stream",
     "text": [
      "iter=180\tepsilon=0.436\treward/step=0.05083\n"
     ]
    },
    {
     "name": "stderr",
     "output_type": "stream",
     "text": [
      " 10%|▉         | 191/2000 [00:33<05:29,  5.50it/s]"
     ]
    },
    {
     "name": "stdout",
     "output_type": "stream",
     "text": [
      "iter=190\tepsilon=0.417\treward/step=0.05340\n"
     ]
    },
    {
     "name": "stderr",
     "output_type": "stream",
     "text": [
      " 10%|▉         | 199/2000 [00:35<05:33,  5.39it/s][2017-06-26 20:13:12,925] Making new env: ppaquette/DoomDefendLine-v0\n",
      "[2017-06-26 20:13:12,933] Clearing 2 monitor files from previous run (because force=True was provided)\n"
     ]
    },
    {
     "name": "stdout",
     "output_type": "stream",
     "text": [
      "iter=200\tepsilon=0.399\treward/step=0.05373\n"
     ]
    },
    {
     "name": "stderr",
     "output_type": "stream",
     "text": [
      "[2017-06-26 20:13:15,024] Finished writing results. You can upload them to the scoreboard via gym.upload('/home/ubuntu/records')\n",
      " 10%|█         | 201/2000 [00:37<18:47,  1.60it/s]"
     ]
    },
    {
     "name": "stdout",
     "output_type": "stream",
     "text": [
      "Episode finished after 131 timesteps with reward=10.0\n"
     ]
    },
    {
     "name": "stderr",
     "output_type": "stream",
     "text": [
      " 11%|█         | 211/2000 [00:39<05:54,  5.05it/s]"
     ]
    },
    {
     "name": "stdout",
     "output_type": "stream",
     "text": [
      "iter=210\tepsilon=0.382\treward/step=0.05498\n"
     ]
    },
    {
     "name": "stderr",
     "output_type": "stream",
     "text": [
      " 11%|█         | 221/2000 [00:41<05:33,  5.34it/s]"
     ]
    },
    {
     "name": "stdout",
     "output_type": "stream",
     "text": [
      "iter=220\tepsilon=0.366\treward/step=0.05158\n"
     ]
    },
    {
     "name": "stderr",
     "output_type": "stream",
     "text": [
      " 12%|█▏        | 231/2000 [00:43<05:36,  5.25it/s]"
     ]
    },
    {
     "name": "stdout",
     "output_type": "stream",
     "text": [
      "iter=230\tepsilon=0.351\treward/step=0.05022\n"
     ]
    },
    {
     "name": "stderr",
     "output_type": "stream",
     "text": [
      " 12%|█▏        | 241/2000 [00:45<05:42,  5.13it/s]"
     ]
    },
    {
     "name": "stdout",
     "output_type": "stream",
     "text": [
      "iter=240\tepsilon=0.336\treward/step=0.05145\n"
     ]
    },
    {
     "name": "stderr",
     "output_type": "stream",
     "text": [
      " 12%|█▏        | 249/2000 [00:46<05:46,  5.05it/s][2017-06-26 20:13:24,665] Making new env: ppaquette/DoomDefendLine-v0\n",
      "[2017-06-26 20:13:24,673] Clearing 2 monitor files from previous run (because force=True was provided)\n"
     ]
    },
    {
     "name": "stdout",
     "output_type": "stream",
     "text": [
      "iter=250\tepsilon=0.322\treward/step=0.05259\n"
     ]
    },
    {
     "name": "stderr",
     "output_type": "stream",
     "text": [
      "[2017-06-26 20:13:25,945] Finished writing results. You can upload them to the scoreboard via gym.upload('/home/ubuntu/records')\n",
      " 13%|█▎        | 251/2000 [00:48<13:41,  2.13it/s]"
     ]
    },
    {
     "name": "stdout",
     "output_type": "stream",
     "text": [
      "Episode finished after 80 timesteps with reward=4.0\n"
     ]
    },
    {
     "name": "stderr",
     "output_type": "stream",
     "text": [
      " 13%|█▎        | 261/2000 [00:50<05:50,  4.95it/s]"
     ]
    },
    {
     "name": "stdout",
     "output_type": "stream",
     "text": [
      "iter=260\tepsilon=0.309\treward/step=0.05211\n"
     ]
    },
    {
     "name": "stderr",
     "output_type": "stream",
     "text": [
      " 14%|█▎        | 271/2000 [00:52<05:54,  4.88it/s]"
     ]
    },
    {
     "name": "stdout",
     "output_type": "stream",
     "text": [
      "iter=270\tepsilon=0.296\treward/step=0.05166\n"
     ]
    },
    {
     "name": "stderr",
     "output_type": "stream",
     "text": [
      " 14%|█▍        | 281/2000 [00:54<05:54,  4.84it/s]"
     ]
    },
    {
     "name": "stdout",
     "output_type": "stream",
     "text": [
      "iter=280\tepsilon=0.284\treward/step=0.05196\n"
     ]
    },
    {
     "name": "stderr",
     "output_type": "stream",
     "text": [
      " 15%|█▍        | 291/2000 [00:56<06:03,  4.70it/s]"
     ]
    },
    {
     "name": "stdout",
     "output_type": "stream",
     "text": [
      "iter=290\tepsilon=0.273\treward/step=0.05292\n"
     ]
    },
    {
     "name": "stderr",
     "output_type": "stream",
     "text": [
      " 15%|█▍        | 299/2000 [00:58<06:04,  4.66it/s][2017-06-26 20:13:36,370] Making new env: ppaquette/DoomDefendLine-v0\n",
      "[2017-06-26 20:13:36,375] Clearing 2 monitor files from previous run (because force=True was provided)\n"
     ]
    },
    {
     "name": "stdout",
     "output_type": "stream",
     "text": [
      "iter=300\tepsilon=0.262\treward/step=0.05133\n"
     ]
    },
    {
     "name": "stderr",
     "output_type": "stream",
     "text": [
      "[2017-06-26 20:13:37,961] Finished writing results. You can upload them to the scoreboard via gym.upload('/home/ubuntu/records')\n",
      " 15%|█▌        | 301/2000 [01:00<15:14,  1.86it/s]"
     ]
    },
    {
     "name": "stdout",
     "output_type": "stream",
     "text": [
      "Episode finished after 97 timesteps with reward=7.0\n"
     ]
    },
    {
     "name": "stderr",
     "output_type": "stream",
     "text": [
      " 16%|█▌        | 311/2000 [01:02<05:42,  4.94it/s]"
     ]
    },
    {
     "name": "stdout",
     "output_type": "stream",
     "text": [
      "iter=310\tepsilon=0.252\treward/step=0.05133\n"
     ]
    },
    {
     "name": "stderr",
     "output_type": "stream",
     "text": [
      " 16%|█▌        | 321/2000 [01:04<05:30,  5.08it/s]"
     ]
    },
    {
     "name": "stdout",
     "output_type": "stream",
     "text": [
      "iter=320\tepsilon=0.242\treward/step=0.05200\n"
     ]
    },
    {
     "name": "stderr",
     "output_type": "stream",
     "text": [
      " 17%|█▋        | 331/2000 [01:06<05:21,  5.19it/s]"
     ]
    },
    {
     "name": "stdout",
     "output_type": "stream",
     "text": [
      "iter=330\tepsilon=0.232\treward/step=0.05200\n"
     ]
    },
    {
     "name": "stderr",
     "output_type": "stream",
     "text": [
      " 17%|█▋        | 341/2000 [01:08<05:14,  5.28it/s]"
     ]
    },
    {
     "name": "stdout",
     "output_type": "stream",
     "text": [
      "iter=340\tepsilon=0.224\treward/step=0.05067\n"
     ]
    },
    {
     "name": "stderr",
     "output_type": "stream",
     "text": [
      " 17%|█▋        | 349/2000 [01:09<05:17,  5.20it/s][2017-06-26 20:13:47,712] Making new env: ppaquette/DoomDefendLine-v0\n",
      "[2017-06-26 20:13:47,716] Clearing 2 monitor files from previous run (because force=True was provided)\n"
     ]
    },
    {
     "name": "stdout",
     "output_type": "stream",
     "text": [
      "iter=350\tepsilon=0.215\treward/step=0.05000\n"
     ]
    },
    {
     "name": "stderr",
     "output_type": "stream",
     "text": [
      "[2017-06-26 20:13:49,241] Finished writing results. You can upload them to the scoreboard via gym.upload('/home/ubuntu/records')\n",
      " 18%|█▊        | 351/2000 [01:11<14:08,  1.94it/s]"
     ]
    },
    {
     "name": "stdout",
     "output_type": "stream",
     "text": [
      "Episode finished after 94 timesteps with reward=6.0\n"
     ]
    },
    {
     "name": "stderr",
     "output_type": "stream",
     "text": [
      " 18%|█▊        | 361/2000 [01:13<05:28,  4.99it/s]"
     ]
    },
    {
     "name": "stdout",
     "output_type": "stream",
     "text": [
      "iter=360\tepsilon=0.207\treward/step=0.05133\n"
     ]
    },
    {
     "name": "stderr",
     "output_type": "stream",
     "text": [
      " 19%|█▊        | 371/2000 [01:15<05:16,  5.14it/s]"
     ]
    },
    {
     "name": "stdout",
     "output_type": "stream",
     "text": [
      "iter=370\tepsilon=0.199\treward/step=0.05067\n"
     ]
    },
    {
     "name": "stderr",
     "output_type": "stream",
     "text": [
      " 19%|█▉        | 381/2000 [01:17<05:10,  5.21it/s]"
     ]
    },
    {
     "name": "stdout",
     "output_type": "stream",
     "text": [
      "iter=380\tepsilon=0.192\treward/step=0.04933\n"
     ]
    },
    {
     "name": "stderr",
     "output_type": "stream",
     "text": [
      " 20%|█▉        | 391/2000 [01:19<05:10,  5.18it/s]"
     ]
    },
    {
     "name": "stdout",
     "output_type": "stream",
     "text": [
      "iter=390\tepsilon=0.185\treward/step=0.05267\n"
     ]
    },
    {
     "name": "stderr",
     "output_type": "stream",
     "text": [
      " 20%|█▉        | 399/2000 [01:21<05:10,  5.15it/s][2017-06-26 20:13:59,000] Making new env: ppaquette/DoomDefendLine-v0\n",
      "[2017-06-26 20:13:59,005] Clearing 2 monitor files from previous run (because force=True was provided)\n"
     ]
    },
    {
     "name": "stdout",
     "output_type": "stream",
     "text": [
      "iter=400\tepsilon=0.179\treward/step=0.05333\n"
     ]
    },
    {
     "name": "stderr",
     "output_type": "stream",
     "text": [
      "[2017-06-26 20:14:01,149] Finished writing results. You can upload them to the scoreboard via gym.upload('/home/ubuntu/records')\n",
      " 20%|██        | 401/2000 [01:23<17:17,  1.54it/s]"
     ]
    },
    {
     "name": "stdout",
     "output_type": "stream",
     "text": [
      "Episode finished after 136 timesteps with reward=11.0\n"
     ]
    },
    {
     "name": "stderr",
     "output_type": "stream",
     "text": [
      " 21%|██        | 411/2000 [01:25<05:28,  4.84it/s]"
     ]
    },
    {
     "name": "stdout",
     "output_type": "stream",
     "text": [
      "iter=410\tepsilon=0.172\treward/step=0.05400\n"
     ]
    },
    {
     "name": "stderr",
     "output_type": "stream",
     "text": [
      " 21%|██        | 421/2000 [01:27<05:05,  5.16it/s]"
     ]
    },
    {
     "name": "stdout",
     "output_type": "stream",
     "text": [
      "iter=420\tepsilon=0.166\treward/step=0.05667\n"
     ]
    },
    {
     "name": "stderr",
     "output_type": "stream",
     "text": [
      " 22%|██▏       | 431/2000 [01:29<05:03,  5.18it/s]"
     ]
    },
    {
     "name": "stdout",
     "output_type": "stream",
     "text": [
      "iter=430\tepsilon=0.161\treward/step=0.05867\n"
     ]
    },
    {
     "name": "stderr",
     "output_type": "stream",
     "text": [
      " 22%|██▏       | 441/2000 [01:31<05:02,  5.15it/s]"
     ]
    },
    {
     "name": "stdout",
     "output_type": "stream",
     "text": [
      "iter=440\tepsilon=0.155\treward/step=0.05733\n"
     ]
    },
    {
     "name": "stderr",
     "output_type": "stream",
     "text": [
      " 22%|██▏       | 449/2000 [01:33<05:00,  5.16it/s][2017-06-26 20:14:10,959] Making new env: ppaquette/DoomDefendLine-v0\n",
      "[2017-06-26 20:14:10,965] Clearing 2 monitor files from previous run (because force=True was provided)\n"
     ]
    },
    {
     "name": "stdout",
     "output_type": "stream",
     "text": [
      "iter=450\tepsilon=0.150\treward/step=0.05867\n"
     ]
    },
    {
     "name": "stderr",
     "output_type": "stream",
     "text": [
      "[2017-06-26 20:14:13,627] Finished writing results. You can upload them to the scoreboard via gym.upload('/home/ubuntu/records')\n",
      " 23%|██▎       | 451/2000 [01:36<19:33,  1.32it/s]"
     ]
    },
    {
     "name": "stdout",
     "output_type": "stream",
     "text": [
      "Episode finished after 172 timesteps with reward=17.0\n"
     ]
    },
    {
     "name": "stderr",
     "output_type": "stream",
     "text": [
      " 23%|██▎       | 461/2000 [01:38<05:25,  4.73it/s]"
     ]
    },
    {
     "name": "stdout",
     "output_type": "stream",
     "text": [
      "iter=460\tepsilon=0.145\treward/step=0.06067\n"
     ]
    },
    {
     "name": "stderr",
     "output_type": "stream",
     "text": [
      " 24%|██▎       | 471/2000 [01:40<04:56,  5.15it/s]"
     ]
    },
    {
     "name": "stdout",
     "output_type": "stream",
     "text": [
      "iter=470\tepsilon=0.141\treward/step=0.06000\n"
     ]
    },
    {
     "name": "stderr",
     "output_type": "stream",
     "text": [
      " 24%|██▍       | 481/2000 [01:42<04:52,  5.19it/s]"
     ]
    },
    {
     "name": "stdout",
     "output_type": "stream",
     "text": [
      "iter=480\tepsilon=0.136\treward/step=0.06267\n"
     ]
    },
    {
     "name": "stderr",
     "output_type": "stream",
     "text": [
      " 25%|██▍       | 491/2000 [01:44<04:52,  5.16it/s]"
     ]
    },
    {
     "name": "stdout",
     "output_type": "stream",
     "text": [
      "iter=490\tepsilon=0.132\treward/step=0.06200\n"
     ]
    },
    {
     "name": "stderr",
     "output_type": "stream",
     "text": [
      " 25%|██▍       | 499/2000 [01:45<04:50,  5.17it/s][2017-06-26 20:14:23,483] Making new env: ppaquette/DoomDefendLine-v0\n",
      "[2017-06-26 20:14:23,488] Clearing 2 monitor files from previous run (because force=True was provided)\n"
     ]
    },
    {
     "name": "stdout",
     "output_type": "stream",
     "text": [
      "iter=500\tepsilon=0.128\treward/step=0.06200\n"
     ]
    },
    {
     "name": "stderr",
     "output_type": "stream",
     "text": [
      "[2017-06-26 20:14:26,212] Finished writing results. You can upload them to the scoreboard via gym.upload('/home/ubuntu/records')\n",
      " 25%|██▌       | 501/2000 [01:48<19:16,  1.30it/s]"
     ]
    },
    {
     "name": "stdout",
     "output_type": "stream",
     "text": [
      "Episode finished after 176 timesteps with reward=17.0\n"
     ]
    },
    {
     "name": "stderr",
     "output_type": "stream",
     "text": [
      " 26%|██▌       | 511/2000 [01:50<05:16,  4.70it/s]"
     ]
    },
    {
     "name": "stdout",
     "output_type": "stream",
     "text": [
      "iter=510\tepsilon=0.124\treward/step=0.06267\n"
     ]
    },
    {
     "name": "stderr",
     "output_type": "stream",
     "text": [
      " 26%|██▌       | 521/2000 [01:52<04:44,  5.19it/s]"
     ]
    },
    {
     "name": "stdout",
     "output_type": "stream",
     "text": [
      "iter=520\tepsilon=0.121\treward/step=0.06800\n"
     ]
    },
    {
     "name": "stderr",
     "output_type": "stream",
     "text": [
      " 27%|██▋       | 531/2000 [01:54<04:39,  5.26it/s]"
     ]
    },
    {
     "name": "stdout",
     "output_type": "stream",
     "text": [
      "iter=530\tepsilon=0.117\treward/step=0.06867\n"
     ]
    },
    {
     "name": "stderr",
     "output_type": "stream",
     "text": [
      " 27%|██▋       | 541/2000 [01:56<04:33,  5.33it/s]"
     ]
    },
    {
     "name": "stdout",
     "output_type": "stream",
     "text": [
      "iter=540\tepsilon=0.114\treward/step=0.06800\n"
     ]
    },
    {
     "name": "stderr",
     "output_type": "stream",
     "text": [
      " 27%|██▋       | 549/2000 [01:58<04:33,  5.31it/s][2017-06-26 20:14:35,924] Making new env: ppaquette/DoomDefendLine-v0\n",
      "[2017-06-26 20:14:35,929] Clearing 2 monitor files from previous run (because force=True was provided)\n"
     ]
    },
    {
     "name": "stdout",
     "output_type": "stream",
     "text": [
      "iter=550\tepsilon=0.111\treward/step=0.06533\n"
     ]
    },
    {
     "name": "stderr",
     "output_type": "stream",
     "text": [
      "[2017-06-26 20:14:37,605] Finished writing results. You can upload them to the scoreboard via gym.upload('/home/ubuntu/records')\n",
      " 28%|██▊       | 551/2000 [02:00<13:11,  1.83it/s]"
     ]
    },
    {
     "name": "stdout",
     "output_type": "stream",
     "text": [
      "Episode finished after 102 timesteps with reward=10.0\n"
     ]
    },
    {
     "name": "stderr",
     "output_type": "stream",
     "text": [
      " 28%|██▊       | 561/2000 [02:02<04:54,  4.89it/s]"
     ]
    },
    {
     "name": "stdout",
     "output_type": "stream",
     "text": [
      "iter=560\tepsilon=0.108\treward/step=0.06667\n"
     ]
    },
    {
     "name": "stderr",
     "output_type": "stream",
     "text": [
      " 29%|██▊       | 571/2000 [02:04<04:37,  5.14it/s]"
     ]
    },
    {
     "name": "stdout",
     "output_type": "stream",
     "text": [
      "iter=570\tepsilon=0.105\treward/step=0.06733\n"
     ]
    },
    {
     "name": "stderr",
     "output_type": "stream",
     "text": [
      " 29%|██▉       | 581/2000 [02:06<04:30,  5.24it/s]"
     ]
    },
    {
     "name": "stdout",
     "output_type": "stream",
     "text": [
      "iter=580\tepsilon=0.102\treward/step=0.06800\n"
     ]
    },
    {
     "name": "stderr",
     "output_type": "stream",
     "text": [
      " 30%|██▉       | 591/2000 [02:08<04:30,  5.21it/s]"
     ]
    },
    {
     "name": "stdout",
     "output_type": "stream",
     "text": [
      "iter=590\tepsilon=0.100\treward/step=0.06800\n"
     ]
    },
    {
     "name": "stderr",
     "output_type": "stream",
     "text": [
      " 30%|██▉       | 599/2000 [02:09<04:33,  5.12it/s][2017-06-26 20:14:47,409] Making new env: ppaquette/DoomDefendLine-v0\n",
      "[2017-06-26 20:14:47,414] Clearing 2 monitor files from previous run (because force=True was provided)\n"
     ]
    },
    {
     "name": "stdout",
     "output_type": "stream",
     "text": [
      "iter=600\tepsilon=0.097\treward/step=0.07133\n"
     ]
    },
    {
     "name": "stderr",
     "output_type": "stream",
     "text": [
      "[2017-06-26 20:14:49,115] Finished writing results. You can upload them to the scoreboard via gym.upload('/home/ubuntu/records')\n",
      " 30%|███       | 601/2000 [02:11<12:58,  1.80it/s]"
     ]
    },
    {
     "name": "stdout",
     "output_type": "stream",
     "text": [
      "Episode finished after 103 timesteps with reward=10.0\n"
     ]
    },
    {
     "name": "stderr",
     "output_type": "stream",
     "text": [
      " 31%|███       | 611/2000 [02:13<04:41,  4.93it/s]"
     ]
    },
    {
     "name": "stdout",
     "output_type": "stream",
     "text": [
      "iter=610\tepsilon=0.095\treward/step=0.07067\n"
     ]
    },
    {
     "name": "stderr",
     "output_type": "stream",
     "text": [
      " 31%|███       | 621/2000 [02:15<04:26,  5.17it/s]"
     ]
    },
    {
     "name": "stdout",
     "output_type": "stream",
     "text": [
      "iter=620\tepsilon=0.093\treward/step=0.07200\n"
     ]
    },
    {
     "name": "stderr",
     "output_type": "stream",
     "text": [
      " 32%|███▏      | 631/2000 [02:17<04:24,  5.17it/s]"
     ]
    },
    {
     "name": "stdout",
     "output_type": "stream",
     "text": [
      "iter=630\tepsilon=0.091\treward/step=0.07333\n"
     ]
    },
    {
     "name": "stderr",
     "output_type": "stream",
     "text": [
      " 32%|███▏      | 641/2000 [02:19<04:19,  5.24it/s]"
     ]
    },
    {
     "name": "stdout",
     "output_type": "stream",
     "text": [
      "iter=640\tepsilon=0.089\treward/step=0.07333\n"
     ]
    },
    {
     "name": "stderr",
     "output_type": "stream",
     "text": [
      " 32%|███▏      | 649/2000 [02:21<04:25,  5.09it/s][2017-06-26 20:14:58,946] Making new env: ppaquette/DoomDefendLine-v0\n",
      "[2017-06-26 20:14:58,951] Clearing 2 monitor files from previous run (because force=True was provided)\n"
     ]
    },
    {
     "name": "stdout",
     "output_type": "stream",
     "text": [
      "iter=650\tepsilon=0.087\treward/step=0.07667\n"
     ]
    },
    {
     "name": "stderr",
     "output_type": "stream",
     "text": [
      "[2017-06-26 20:15:01,206] Finished writing results. You can upload them to the scoreboard via gym.upload('/home/ubuntu/records')\n",
      " 33%|███▎      | 651/2000 [02:23<15:08,  1.48it/s]"
     ]
    },
    {
     "name": "stdout",
     "output_type": "stream",
     "text": [
      "Episode finished after 143 timesteps with reward=15.0\n"
     ]
    },
    {
     "name": "stderr",
     "output_type": "stream",
     "text": [
      " 33%|███▎      | 661/2000 [02:25<04:36,  4.83it/s]"
     ]
    },
    {
     "name": "stdout",
     "output_type": "stream",
     "text": [
      "iter=660\tepsilon=0.085\treward/step=0.07733\n"
     ]
    },
    {
     "name": "stderr",
     "output_type": "stream",
     "text": [
      " 34%|███▎      | 671/2000 [02:27<04:16,  5.19it/s]"
     ]
    },
    {
     "name": "stdout",
     "output_type": "stream",
     "text": [
      "iter=670\tepsilon=0.083\treward/step=0.07800\n"
     ]
    },
    {
     "name": "stderr",
     "output_type": "stream",
     "text": [
      " 34%|███▍      | 681/2000 [02:29<04:13,  5.21it/s]"
     ]
    },
    {
     "name": "stdout",
     "output_type": "stream",
     "text": [
      "iter=680\tepsilon=0.082\treward/step=0.08000\n"
     ]
    },
    {
     "name": "stderr",
     "output_type": "stream",
     "text": [
      " 35%|███▍      | 691/2000 [02:31<04:12,  5.19it/s]"
     ]
    },
    {
     "name": "stdout",
     "output_type": "stream",
     "text": [
      "iter=690\tepsilon=0.080\treward/step=0.07733\n"
     ]
    },
    {
     "name": "stderr",
     "output_type": "stream",
     "text": [
      " 35%|███▍      | 699/2000 [02:33<04:12,  5.14it/s][2017-06-26 20:15:10,989] Making new env: ppaquette/DoomDefendLine-v0\n",
      "[2017-06-26 20:15:10,993] Clearing 2 monitor files from previous run (because force=True was provided)\n"
     ]
    },
    {
     "name": "stdout",
     "output_type": "stream",
     "text": [
      "iter=700\tepsilon=0.079\treward/step=0.07733\n"
     ]
    },
    {
     "name": "stderr",
     "output_type": "stream",
     "text": [
      "[2017-06-26 20:15:13,857] Finished writing results. You can upload them to the scoreboard via gym.upload('/home/ubuntu/records')\n",
      " 35%|███▌      | 701/2000 [02:36<17:15,  1.26it/s]"
     ]
    },
    {
     "name": "stdout",
     "output_type": "stream",
     "text": [
      "Episode finished after 189 timesteps with reward=20.0\n"
     ]
    },
    {
     "name": "stderr",
     "output_type": "stream",
     "text": [
      " 36%|███▌      | 711/2000 [02:38<04:34,  4.70it/s]"
     ]
    },
    {
     "name": "stdout",
     "output_type": "stream",
     "text": [
      "iter=710\tepsilon=0.077\treward/step=0.07800\n"
     ]
    },
    {
     "name": "stderr",
     "output_type": "stream",
     "text": [
      " 36%|███▌      | 721/2000 [02:40<04:07,  5.16it/s]"
     ]
    },
    {
     "name": "stdout",
     "output_type": "stream",
     "text": [
      "iter=720\tepsilon=0.076\treward/step=0.07800\n"
     ]
    },
    {
     "name": "stderr",
     "output_type": "stream",
     "text": [
      " 37%|███▋      | 731/2000 [02:42<04:04,  5.20it/s]"
     ]
    },
    {
     "name": "stdout",
     "output_type": "stream",
     "text": [
      "iter=730\tepsilon=0.075\treward/step=0.07667\n"
     ]
    },
    {
     "name": "stderr",
     "output_type": "stream",
     "text": [
      " 37%|███▋      | 741/2000 [02:44<04:03,  5.16it/s]"
     ]
    },
    {
     "name": "stdout",
     "output_type": "stream",
     "text": [
      "iter=740\tepsilon=0.073\treward/step=0.07733\n"
     ]
    },
    {
     "name": "stderr",
     "output_type": "stream",
     "text": [
      " 37%|███▋      | 749/2000 [02:45<04:03,  5.13it/s][2017-06-26 20:15:23,671] Making new env: ppaquette/DoomDefendLine-v0\n",
      "[2017-06-26 20:15:23,676] Clearing 2 monitor files from previous run (because force=True was provided)\n"
     ]
    },
    {
     "name": "stdout",
     "output_type": "stream",
     "text": [
      "iter=750\tepsilon=0.072\treward/step=0.07667\n"
     ]
    },
    {
     "name": "stderr",
     "output_type": "stream",
     "text": [
      "[2017-06-26 20:15:24,649] Finished writing results. You can upload them to the scoreboard via gym.upload('/home/ubuntu/records')\n",
      " 38%|███▊      | 751/2000 [02:47<08:25,  2.47it/s]"
     ]
    },
    {
     "name": "stdout",
     "output_type": "stream",
     "text": [
      "Episode finished after 55 timesteps with reward=3.0\n"
     ]
    },
    {
     "name": "stderr",
     "output_type": "stream",
     "text": [
      " 38%|███▊      | 761/2000 [02:49<04:07,  5.01it/s]"
     ]
    },
    {
     "name": "stdout",
     "output_type": "stream",
     "text": [
      "iter=760\tepsilon=0.071\treward/step=0.07533\n"
     ]
    },
    {
     "name": "stderr",
     "output_type": "stream",
     "text": [
      " 39%|███▊      | 771/2000 [02:51<03:57,  5.18it/s]"
     ]
    },
    {
     "name": "stdout",
     "output_type": "stream",
     "text": [
      "iter=770\tepsilon=0.070\treward/step=0.07533\n"
     ]
    },
    {
     "name": "stderr",
     "output_type": "stream",
     "text": [
      " 39%|███▉      | 781/2000 [02:53<03:54,  5.20it/s]"
     ]
    },
    {
     "name": "stdout",
     "output_type": "stream",
     "text": [
      "iter=780\tepsilon=0.069\treward/step=0.07667\n"
     ]
    },
    {
     "name": "stderr",
     "output_type": "stream",
     "text": [
      " 40%|███▉      | 791/2000 [02:55<03:54,  5.16it/s]"
     ]
    },
    {
     "name": "stdout",
     "output_type": "stream",
     "text": [
      "iter=790\tepsilon=0.068\treward/step=0.07733\n"
     ]
    },
    {
     "name": "stderr",
     "output_type": "stream",
     "text": [
      " 40%|███▉      | 799/2000 [02:56<03:54,  5.12it/s][2017-06-26 20:15:34,478] Making new env: ppaquette/DoomDefendLine-v0\n",
      "[2017-06-26 20:15:34,482] Clearing 2 monitor files from previous run (because force=True was provided)\n"
     ]
    },
    {
     "name": "stdout",
     "output_type": "stream",
     "text": [
      "iter=800\tepsilon=0.067\treward/step=0.07733\n"
     ]
    },
    {
     "name": "stderr",
     "output_type": "stream",
     "text": [
      "[2017-06-26 20:15:36,559] Finished writing results. You can upload them to the scoreboard via gym.upload('/home/ubuntu/records')\n",
      " 40%|████      | 801/2000 [02:59<12:39,  1.58it/s]"
     ]
    },
    {
     "name": "stdout",
     "output_type": "stream",
     "text": [
      "Episode finished after 130 timesteps with reward=16.0\n"
     ]
    },
    {
     "name": "stderr",
     "output_type": "stream",
     "text": [
      " 41%|████      | 811/2000 [03:01<04:05,  4.85it/s]"
     ]
    },
    {
     "name": "stdout",
     "output_type": "stream",
     "text": [
      "iter=810\tepsilon=0.067\treward/step=0.07733\n"
     ]
    },
    {
     "name": "stderr",
     "output_type": "stream",
     "text": [
      " 41%|████      | 821/2000 [03:03<03:46,  5.20it/s]"
     ]
    },
    {
     "name": "stdout",
     "output_type": "stream",
     "text": [
      "iter=820\tepsilon=0.066\treward/step=0.07467\n"
     ]
    },
    {
     "name": "stderr",
     "output_type": "stream",
     "text": [
      " 42%|████▏     | 831/2000 [03:05<03:43,  5.22it/s]"
     ]
    },
    {
     "name": "stdout",
     "output_type": "stream",
     "text": [
      "iter=830\tepsilon=0.065\treward/step=0.07533\n"
     ]
    },
    {
     "name": "stderr",
     "output_type": "stream",
     "text": [
      " 42%|████▏     | 841/2000 [03:07<03:44,  5.16it/s]"
     ]
    },
    {
     "name": "stdout",
     "output_type": "stream",
     "text": [
      "iter=840\tepsilon=0.064\treward/step=0.07533\n"
     ]
    },
    {
     "name": "stderr",
     "output_type": "stream",
     "text": [
      " 42%|████▏     | 849/2000 [03:08<03:44,  5.13it/s][2017-06-26 20:15:46,336] Making new env: ppaquette/DoomDefendLine-v0\n",
      "[2017-06-26 20:15:46,341] Clearing 2 monitor files from previous run (because force=True was provided)\n"
     ]
    },
    {
     "name": "stdout",
     "output_type": "stream",
     "text": [
      "iter=850\tepsilon=0.064\treward/step=0.07800\n"
     ]
    },
    {
     "name": "stderr",
     "output_type": "stream",
     "text": [
      "[2017-06-26 20:15:48,398] Finished writing results. You can upload them to the scoreboard via gym.upload('/home/ubuntu/records')\n",
      " 43%|████▎     | 851/2000 [03:11<12:02,  1.59it/s]"
     ]
    },
    {
     "name": "stdout",
     "output_type": "stream",
     "text": [
      "Episode finished after 129 timesteps with reward=12.0\n"
     ]
    },
    {
     "name": "stderr",
     "output_type": "stream",
     "text": [
      " 43%|████▎     | 861/2000 [03:13<03:52,  4.90it/s]"
     ]
    },
    {
     "name": "stdout",
     "output_type": "stream",
     "text": [
      "iter=860\tepsilon=0.063\treward/step=0.07800\n"
     ]
    },
    {
     "name": "stderr",
     "output_type": "stream",
     "text": [
      " 44%|████▎     | 871/2000 [03:14<03:39,  5.15it/s]"
     ]
    },
    {
     "name": "stdout",
     "output_type": "stream",
     "text": [
      "iter=870\tepsilon=0.062\treward/step=0.07800\n"
     ]
    },
    {
     "name": "stderr",
     "output_type": "stream",
     "text": [
      " 44%|████▍     | 881/2000 [03:16<03:45,  4.97it/s]"
     ]
    },
    {
     "name": "stdout",
     "output_type": "stream",
     "text": [
      "iter=880\tepsilon=0.062\treward/step=0.07667\n"
     ]
    },
    {
     "name": "stderr",
     "output_type": "stream",
     "text": [
      " 45%|████▍     | 891/2000 [03:18<03:33,  5.19it/s]"
     ]
    },
    {
     "name": "stdout",
     "output_type": "stream",
     "text": [
      "iter=890\tepsilon=0.061\treward/step=0.07733\n"
     ]
    },
    {
     "name": "stderr",
     "output_type": "stream",
     "text": [
      " 45%|████▍     | 899/2000 [03:20<03:36,  5.08it/s][2017-06-26 20:15:58,231] Making new env: ppaquette/DoomDefendLine-v0\n",
      "[2017-06-26 20:15:58,236] Clearing 2 monitor files from previous run (because force=True was provided)\n"
     ]
    },
    {
     "name": "stdout",
     "output_type": "stream",
     "text": [
      "iter=900\tepsilon=0.061\treward/step=0.07667\n"
     ]
    },
    {
     "name": "stderr",
     "output_type": "stream",
     "text": [
      "[2017-06-26 20:16:00,206] Finished writing results. You can upload them to the scoreboard via gym.upload('/home/ubuntu/records')\n",
      " 45%|████▌     | 901/2000 [03:22<11:11,  1.64it/s]"
     ]
    },
    {
     "name": "stdout",
     "output_type": "stream",
     "text": [
      "Episode finished after 125 timesteps with reward=12.0\n"
     ]
    },
    {
     "name": "stderr",
     "output_type": "stream",
     "text": [
      " 46%|████▌     | 911/2000 [03:24<03:43,  4.88it/s]"
     ]
    },
    {
     "name": "stdout",
     "output_type": "stream",
     "text": [
      "iter=910\tepsilon=0.060\treward/step=0.07867\n"
     ]
    },
    {
     "name": "stderr",
     "output_type": "stream",
     "text": [
      " 46%|████▌     | 921/2000 [03:26<03:26,  5.21it/s]"
     ]
    },
    {
     "name": "stdout",
     "output_type": "stream",
     "text": [
      "iter=920\tepsilon=0.060\treward/step=0.07800\n"
     ]
    },
    {
     "name": "stderr",
     "output_type": "stream",
     "text": [
      " 47%|████▋     | 931/2000 [03:28<03:26,  5.18it/s]"
     ]
    },
    {
     "name": "stdout",
     "output_type": "stream",
     "text": [
      "iter=930\tepsilon=0.059\treward/step=0.07667\n"
     ]
    },
    {
     "name": "stderr",
     "output_type": "stream",
     "text": [
      " 47%|████▋     | 941/2000 [03:30<03:22,  5.22it/s]"
     ]
    },
    {
     "name": "stdout",
     "output_type": "stream",
     "text": [
      "iter=940\tepsilon=0.059\treward/step=0.07867\n"
     ]
    },
    {
     "name": "stderr",
     "output_type": "stream",
     "text": [
      " 47%|████▋     | 949/2000 [03:32<03:24,  5.14it/s][2017-06-26 20:16:09,968] Making new env: ppaquette/DoomDefendLine-v0\n",
      "[2017-06-26 20:16:09,973] Clearing 2 monitor files from previous run (because force=True was provided)\n"
     ]
    },
    {
     "name": "stdout",
     "output_type": "stream",
     "text": [
      "iter=950\tepsilon=0.058\treward/step=0.07533\n"
     ]
    },
    {
     "name": "stderr",
     "output_type": "stream",
     "text": [
      "[2017-06-26 20:16:13,779] Finished writing results. You can upload them to the scoreboard via gym.upload('/home/ubuntu/records')\n",
      " 48%|████▊     | 951/2000 [03:36<17:25,  1.00it/s]"
     ]
    },
    {
     "name": "stdout",
     "output_type": "stream",
     "text": [
      "Episode finished after 257 timesteps with reward=26.0\n"
     ]
    },
    {
     "name": "stderr",
     "output_type": "stream",
     "text": [
      " 48%|████▊     | 961/2000 [03:38<03:42,  4.67it/s]"
     ]
    },
    {
     "name": "stdout",
     "output_type": "stream",
     "text": [
      "iter=960\tepsilon=0.058\treward/step=0.07667\n"
     ]
    },
    {
     "name": "stderr",
     "output_type": "stream",
     "text": [
      " 49%|████▊     | 971/2000 [03:40<03:18,  5.18it/s]"
     ]
    },
    {
     "name": "stdout",
     "output_type": "stream",
     "text": [
      "iter=970\tepsilon=0.057\treward/step=0.07800\n"
     ]
    },
    {
     "name": "stderr",
     "output_type": "stream",
     "text": [
      " 49%|████▉     | 981/2000 [03:42<03:16,  5.20it/s]"
     ]
    },
    {
     "name": "stdout",
     "output_type": "stream",
     "text": [
      "iter=980\tepsilon=0.057\treward/step=0.07933\n"
     ]
    },
    {
     "name": "stderr",
     "output_type": "stream",
     "text": [
      " 50%|████▉     | 991/2000 [03:44<03:12,  5.23it/s]"
     ]
    },
    {
     "name": "stdout",
     "output_type": "stream",
     "text": [
      "iter=990\tepsilon=0.057\treward/step=0.08067\n"
     ]
    },
    {
     "name": "stderr",
     "output_type": "stream",
     "text": [
      " 50%|████▉     | 999/2000 [03:45<03:14,  5.16it/s][2017-06-26 20:16:23,534] Making new env: ppaquette/DoomDefendLine-v0\n",
      "[2017-06-26 20:16:23,539] Clearing 2 monitor files from previous run (because force=True was provided)\n"
     ]
    },
    {
     "name": "stdout",
     "output_type": "stream",
     "text": [
      "iter=1000\tepsilon=0.056\treward/step=0.08200\n"
     ]
    },
    {
     "name": "stderr",
     "output_type": "stream",
     "text": [
      "[2017-06-26 20:16:25,977] Finished writing results. You can upload them to the scoreboard via gym.upload('/home/ubuntu/records')\n",
      " 50%|█████     | 1001/2000 [03:48<11:46,  1.41it/s]"
     ]
    },
    {
     "name": "stdout",
     "output_type": "stream",
     "text": [
      "Episode finished after 158 timesteps with reward=18.0\n"
     ]
    },
    {
     "name": "stderr",
     "output_type": "stream",
     "text": [
      " 51%|█████     | 1011/2000 [03:50<03:25,  4.80it/s]"
     ]
    },
    {
     "name": "stdout",
     "output_type": "stream",
     "text": [
      "iter=1010\tepsilon=0.056\treward/step=0.08333\n"
     ]
    },
    {
     "name": "stderr",
     "output_type": "stream",
     "text": [
      " 51%|█████     | 1021/2000 [03:52<03:09,  5.16it/s]"
     ]
    },
    {
     "name": "stdout",
     "output_type": "stream",
     "text": [
      "iter=1020\tepsilon=0.056\treward/step=0.08400\n"
     ]
    },
    {
     "name": "stderr",
     "output_type": "stream",
     "text": [
      " 52%|█████▏    | 1031/2000 [03:54<03:08,  5.13it/s]"
     ]
    },
    {
     "name": "stdout",
     "output_type": "stream",
     "text": [
      "iter=1030\tepsilon=0.056\treward/step=0.08333\n"
     ]
    },
    {
     "name": "stderr",
     "output_type": "stream",
     "text": [
      " 52%|█████▏    | 1041/2000 [03:56<03:04,  5.20it/s]"
     ]
    },
    {
     "name": "stdout",
     "output_type": "stream",
     "text": [
      "iter=1040\tepsilon=0.055\treward/step=0.08333\n"
     ]
    },
    {
     "name": "stderr",
     "output_type": "stream",
     "text": [
      " 52%|█████▏    | 1049/2000 [03:58<03:06,  5.09it/s][2017-06-26 20:16:35,810] Making new env: ppaquette/DoomDefendLine-v0\n",
      "[2017-06-26 20:16:35,814] Clearing 2 monitor files from previous run (because force=True was provided)\n"
     ]
    },
    {
     "name": "stdout",
     "output_type": "stream",
     "text": [
      "iter=1050\tepsilon=0.055\treward/step=0.08600\n"
     ]
    },
    {
     "name": "stderr",
     "output_type": "stream",
     "text": [
      "[2017-06-26 20:16:38,088] Finished writing results. You can upload them to the scoreboard via gym.upload('/home/ubuntu/records')\n",
      " 53%|█████▎    | 1051/2000 [04:00<10:42,  1.48it/s]"
     ]
    },
    {
     "name": "stdout",
     "output_type": "stream",
     "text": [
      "Episode finished after 145 timesteps with reward=18.0\n"
     ]
    },
    {
     "name": "stderr",
     "output_type": "stream",
     "text": [
      " 53%|█████▎    | 1061/2000 [04:02<03:14,  4.82it/s]"
     ]
    },
    {
     "name": "stdout",
     "output_type": "stream",
     "text": [
      "iter=1060\tepsilon=0.055\treward/step=0.08600\n"
     ]
    },
    {
     "name": "stderr",
     "output_type": "stream",
     "text": [
      " 54%|█████▎    | 1071/2000 [04:04<02:59,  5.18it/s]"
     ]
    },
    {
     "name": "stdout",
     "output_type": "stream",
     "text": [
      "iter=1070\tepsilon=0.055\treward/step=0.08600\n"
     ]
    },
    {
     "name": "stderr",
     "output_type": "stream",
     "text": [
      " 54%|█████▍    | 1081/2000 [04:06<02:57,  5.17it/s]"
     ]
    },
    {
     "name": "stdout",
     "output_type": "stream",
     "text": [
      "iter=1080\tepsilon=0.054\treward/step=0.08533\n"
     ]
    },
    {
     "name": "stderr",
     "output_type": "stream",
     "text": [
      " 55%|█████▍    | 1091/2000 [04:08<02:54,  5.21it/s]"
     ]
    },
    {
     "name": "stdout",
     "output_type": "stream",
     "text": [
      "iter=1090\tepsilon=0.054\treward/step=0.08467\n"
     ]
    },
    {
     "name": "stderr",
     "output_type": "stream",
     "text": [
      " 55%|█████▍    | 1099/2000 [04:10<02:55,  5.14it/s][2017-06-26 20:16:47,882] Making new env: ppaquette/DoomDefendLine-v0\n",
      "[2017-06-26 20:16:47,887] Clearing 2 monitor files from previous run (because force=True was provided)\n"
     ]
    },
    {
     "name": "stdout",
     "output_type": "stream",
     "text": [
      "iter=1100\tepsilon=0.054\treward/step=0.08800\n"
     ]
    },
    {
     "name": "stderr",
     "output_type": "stream",
     "text": [
      "[2017-06-26 20:16:51,318] Finished writing results. You can upload them to the scoreboard via gym.upload('/home/ubuntu/records')\n",
      " 55%|█████▌    | 1101/2000 [04:13<13:44,  1.09it/s]"
     ]
    },
    {
     "name": "stdout",
     "output_type": "stream",
     "text": [
      "Episode finished after 226 timesteps with reward=26.0\n"
     ]
    },
    {
     "name": "stderr",
     "output_type": "stream",
     "text": [
      " 56%|█████▌    | 1111/2000 [04:15<03:10,  4.67it/s]"
     ]
    },
    {
     "name": "stdout",
     "output_type": "stream",
     "text": [
      "iter=1110\tepsilon=0.054\treward/step=0.08733\n"
     ]
    },
    {
     "name": "stderr",
     "output_type": "stream",
     "text": [
      " 56%|█████▌    | 1121/2000 [04:17<02:50,  5.15it/s]"
     ]
    },
    {
     "name": "stdout",
     "output_type": "stream",
     "text": [
      "iter=1120\tepsilon=0.054\treward/step=0.08733\n"
     ]
    },
    {
     "name": "stderr",
     "output_type": "stream",
     "text": [
      " 57%|█████▋    | 1131/2000 [04:19<02:47,  5.19it/s]"
     ]
    },
    {
     "name": "stdout",
     "output_type": "stream",
     "text": [
      "iter=1130\tepsilon=0.053\treward/step=0.08733\n"
     ]
    },
    {
     "name": "stderr",
     "output_type": "stream",
     "text": [
      " 57%|█████▋    | 1141/2000 [04:21<02:43,  5.24it/s]"
     ]
    },
    {
     "name": "stdout",
     "output_type": "stream",
     "text": [
      "iter=1140\tepsilon=0.053\treward/step=0.08800\n"
     ]
    },
    {
     "name": "stderr",
     "output_type": "stream",
     "text": [
      " 57%|█████▋    | 1149/2000 [04:23<02:46,  5.11it/s][2017-06-26 20:17:01,106] Making new env: ppaquette/DoomDefendLine-v0\n",
      "[2017-06-26 20:17:01,111] Clearing 2 monitor files from previous run (because force=True was provided)\n"
     ]
    },
    {
     "name": "stdout",
     "output_type": "stream",
     "text": [
      "iter=1150\tepsilon=0.053\treward/step=0.08867\n"
     ]
    },
    {
     "name": "stderr",
     "output_type": "stream",
     "text": [
      "[2017-06-26 20:17:03,207] Finished writing results. You can upload them to the scoreboard via gym.upload('/home/ubuntu/records')\n",
      " 58%|█████▊    | 1151/2000 [04:25<09:01,  1.57it/s]"
     ]
    },
    {
     "name": "stdout",
     "output_type": "stream",
     "text": [
      "Episode finished after 132 timesteps with reward=17.0\n"
     ]
    },
    {
     "name": "stderr",
     "output_type": "stream",
     "text": [
      " 58%|█████▊    | 1161/2000 [04:27<02:52,  4.86it/s]"
     ]
    },
    {
     "name": "stdout",
     "output_type": "stream",
     "text": [
      "iter=1160\tepsilon=0.053\treward/step=0.08933\n"
     ]
    },
    {
     "name": "stderr",
     "output_type": "stream",
     "text": [
      " 59%|█████▊    | 1171/2000 [04:29<02:41,  5.14it/s]"
     ]
    },
    {
     "name": "stdout",
     "output_type": "stream",
     "text": [
      "iter=1170\tepsilon=0.053\treward/step=0.09067\n"
     ]
    },
    {
     "name": "stderr",
     "output_type": "stream",
     "text": [
      " 59%|█████▉    | 1181/2000 [04:31<02:39,  5.12it/s]"
     ]
    },
    {
     "name": "stdout",
     "output_type": "stream",
     "text": [
      "iter=1180\tepsilon=0.053\treward/step=0.09200\n"
     ]
    },
    {
     "name": "stderr",
     "output_type": "stream",
     "text": [
      " 60%|█████▉    | 1191/2000 [04:33<02:37,  5.13it/s]"
     ]
    },
    {
     "name": "stdout",
     "output_type": "stream",
     "text": [
      "iter=1190\tepsilon=0.052\treward/step=0.09200\n"
     ]
    },
    {
     "name": "stderr",
     "output_type": "stream",
     "text": [
      " 60%|█████▉    | 1199/2000 [04:35<02:36,  5.11it/s][2017-06-26 20:17:13,071] Making new env: ppaquette/DoomDefendLine-v0\n",
      "[2017-06-26 20:17:13,075] Clearing 2 monitor files from previous run (because force=True was provided)\n"
     ]
    },
    {
     "name": "stdout",
     "output_type": "stream",
     "text": [
      "iter=1200\tepsilon=0.052\treward/step=0.09400\n"
     ]
    },
    {
     "name": "stderr",
     "output_type": "stream",
     "text": [
      "[2017-06-26 20:17:16,275] Finished writing results. You can upload them to the scoreboard via gym.upload('/home/ubuntu/records')\n",
      " 60%|██████    | 1201/2000 [04:38<11:37,  1.15it/s]"
     ]
    },
    {
     "name": "stdout",
     "output_type": "stream",
     "text": [
      "Episode finished after 213 timesteps with reward=26.0\n"
     ]
    },
    {
     "name": "stderr",
     "output_type": "stream",
     "text": [
      " 61%|██████    | 1211/2000 [04:40<02:47,  4.71it/s]"
     ]
    },
    {
     "name": "stdout",
     "output_type": "stream",
     "text": [
      "iter=1210\tepsilon=0.052\treward/step=0.09400\n"
     ]
    },
    {
     "name": "stderr",
     "output_type": "stream",
     "text": [
      " 61%|██████    | 1221/2000 [04:42<02:30,  5.18it/s]"
     ]
    },
    {
     "name": "stdout",
     "output_type": "stream",
     "text": [
      "iter=1220\tepsilon=0.052\treward/step=0.09533\n"
     ]
    },
    {
     "name": "stderr",
     "output_type": "stream",
     "text": [
      " 62%|██████▏   | 1231/2000 [04:44<02:28,  5.18it/s]"
     ]
    },
    {
     "name": "stdout",
     "output_type": "stream",
     "text": [
      "iter=1230\tepsilon=0.052\treward/step=0.09667\n"
     ]
    },
    {
     "name": "stderr",
     "output_type": "stream",
     "text": [
      " 62%|██████▏   | 1241/2000 [04:46<02:27,  5.14it/s]"
     ]
    },
    {
     "name": "stdout",
     "output_type": "stream",
     "text": [
      "iter=1240\tepsilon=0.052\treward/step=0.09600\n"
     ]
    },
    {
     "name": "stderr",
     "output_type": "stream",
     "text": [
      " 62%|██████▏   | 1249/2000 [04:48<02:24,  5.20it/s][2017-06-26 20:17:26,081] Making new env: ppaquette/DoomDefendLine-v0\n",
      "[2017-06-26 20:17:26,086] Clearing 2 monitor files from previous run (because force=True was provided)\n"
     ]
    },
    {
     "name": "stdout",
     "output_type": "stream",
     "text": [
      "iter=1250\tepsilon=0.052\treward/step=0.09600\n"
     ]
    },
    {
     "name": "stderr",
     "output_type": "stream",
     "text": [
      "[2017-06-26 20:17:28,390] Finished writing results. You can upload them to the scoreboard via gym.upload('/home/ubuntu/records')\n",
      " 63%|██████▎   | 1251/2000 [04:51<08:30,  1.47it/s]"
     ]
    },
    {
     "name": "stdout",
     "output_type": "stream",
     "text": [
      "Episode finished after 148 timesteps with reward=19.0\n"
     ]
    },
    {
     "name": "stderr",
     "output_type": "stream",
     "text": [
      " 63%|██████▎   | 1261/2000 [04:53<02:32,  4.84it/s]"
     ]
    },
    {
     "name": "stdout",
     "output_type": "stream",
     "text": [
      "iter=1260\tepsilon=0.052\treward/step=0.09667\n"
     ]
    },
    {
     "name": "stderr",
     "output_type": "stream",
     "text": [
      " 64%|██████▎   | 1271/2000 [04:54<02:21,  5.14it/s]"
     ]
    },
    {
     "name": "stdout",
     "output_type": "stream",
     "text": [
      "iter=1270\tepsilon=0.052\treward/step=0.09600\n"
     ]
    },
    {
     "name": "stderr",
     "output_type": "stream",
     "text": [
      " 64%|██████▍   | 1281/2000 [04:56<02:18,  5.19it/s]"
     ]
    },
    {
     "name": "stdout",
     "output_type": "stream",
     "text": [
      "iter=1280\tepsilon=0.052\treward/step=0.09333\n"
     ]
    },
    {
     "name": "stderr",
     "output_type": "stream",
     "text": [
      " 65%|██████▍   | 1291/2000 [04:58<02:17,  5.14it/s]"
     ]
    },
    {
     "name": "stdout",
     "output_type": "stream",
     "text": [
      "iter=1290\tepsilon=0.052\treward/step=0.09333\n"
     ]
    },
    {
     "name": "stderr",
     "output_type": "stream",
     "text": [
      " 65%|██████▍   | 1299/2000 [05:00<02:16,  5.15it/s][2017-06-26 20:17:38,205] Making new env: ppaquette/DoomDefendLine-v0\n",
      "[2017-06-26 20:17:38,210] Clearing 2 monitor files from previous run (because force=True was provided)\n"
     ]
    },
    {
     "name": "stdout",
     "output_type": "stream",
     "text": [
      "iter=1300\tepsilon=0.051\treward/step=0.09267\n"
     ]
    },
    {
     "name": "stderr",
     "output_type": "stream",
     "text": [
      "[2017-06-26 20:17:40,348] Finished writing results. You can upload them to the scoreboard via gym.upload('/home/ubuntu/records')\n",
      " 65%|██████▌   | 1301/2000 [05:03<07:31,  1.55it/s]"
     ]
    },
    {
     "name": "stdout",
     "output_type": "stream",
     "text": [
      "Episode finished after 136 timesteps with reward=17.0\n"
     ]
    },
    {
     "name": "stderr",
     "output_type": "stream",
     "text": [
      " 66%|██████▌   | 1311/2000 [05:04<02:22,  4.85it/s]"
     ]
    },
    {
     "name": "stdout",
     "output_type": "stream",
     "text": [
      "iter=1310\tepsilon=0.051\treward/step=0.09200\n"
     ]
    },
    {
     "name": "stderr",
     "output_type": "stream",
     "text": [
      " 66%|██████▌   | 1321/2000 [05:06<02:12,  5.12it/s]"
     ]
    },
    {
     "name": "stdout",
     "output_type": "stream",
     "text": [
      "iter=1320\tepsilon=0.051\treward/step=0.08933\n"
     ]
    },
    {
     "name": "stderr",
     "output_type": "stream",
     "text": [
      " 67%|██████▋   | 1331/2000 [05:08<02:08,  5.21it/s]"
     ]
    },
    {
     "name": "stdout",
     "output_type": "stream",
     "text": [
      "iter=1330\tepsilon=0.051\treward/step=0.09200\n"
     ]
    },
    {
     "name": "stderr",
     "output_type": "stream",
     "text": [
      " 67%|██████▋   | 1341/2000 [05:10<02:07,  5.17it/s]"
     ]
    },
    {
     "name": "stdout",
     "output_type": "stream",
     "text": [
      "iter=1340\tepsilon=0.051\treward/step=0.09267\n"
     ]
    },
    {
     "name": "stderr",
     "output_type": "stream",
     "text": [
      " 67%|██████▋   | 1349/2000 [05:12<02:07,  5.10it/s][2017-06-26 20:17:50,175] Making new env: ppaquette/DoomDefendLine-v0\n",
      "[2017-06-26 20:17:50,180] Clearing 2 monitor files from previous run (because force=True was provided)\n"
     ]
    },
    {
     "name": "stdout",
     "output_type": "stream",
     "text": [
      "iter=1350\tepsilon=0.051\treward/step=0.09200\n"
     ]
    },
    {
     "name": "stderr",
     "output_type": "stream",
     "text": [
      "[2017-06-26 20:17:53,163] Finished writing results. You can upload them to the scoreboard via gym.upload('/home/ubuntu/records')\n",
      " 68%|██████▊   | 1351/2000 [05:15<08:54,  1.21it/s]"
     ]
    },
    {
     "name": "stdout",
     "output_type": "stream",
     "text": [
      "Episode finished after 193 timesteps with reward=19.0\n"
     ]
    },
    {
     "name": "stderr",
     "output_type": "stream",
     "text": [
      " 68%|██████▊   | 1361/2000 [05:17<02:15,  4.70it/s]"
     ]
    },
    {
     "name": "stdout",
     "output_type": "stream",
     "text": [
      "iter=1360\tepsilon=0.051\treward/step=0.09200\n"
     ]
    },
    {
     "name": "stderr",
     "output_type": "stream",
     "text": [
      " 69%|██████▊   | 1371/2000 [05:19<02:01,  5.16it/s]"
     ]
    },
    {
     "name": "stdout",
     "output_type": "stream",
     "text": [
      "iter=1370\tepsilon=0.051\treward/step=0.09400\n"
     ]
    },
    {
     "name": "stderr",
     "output_type": "stream",
     "text": [
      " 69%|██████▉   | 1381/2000 [05:21<02:00,  5.14it/s]"
     ]
    },
    {
     "name": "stdout",
     "output_type": "stream",
     "text": [
      "iter=1380\tepsilon=0.051\treward/step=0.09467\n"
     ]
    },
    {
     "name": "stderr",
     "output_type": "stream",
     "text": [
      " 70%|██████▉   | 1391/2000 [05:23<01:57,  5.19it/s]"
     ]
    },
    {
     "name": "stdout",
     "output_type": "stream",
     "text": [
      "iter=1390\tepsilon=0.051\treward/step=0.09333\n"
     ]
    },
    {
     "name": "stderr",
     "output_type": "stream",
     "text": [
      " 70%|██████▉   | 1399/2000 [05:25<01:57,  5.11it/s][2017-06-26 20:18:02,977] Making new env: ppaquette/DoomDefendLine-v0\n",
      "[2017-06-26 20:18:02,982] Clearing 2 monitor files from previous run (because force=True was provided)\n"
     ]
    },
    {
     "name": "stdout",
     "output_type": "stream",
     "text": [
      "iter=1400\tepsilon=0.051\treward/step=0.09133\n"
     ]
    },
    {
     "name": "stderr",
     "output_type": "stream",
     "text": [
      "[2017-06-26 20:18:03,807] Finished writing results. You can upload them to the scoreboard via gym.upload('/home/ubuntu/records')\n",
      " 70%|███████   | 1401/2000 [05:26<03:42,  2.69it/s]"
     ]
    },
    {
     "name": "stdout",
     "output_type": "stream",
     "text": [
      "Episode finished after 45 timesteps with reward=2.0\n"
     ]
    },
    {
     "name": "stderr",
     "output_type": "stream",
     "text": [
      " 71%|███████   | 1411/2000 [05:28<01:56,  5.06it/s]"
     ]
    },
    {
     "name": "stdout",
     "output_type": "stream",
     "text": [
      "iter=1410\tepsilon=0.051\treward/step=0.09267\n"
     ]
    },
    {
     "name": "stderr",
     "output_type": "stream",
     "text": [
      " 71%|███████   | 1421/2000 [05:30<01:48,  5.35it/s]"
     ]
    },
    {
     "name": "stdout",
     "output_type": "stream",
     "text": [
      "iter=1420\tepsilon=0.051\treward/step=0.09267\n"
     ]
    },
    {
     "name": "stderr",
     "output_type": "stream",
     "text": [
      " 72%|███████▏  | 1431/2000 [05:32<01:46,  5.33it/s]"
     ]
    },
    {
     "name": "stdout",
     "output_type": "stream",
     "text": [
      "iter=1430\tepsilon=0.051\treward/step=0.09200\n"
     ]
    },
    {
     "name": "stderr",
     "output_type": "stream",
     "text": [
      " 72%|███████▏  | 1441/2000 [05:34<01:44,  5.34it/s]"
     ]
    },
    {
     "name": "stdout",
     "output_type": "stream",
     "text": [
      "iter=1440\tepsilon=0.051\treward/step=0.09133\n"
     ]
    },
    {
     "name": "stderr",
     "output_type": "stream",
     "text": [
      " 72%|███████▏  | 1449/2000 [05:35<01:44,  5.27it/s][2017-06-26 20:18:13,442] Making new env: ppaquette/DoomDefendLine-v0\n",
      "[2017-06-26 20:18:13,447] Clearing 2 monitor files from previous run (because force=True was provided)\n"
     ]
    },
    {
     "name": "stdout",
     "output_type": "stream",
     "text": [
      "iter=1450\tepsilon=0.051\treward/step=0.09000\n"
     ]
    },
    {
     "name": "stderr",
     "output_type": "stream",
     "text": [
      "[2017-06-26 20:18:14,768] Finished writing results. You can upload them to the scoreboard via gym.upload('/home/ubuntu/records')\n",
      " 73%|███████▎  | 1451/2000 [05:37<04:19,  2.12it/s]"
     ]
    },
    {
     "name": "stdout",
     "output_type": "stream",
     "text": [
      "Episode finished after 81 timesteps with reward=8.0\n"
     ]
    },
    {
     "name": "stderr",
     "output_type": "stream",
     "text": [
      " 73%|███████▎  | 1461/2000 [05:39<01:48,  4.97it/s]"
     ]
    },
    {
     "name": "stdout",
     "output_type": "stream",
     "text": [
      "iter=1460\tepsilon=0.051\treward/step=0.09067\n"
     ]
    },
    {
     "name": "stderr",
     "output_type": "stream",
     "text": [
      " 74%|███████▎  | 1471/2000 [05:41<01:42,  5.18it/s]"
     ]
    },
    {
     "name": "stdout",
     "output_type": "stream",
     "text": [
      "iter=1470\tepsilon=0.051\treward/step=0.09067\n"
     ]
    },
    {
     "name": "stderr",
     "output_type": "stream",
     "text": [
      " 74%|███████▍  | 1481/2000 [05:43<01:39,  5.19it/s]"
     ]
    },
    {
     "name": "stdout",
     "output_type": "stream",
     "text": [
      "iter=1480\tepsilon=0.051\treward/step=0.08933\n"
     ]
    },
    {
     "name": "stderr",
     "output_type": "stream",
     "text": [
      " 75%|███████▍  | 1491/2000 [05:45<01:37,  5.22it/s]"
     ]
    },
    {
     "name": "stdout",
     "output_type": "stream",
     "text": [
      "iter=1490\tepsilon=0.051\treward/step=0.08933\n"
     ]
    },
    {
     "name": "stderr",
     "output_type": "stream",
     "text": [
      " 75%|███████▍  | 1499/2000 [05:46<01:37,  5.12it/s][2017-06-26 20:18:24,578] Making new env: ppaquette/DoomDefendLine-v0\n",
      "[2017-06-26 20:18:24,583] Clearing 2 monitor files from previous run (because force=True was provided)\n"
     ]
    },
    {
     "name": "stdout",
     "output_type": "stream",
     "text": [
      "iter=1500\tepsilon=0.051\treward/step=0.08933\n"
     ]
    },
    {
     "name": "stderr",
     "output_type": "stream",
     "text": [
      "[2017-06-26 20:18:26,314] Finished writing results. You can upload them to the scoreboard via gym.upload('/home/ubuntu/records')\n",
      " 75%|███████▌  | 1501/2000 [05:48<04:40,  1.78it/s]"
     ]
    },
    {
     "name": "stdout",
     "output_type": "stream",
     "text": [
      "Episode finished after 110 timesteps with reward=12.0\n"
     ]
    },
    {
     "name": "stderr",
     "output_type": "stream",
     "text": [
      " 76%|███████▌  | 1511/2000 [05:50<01:37,  5.00it/s]"
     ]
    },
    {
     "name": "stdout",
     "output_type": "stream",
     "text": [
      "iter=1510\tepsilon=0.050\treward/step=0.08800\n"
     ]
    },
    {
     "name": "stderr",
     "output_type": "stream",
     "text": [
      " 76%|███████▌  | 1521/2000 [05:52<01:31,  5.22it/s]"
     ]
    },
    {
     "name": "stdout",
     "output_type": "stream",
     "text": [
      "iter=1520\tepsilon=0.050\treward/step=0.08667\n"
     ]
    },
    {
     "name": "stderr",
     "output_type": "stream",
     "text": [
      " 77%|███████▋  | 1531/2000 [05:54<01:30,  5.18it/s]"
     ]
    },
    {
     "name": "stdout",
     "output_type": "stream",
     "text": [
      "iter=1530\tepsilon=0.050\treward/step=0.08600\n"
     ]
    },
    {
     "name": "stderr",
     "output_type": "stream",
     "text": [
      " 77%|███████▋  | 1541/2000 [05:56<01:28,  5.16it/s]"
     ]
    },
    {
     "name": "stdout",
     "output_type": "stream",
     "text": [
      "iter=1540\tepsilon=0.050\treward/step=0.08667\n"
     ]
    },
    {
     "name": "stderr",
     "output_type": "stream",
     "text": [
      " 77%|███████▋  | 1549/2000 [05:58<01:25,  5.26it/s][2017-06-26 20:18:36,033] Making new env: ppaquette/DoomDefendLine-v0\n",
      "[2017-06-26 20:18:36,038] Clearing 2 monitor files from previous run (because force=True was provided)\n"
     ]
    },
    {
     "name": "stdout",
     "output_type": "stream",
     "text": [
      "iter=1550\tepsilon=0.050\treward/step=0.08667\n"
     ]
    },
    {
     "name": "stderr",
     "output_type": "stream",
     "text": [
      "[2017-06-26 20:18:38,702] Finished writing results. You can upload them to the scoreboard via gym.upload('/home/ubuntu/records')\n",
      " 78%|███████▊  | 1551/2000 [06:01<05:38,  1.33it/s]"
     ]
    },
    {
     "name": "stdout",
     "output_type": "stream",
     "text": [
      "Episode finished after 173 timesteps with reward=18.0\n"
     ]
    },
    {
     "name": "stderr",
     "output_type": "stream",
     "text": [
      " 78%|███████▊  | 1561/2000 [06:03<01:29,  4.89it/s]"
     ]
    },
    {
     "name": "stdout",
     "output_type": "stream",
     "text": [
      "iter=1560\tepsilon=0.050\treward/step=0.08333\n"
     ]
    },
    {
     "name": "stderr",
     "output_type": "stream",
     "text": [
      " 79%|███████▊  | 1571/2000 [06:05<01:22,  5.18it/s]"
     ]
    },
    {
     "name": "stdout",
     "output_type": "stream",
     "text": [
      "iter=1570\tepsilon=0.050\treward/step=0.08400\n"
     ]
    },
    {
     "name": "stderr",
     "output_type": "stream",
     "text": [
      " 79%|███████▉  | 1581/2000 [06:07<01:21,  5.14it/s]"
     ]
    },
    {
     "name": "stdout",
     "output_type": "stream",
     "text": [
      "iter=1580\tepsilon=0.050\treward/step=0.08600\n"
     ]
    },
    {
     "name": "stderr",
     "output_type": "stream",
     "text": [
      " 80%|███████▉  | 1591/2000 [06:09<01:19,  5.17it/s]"
     ]
    },
    {
     "name": "stdout",
     "output_type": "stream",
     "text": [
      "iter=1590\tepsilon=0.050\treward/step=0.08667\n"
     ]
    },
    {
     "name": "stderr",
     "output_type": "stream",
     "text": [
      " 80%|███████▉  | 1599/2000 [06:10<01:18,  5.13it/s][2017-06-26 20:18:48,470] Making new env: ppaquette/DoomDefendLine-v0\n",
      "[2017-06-26 20:18:48,474] Clearing 2 monitor files from previous run (because force=True was provided)\n"
     ]
    },
    {
     "name": "stdout",
     "output_type": "stream",
     "text": [
      "iter=1600\tepsilon=0.050\treward/step=0.08600\n"
     ]
    },
    {
     "name": "stderr",
     "output_type": "stream",
     "text": [
      "[2017-06-26 20:18:50,310] Finished writing results. You can upload them to the scoreboard via gym.upload('/home/ubuntu/records')\n",
      " 80%|████████  | 1601/2000 [06:12<03:53,  1.71it/s]"
     ]
    },
    {
     "name": "stdout",
     "output_type": "stream",
     "text": [
      "Episode finished after 113 timesteps with reward=13.0\n"
     ]
    },
    {
     "name": "stderr",
     "output_type": "stream",
     "text": [
      " 81%|████████  | 1611/2000 [06:14<01:19,  4.90it/s]"
     ]
    },
    {
     "name": "stdout",
     "output_type": "stream",
     "text": [
      "iter=1610\tepsilon=0.050\treward/step=0.08533\n"
     ]
    },
    {
     "name": "stderr",
     "output_type": "stream",
     "text": [
      " 81%|████████  | 1621/2000 [06:16<01:12,  5.22it/s]"
     ]
    },
    {
     "name": "stdout",
     "output_type": "stream",
     "text": [
      "iter=1620\tepsilon=0.050\treward/step=0.08533\n"
     ]
    },
    {
     "name": "stderr",
     "output_type": "stream",
     "text": [
      " 82%|████████▏ | 1631/2000 [06:18<01:11,  5.15it/s]"
     ]
    },
    {
     "name": "stdout",
     "output_type": "stream",
     "text": [
      "iter=1630\tepsilon=0.050\treward/step=0.08600\n"
     ]
    },
    {
     "name": "stderr",
     "output_type": "stream",
     "text": [
      " 82%|████████▏ | 1641/2000 [06:20<01:09,  5.18it/s]"
     ]
    },
    {
     "name": "stdout",
     "output_type": "stream",
     "text": [
      "iter=1640\tepsilon=0.050\treward/step=0.08600\n"
     ]
    },
    {
     "name": "stderr",
     "output_type": "stream",
     "text": [
      " 82%|████████▏ | 1649/2000 [06:22<01:08,  5.09it/s][2017-06-26 20:19:00,131] Making new env: ppaquette/DoomDefendLine-v0\n",
      "[2017-06-26 20:19:00,136] Clearing 2 monitor files from previous run (because force=True was provided)\n"
     ]
    },
    {
     "name": "stdout",
     "output_type": "stream",
     "text": [
      "iter=1650\tepsilon=0.050\treward/step=0.08600\n"
     ]
    },
    {
     "name": "stderr",
     "output_type": "stream",
     "text": [
      "[2017-06-26 20:19:02,995] Finished writing results. You can upload them to the scoreboard via gym.upload('/home/ubuntu/records')\n",
      " 83%|████████▎ | 1651/2000 [06:25<04:38,  1.25it/s]"
     ]
    },
    {
     "name": "stdout",
     "output_type": "stream",
     "text": [
      "Episode finished after 192 timesteps with reward=19.0\n"
     ]
    },
    {
     "name": "stderr",
     "output_type": "stream",
     "text": [
      " 83%|████████▎ | 1661/2000 [06:27<01:11,  4.74it/s]"
     ]
    },
    {
     "name": "stdout",
     "output_type": "stream",
     "text": [
      "iter=1660\tepsilon=0.050\treward/step=0.08733\n"
     ]
    },
    {
     "name": "stderr",
     "output_type": "stream",
     "text": [
      " 84%|████████▎ | 1671/2000 [06:29<01:02,  5.23it/s]"
     ]
    },
    {
     "name": "stdout",
     "output_type": "stream",
     "text": [
      "iter=1670\tepsilon=0.050\treward/step=0.08467\n"
     ]
    },
    {
     "name": "stderr",
     "output_type": "stream",
     "text": [
      " 84%|████████▍ | 1681/2000 [06:31<01:01,  5.17it/s]"
     ]
    },
    {
     "name": "stdout",
     "output_type": "stream",
     "text": [
      "iter=1680\tepsilon=0.050\treward/step=0.08533\n"
     ]
    },
    {
     "name": "stderr",
     "output_type": "stream",
     "text": [
      " 85%|████████▍ | 1691/2000 [06:33<00:59,  5.20it/s]"
     ]
    },
    {
     "name": "stdout",
     "output_type": "stream",
     "text": [
      "iter=1690\tepsilon=0.050\treward/step=0.08600\n"
     ]
    },
    {
     "name": "stderr",
     "output_type": "stream",
     "text": [
      " 85%|████████▍ | 1699/2000 [06:35<00:58,  5.16it/s][2017-06-26 20:19:12,777] Making new env: ppaquette/DoomDefendLine-v0\n",
      "[2017-06-26 20:19:12,782] Clearing 2 monitor files from previous run (because force=True was provided)\n"
     ]
    },
    {
     "name": "stdout",
     "output_type": "stream",
     "text": [
      "iter=1700\tepsilon=0.050\treward/step=0.08667\n"
     ]
    },
    {
     "name": "stderr",
     "output_type": "stream",
     "text": [
      "[2017-06-26 20:19:15,715] Finished writing results. You can upload them to the scoreboard via gym.upload('/home/ubuntu/records')\n",
      " 85%|████████▌ | 1701/2000 [06:38<04:02,  1.23it/s]"
     ]
    },
    {
     "name": "stdout",
     "output_type": "stream",
     "text": [
      "Episode finished after 193 timesteps with reward=22.0\n"
     ]
    },
    {
     "name": "stderr",
     "output_type": "stream",
     "text": [
      " 86%|████████▌ | 1711/2000 [06:40<01:00,  4.76it/s]"
     ]
    },
    {
     "name": "stdout",
     "output_type": "stream",
     "text": [
      "iter=1710\tepsilon=0.050\treward/step=0.08600\n"
     ]
    },
    {
     "name": "stderr",
     "output_type": "stream",
     "text": [
      " 86%|████████▌ | 1721/2000 [06:42<00:54,  5.15it/s]"
     ]
    },
    {
     "name": "stdout",
     "output_type": "stream",
     "text": [
      "iter=1720\tepsilon=0.050\treward/step=0.08800\n"
     ]
    },
    {
     "name": "stderr",
     "output_type": "stream",
     "text": [
      " 87%|████████▋ | 1731/2000 [06:44<00:52,  5.14it/s]"
     ]
    },
    {
     "name": "stdout",
     "output_type": "stream",
     "text": [
      "iter=1730\tepsilon=0.050\treward/step=0.09000\n"
     ]
    },
    {
     "name": "stderr",
     "output_type": "stream",
     "text": [
      " 87%|████████▋ | 1741/2000 [06:46<00:49,  5.27it/s]"
     ]
    },
    {
     "name": "stdout",
     "output_type": "stream",
     "text": [
      "iter=1740\tepsilon=0.050\treward/step=0.08867\n"
     ]
    },
    {
     "name": "stderr",
     "output_type": "stream",
     "text": [
      " 87%|████████▋ | 1749/2000 [06:47<00:49,  5.07it/s][2017-06-26 20:19:25,508] Making new env: ppaquette/DoomDefendLine-v0\n",
      "[2017-06-26 20:19:25,513] Clearing 2 monitor files from previous run (because force=True was provided)\n"
     ]
    },
    {
     "name": "stdout",
     "output_type": "stream",
     "text": [
      "iter=1750\tepsilon=0.050\treward/step=0.09133\n"
     ]
    },
    {
     "name": "stderr",
     "output_type": "stream",
     "text": [
      "[2017-06-26 20:19:27,076] Finished writing results. You can upload them to the scoreboard via gym.upload('/home/ubuntu/records')\n",
      " 88%|████████▊ | 1751/2000 [06:49<02:11,  1.90it/s]"
     ]
    },
    {
     "name": "stdout",
     "output_type": "stream",
     "text": [
      "Episode finished after 93 timesteps with reward=11.0\n"
     ]
    },
    {
     "name": "stderr",
     "output_type": "stream",
     "text": [
      " 88%|████████▊ | 1761/2000 [06:51<00:48,  4.95it/s]"
     ]
    },
    {
     "name": "stdout",
     "output_type": "stream",
     "text": [
      "iter=1760\tepsilon=0.050\treward/step=0.08933\n"
     ]
    },
    {
     "name": "stderr",
     "output_type": "stream",
     "text": [
      " 89%|████████▊ | 1771/2000 [06:53<00:44,  5.17it/s]"
     ]
    },
    {
     "name": "stdout",
     "output_type": "stream",
     "text": [
      "iter=1770\tepsilon=0.050\treward/step=0.08933\n"
     ]
    },
    {
     "name": "stderr",
     "output_type": "stream",
     "text": [
      " 89%|████████▉ | 1781/2000 [06:55<00:41,  5.22it/s]"
     ]
    },
    {
     "name": "stdout",
     "output_type": "stream",
     "text": [
      "iter=1780\tepsilon=0.050\treward/step=0.09133\n"
     ]
    },
    {
     "name": "stderr",
     "output_type": "stream",
     "text": [
      " 90%|████████▉ | 1791/2000 [06:57<00:40,  5.14it/s]"
     ]
    },
    {
     "name": "stdout",
     "output_type": "stream",
     "text": [
      "iter=1790\tepsilon=0.050\treward/step=0.09067\n"
     ]
    },
    {
     "name": "stderr",
     "output_type": "stream",
     "text": [
      " 90%|████████▉ | 1799/2000 [06:59<00:39,  5.06it/s][2017-06-26 20:19:36,896] Making new env: ppaquette/DoomDefendLine-v0\n",
      "[2017-06-26 20:19:36,900] Clearing 2 monitor files from previous run (because force=True was provided)\n"
     ]
    },
    {
     "name": "stdout",
     "output_type": "stream",
     "text": [
      "iter=1800\tepsilon=0.050\treward/step=0.08933\n"
     ]
    },
    {
     "name": "stderr",
     "output_type": "stream",
     "text": [
      "[2017-06-26 20:19:39,795] Finished writing results. You can upload them to the scoreboard via gym.upload('/home/ubuntu/records')\n",
      " 90%|█████████ | 1801/2000 [07:02<02:40,  1.24it/s]"
     ]
    },
    {
     "name": "stdout",
     "output_type": "stream",
     "text": [
      "Episode finished after 190 timesteps with reward=22.0\n"
     ]
    },
    {
     "name": "stderr",
     "output_type": "stream",
     "text": [
      " 91%|█████████ | 1811/2000 [07:04<00:39,  4.74it/s]"
     ]
    },
    {
     "name": "stdout",
     "output_type": "stream",
     "text": [
      "iter=1810\tepsilon=0.050\treward/step=0.09067\n"
     ]
    },
    {
     "name": "stderr",
     "output_type": "stream",
     "text": [
      " 91%|█████████ | 1821/2000 [07:06<00:34,  5.17it/s]"
     ]
    },
    {
     "name": "stdout",
     "output_type": "stream",
     "text": [
      "iter=1820\tepsilon=0.050\treward/step=0.09133\n"
     ]
    },
    {
     "name": "stderr",
     "output_type": "stream",
     "text": [
      " 92%|█████████▏| 1831/2000 [07:08<00:31,  5.30it/s]"
     ]
    },
    {
     "name": "stdout",
     "output_type": "stream",
     "text": [
      "iter=1830\tepsilon=0.050\treward/step=0.09000\n"
     ]
    },
    {
     "name": "stderr",
     "output_type": "stream",
     "text": [
      " 92%|█████████▏| 1841/2000 [07:10<00:29,  5.33it/s]"
     ]
    },
    {
     "name": "stdout",
     "output_type": "stream",
     "text": [
      "iter=1840\tepsilon=0.050\treward/step=0.08733\n"
     ]
    },
    {
     "name": "stderr",
     "output_type": "stream",
     "text": [
      " 92%|█████████▏| 1849/2000 [07:11<00:28,  5.26it/s][2017-06-26 20:19:49,466] Making new env: ppaquette/DoomDefendLine-v0\n",
      "[2017-06-26 20:19:49,471] Clearing 2 monitor files from previous run (because force=True was provided)\n"
     ]
    },
    {
     "name": "stdout",
     "output_type": "stream",
     "text": [
      "iter=1850\tepsilon=0.050\treward/step=0.08800\n"
     ]
    },
    {
     "name": "stderr",
     "output_type": "stream",
     "text": [
      "[2017-06-26 20:19:52,142] Finished writing results. You can upload them to the scoreboard via gym.upload('/home/ubuntu/records')\n",
      " 93%|█████████▎| 1851/2000 [07:14<01:52,  1.32it/s]"
     ]
    },
    {
     "name": "stdout",
     "output_type": "stream",
     "text": [
      "Episode finished after 174 timesteps with reward=17.0\n"
     ]
    },
    {
     "name": "stderr",
     "output_type": "stream",
     "text": [
      " 93%|█████████▎| 1861/2000 [07:16<00:28,  4.94it/s]"
     ]
    },
    {
     "name": "stdout",
     "output_type": "stream",
     "text": [
      "iter=1860\tepsilon=0.050\treward/step=0.08867\n"
     ]
    },
    {
     "name": "stderr",
     "output_type": "stream",
     "text": [
      " 94%|█████████▎| 1871/2000 [07:18<00:24,  5.17it/s]"
     ]
    },
    {
     "name": "stdout",
     "output_type": "stream",
     "text": [
      "iter=1870\tepsilon=0.050\treward/step=0.08733\n"
     ]
    },
    {
     "name": "stderr",
     "output_type": "stream",
     "text": [
      " 94%|█████████▍| 1881/2000 [07:20<00:23,  5.17it/s]"
     ]
    },
    {
     "name": "stdout",
     "output_type": "stream",
     "text": [
      "iter=1880\tepsilon=0.050\treward/step=0.08733\n"
     ]
    },
    {
     "name": "stderr",
     "output_type": "stream",
     "text": [
      " 95%|█████████▍| 1891/2000 [07:22<00:21,  5.13it/s]"
     ]
    },
    {
     "name": "stdout",
     "output_type": "stream",
     "text": [
      "iter=1890\tepsilon=0.050\treward/step=0.08600\n"
     ]
    },
    {
     "name": "stderr",
     "output_type": "stream",
     "text": [
      " 95%|█████████▍| 1899/2000 [07:24<00:19,  5.09it/s][2017-06-26 20:20:01,916] Making new env: ppaquette/DoomDefendLine-v0\n",
      "[2017-06-26 20:20:01,921] Clearing 2 monitor files from previous run (because force=True was provided)\n"
     ]
    },
    {
     "name": "stdout",
     "output_type": "stream",
     "text": [
      "iter=1900\tepsilon=0.050\treward/step=0.08667\n"
     ]
    },
    {
     "name": "stderr",
     "output_type": "stream",
     "text": [
      "[2017-06-26 20:20:04,242] Finished writing results. You can upload them to the scoreboard via gym.upload('/home/ubuntu/records')\n",
      " 95%|█████████▌| 1900/2000 [07:26<01:31,  1.10it/s]"
     ]
    },
    {
     "name": "stdout",
     "output_type": "stream",
     "text": [
      "Episode finished after 148 timesteps with reward=18.0\n"
     ]
    },
    {
     "name": "stderr",
     "output_type": "stream",
     "text": [
      " 96%|█████████▌| 1911/2000 [07:28<00:18,  4.86it/s]"
     ]
    },
    {
     "name": "stdout",
     "output_type": "stream",
     "text": [
      "iter=1910\tepsilon=0.050\treward/step=0.08733\n"
     ]
    },
    {
     "name": "stderr",
     "output_type": "stream",
     "text": [
      " 96%|█████████▌| 1921/2000 [07:30<00:15,  5.16it/s]"
     ]
    },
    {
     "name": "stdout",
     "output_type": "stream",
     "text": [
      "iter=1920\tepsilon=0.050\treward/step=0.08933\n"
     ]
    },
    {
     "name": "stderr",
     "output_type": "stream",
     "text": [
      " 97%|█████████▋| 1931/2000 [07:32<00:13,  5.22it/s]"
     ]
    },
    {
     "name": "stdout",
     "output_type": "stream",
     "text": [
      "iter=1930\tepsilon=0.050\treward/step=0.09000\n"
     ]
    },
    {
     "name": "stderr",
     "output_type": "stream",
     "text": [
      " 97%|█████████▋| 1941/2000 [07:34<00:11,  5.22it/s]"
     ]
    },
    {
     "name": "stdout",
     "output_type": "stream",
     "text": [
      "iter=1940\tepsilon=0.050\treward/step=0.09000\n"
     ]
    },
    {
     "name": "stderr",
     "output_type": "stream",
     "text": [
      " 97%|█████████▋| 1949/2000 [07:36<00:09,  5.14it/s][2017-06-26 20:20:14,003] Making new env: ppaquette/DoomDefendLine-v0\n",
      "[2017-06-26 20:20:14,008] Clearing 2 monitor files from previous run (because force=True was provided)\n"
     ]
    },
    {
     "name": "stdout",
     "output_type": "stream",
     "text": [
      "iter=1950\tepsilon=0.050\treward/step=0.08867\n"
     ]
    },
    {
     "name": "stderr",
     "output_type": "stream",
     "text": [
      "[2017-06-26 20:20:16,020] Finished writing results. You can upload them to the scoreboard via gym.upload('/home/ubuntu/records')\n",
      " 98%|█████████▊| 1951/2000 [07:38<00:30,  1.62it/s]"
     ]
    },
    {
     "name": "stdout",
     "output_type": "stream",
     "text": [
      "Episode finished after 127 timesteps with reward=16.0\n"
     ]
    },
    {
     "name": "stderr",
     "output_type": "stream",
     "text": [
      " 98%|█████████▊| 1961/2000 [07:40<00:08,  4.77it/s]"
     ]
    },
    {
     "name": "stdout",
     "output_type": "stream",
     "text": [
      "iter=1960\tepsilon=0.050\treward/step=0.08667\n"
     ]
    },
    {
     "name": "stderr",
     "output_type": "stream",
     "text": [
      " 99%|█████████▊| 1971/2000 [07:42<00:05,  5.12it/s]"
     ]
    },
    {
     "name": "stdout",
     "output_type": "stream",
     "text": [
      "iter=1970\tepsilon=0.050\treward/step=0.08667\n"
     ]
    },
    {
     "name": "stderr",
     "output_type": "stream",
     "text": [
      " 99%|█████████▉| 1981/2000 [07:44<00:03,  5.23it/s]"
     ]
    },
    {
     "name": "stdout",
     "output_type": "stream",
     "text": [
      "iter=1980\tepsilon=0.050\treward/step=0.08600\n"
     ]
    },
    {
     "name": "stderr",
     "output_type": "stream",
     "text": [
      "100%|█████████▉| 1991/2000 [07:46<00:01,  5.16it/s]"
     ]
    },
    {
     "name": "stdout",
     "output_type": "stream",
     "text": [
      "iter=1990\tepsilon=0.050\treward/step=0.08733\n"
     ]
    },
    {
     "name": "stderr",
     "output_type": "stream",
     "text": [
      "100%|█████████▉| 1999/2000 [07:48<00:00,  5.21it/s][2017-06-26 20:20:25,829] Making new env: ppaquette/DoomDefendLine-v0\n",
      "[2017-06-26 20:20:25,833] Clearing 2 monitor files from previous run (because force=True was provided)\n"
     ]
    },
    {
     "name": "stdout",
     "output_type": "stream",
     "text": [
      "iter=2000\tepsilon=0.050\treward/step=0.08533\n"
     ]
    },
    {
     "name": "stderr",
     "output_type": "stream",
     "text": [
      "[2017-06-26 20:20:28,036] Finished writing results. You can upload them to the scoreboard via gym.upload('/home/ubuntu/records')\n",
      "100%|██████████| 2000/2000 [07:50<00:00,  1.15it/s]"
     ]
    },
    {
     "name": "stdout",
     "output_type": "stream",
     "text": [
      "Episode finished after 140 timesteps with reward=16.0\n"
     ]
    },
    {
     "name": "stderr",
     "output_type": "stream",
     "text": [
      "\n"
     ]
    }
   ],
   "source": [
    "from tqdm import trange\n",
    "#the loop may take eons to finish.\n",
    "#consider interrupting early.\n",
    "for i in trange(2000):    \n",
    "    \n",
    "    \n",
    "    #train\n",
    "    pool.update(SEQ_LENGTH,append=True)\n",
    "    \n",
    "    loss = train_step()\n",
    "    \n",
    "    targetnet.load_weights(0.01)\n",
    "    \n",
    "    ##update resolver's epsilon (chance of random action instead of optimal one)\n",
    "    current_epsilon = 0.05 + 0.95*np.exp(-epoch_counter/200.)\n",
    "    action_layer.epsilon.set_value(np.float32(current_epsilon))\n",
    "    \n",
    "    if epoch_counter%10==0:\n",
    "        #average reward per game tick in current experience replay pool\n",
    "        pool_mean_reward = pool.experience_replay.rewards.get_value().mean()\n",
    "        print(\"iter=%i\\tepsilon=%.3f\\treward/step=%.5f\"%(epoch_counter,\n",
    "                                                         current_epsilon,\n",
    "                                                         pool_mean_reward))\n",
    "        \n",
    "    ##record current learning progress and show learning curves\n",
    "    if epoch_counter%50 ==0:\n",
    "        rewards[epoch_counter] = pool.evaluate(record_video=False)\n",
    "    \n",
    "    epoch_counter  +=1\n",
    "\n",
    "    \n",
    "# Time to drink some coffee!"
   ]
  },
  {
   "cell_type": "markdown",
   "metadata": {},
   "source": [
    "# Evaluating results\n",
    " * Here we plot learning curves and sample testimonials"
   ]
  },
  {
   "cell_type": "code",
   "execution_count": 22,
   "metadata": {},
   "outputs": [
    {
     "data": {
      "text/plain": [
       "[<matplotlib.lines.Line2D at 0x7f3d7ce72e10>]"
      ]
     },
     "execution_count": 22,
     "metadata": {},
     "output_type": "execute_result"
    },
    {
     "data": {
      "image/png": "[encoded data removed]",
      "text/plain": [
       "<matplotlib.figure.Figure at 0x7f3d89c952b0>"
      ]
     },
     "metadata": {},
     "output_type": "display_data"
    }
   ],
   "source": [
    "time,rw = zip(*sorted(list(rewards.items()),key=lambda p:p[0]))\n",
    "plt.plot(time,list(map(np.mean,rw)))\n",
    "    "
   ]
  },
  {
   "cell_type": "code",
   "execution_count": 23,
   "metadata": {
    "collapsed": true
   },
   "outputs": [],
   "source": [
    "with open('{}'.format(GAME_NAME.split('/')[1]), 'w') as outp:\n",
    "    for idx in range(len(time)):\n",
    "        print(time[idx], rw[idx], file=outp)"
   ]
  },
  {
   "cell_type": "code",
   "execution_count": 24,
   "metadata": {},
   "outputs": [
    {
     "name": "stderr",
     "output_type": "stream",
     "text": [
      "[2017-06-26 20:20:28,252] Making new env: ppaquette/DoomDefendLine-v0\n",
      "[2017-06-26 20:20:28,260] Clearing 2 monitor files from previous run (because force=True was provided)\n",
      "[2017-06-26 20:20:28,503] Starting new video recorder writing to /home/ubuntu/records/openaigym.video.41.14018.video000000.mp4\n"
     ]
    },
    {
     "name": "stdout",
     "output_type": "stream",
     "text": [
      "Episode finished after 91 timesteps with reward=10.0\n"
     ]
    },
    {
     "name": "stderr",
     "output_type": "stream",
     "text": [
      "[2017-06-26 20:20:30,833] Starting new video recorder writing to /home/ubuntu/records/openaigym.video.41.14018.video000001.mp4\n"
     ]
    },
    {
     "name": "stdout",
     "output_type": "stream",
     "text": [
      "Episode finished after 93 timesteps with reward=12.0\n",
      "Episode finished after 93 timesteps with reward=11.0\n",
      "Episode finished after 44 timesteps with reward=2.0\n",
      "Episode finished after 165 timesteps with reward=17.0\n",
      "Episode finished after 142 timesteps with reward=18.0\n",
      "Episode finished after 80 timesteps with reward=7.0\n"
     ]
    },
    {
     "name": "stderr",
     "output_type": "stream",
     "text": [
      "[2017-06-26 20:20:42,582] Starting new video recorder writing to /home/ubuntu/records/openaigym.video.41.14018.video000008.mp4\n"
     ]
    },
    {
     "name": "stdout",
     "output_type": "stream",
     "text": [
      "Episode finished after 153 timesteps with reward=18.0\n",
      "Episode finished after 161 timesteps with reward=19.0\n",
      "Episode finished after 61 timesteps with reward=4.0\n",
      "Episode finished after 95 timesteps with reward=8.0\n",
      "Episode finished after 171 timesteps with reward=21.0\n",
      "Episode finished after 201 timesteps with reward=25.0\n",
      "Episode finished after 76 timesteps with reward=6.0\n",
      "Episode finished after 99 timesteps with reward=12.0\n",
      "Episode finished after 121 timesteps with reward=14.0\n",
      "Episode finished after 229 timesteps with reward=26.0\n",
      "Episode finished after 187 timesteps with reward=21.0\n",
      "Episode finished after 201 timesteps with reward=23.0\n",
      "Episode finished after 69 timesteps with reward=5.0\n",
      "Episode finished after 202 timesteps with reward=25.0\n",
      "Episode finished after 140 timesteps with reward=16.0\n",
      "Episode finished after 140 timesteps with reward=15.0\n",
      "Episode finished after 137 timesteps with reward=15.0\n",
      "Episode finished after 112 timesteps with reward=14.0\n",
      "Episode finished after 256 timesteps with reward=29.0\n"
     ]
    },
    {
     "name": "stderr",
     "output_type": "stream",
     "text": [
      "[2017-06-26 20:21:23,042] Starting new video recorder writing to /home/ubuntu/records/openaigym.video.41.14018.video000027.mp4\n"
     ]
    },
    {
     "name": "stdout",
     "output_type": "stream",
     "text": [
      "Episode finished after 141 timesteps with reward=17.0\n",
      "Episode finished after 144 timesteps with reward=16.0\n",
      "Episode finished after 229 timesteps with reward=26.0\n",
      "Episode finished after 244 timesteps with reward=29.0\n",
      "Episode finished after 208 timesteps with reward=25.0\n",
      "Episode finished after 85 timesteps with reward=9.0\n",
      "Episode finished after 132 timesteps with reward=18.0\n",
      "Episode finished after 229 timesteps with reward=25.0\n",
      "Episode finished after 162 timesteps with reward=16.0\n",
      "Episode finished after 145 timesteps with reward=17.0\n",
      "Episode finished after 178 timesteps with reward=22.0\n",
      "Episode finished after 189 timesteps with reward=24.0\n",
      "Episode finished after 264 timesteps with reward=28.0\n",
      "Episode finished after 143 timesteps with reward=17.0\n",
      "Episode finished after 193 timesteps with reward=22.0\n",
      "Episode finished after 219 timesteps with reward=26.0\n",
      "Episode finished after 210 timesteps with reward=22.0\n",
      "Episode finished after 243 timesteps with reward=26.0\n",
      "Episode finished after 171 timesteps with reward=20.0\n",
      "Episode finished after 211 timesteps with reward=23.0\n",
      "Episode finished after 136 timesteps with reward=17.0\n",
      "Episode finished after 147 timesteps with reward=19.0\n",
      "Episode finished after 172 timesteps with reward=19.0\n",
      "Episode finished after 179 timesteps with reward=21.0\n",
      "Episode finished after 162 timesteps with reward=17.0\n",
      "Episode finished after 111 timesteps with reward=12.0\n",
      "Episode finished after 127 timesteps with reward=17.0\n",
      "Episode finished after 140 timesteps with reward=16.0\n",
      "Episode finished after 161 timesteps with reward=20.0\n",
      "Episode finished after 166 timesteps with reward=20.0\n",
      "Episode finished after 150 timesteps with reward=16.0\n",
      "Episode finished after 86 timesteps with reward=11.0\n",
      "Episode finished after 137 timesteps with reward=16.0\n",
      "Episode finished after 134 timesteps with reward=16.0\n",
      "Episode finished after 79 timesteps with reward=9.0\n",
      "Episode finished after 195 timesteps with reward=26.0\n",
      "Episode finished after 77 timesteps with reward=9.0\n"
     ]
    },
    {
     "name": "stderr",
     "output_type": "stream",
     "text": [
      "[2017-06-26 20:22:50,936] Starting new video recorder writing to /home/ubuntu/records/openaigym.video.41.14018.video000064.mp4\n"
     ]
    },
    {
     "name": "stdout",
     "output_type": "stream",
     "text": [
      "Episode finished after 242 timesteps with reward=28.0\n",
      "Episode finished after 159 timesteps with reward=17.0\n",
      "Episode finished after 128 timesteps with reward=14.0\n",
      "Episode finished after 190 timesteps with reward=21.0\n",
      "Episode finished after 206 timesteps with reward=23.0\n",
      "Episode finished after 106 timesteps with reward=11.0\n",
      "Episode finished after 65 timesteps with reward=6.0\n",
      "Episode finished after 89 timesteps with reward=9.0\n",
      "Episode finished after 134 timesteps with reward=15.0\n",
      "Episode finished after 93 timesteps with reward=6.0\n",
      "Episode finished after 207 timesteps with reward=25.0\n",
      "Episode finished after 148 timesteps with reward=19.0\n",
      "Episode finished after 179 timesteps with reward=19.0\n",
      "Episode finished after 88 timesteps with reward=10.0\n",
      "Episode finished after 262 timesteps with reward=29.0\n",
      "Episode finished after 112 timesteps with reward=11.0\n",
      "Episode finished after 133 timesteps with reward=16.0\n",
      "Episode finished after 92 timesteps with reward=10.0\n",
      "Episode finished after 112 timesteps with reward=10.0\n",
      "Episode finished after 161 timesteps with reward=15.0\n",
      "Episode finished after 215 timesteps with reward=26.0\n",
      "Episode finished after 172 timesteps with reward=20.0\n",
      "Episode finished after 184 timesteps with reward=20.0\n",
      "Episode finished after 156 timesteps with reward=18.0\n",
      "Episode finished after 81 timesteps with reward=11.0\n",
      "Episode finished after 233 timesteps with reward=29.0\n",
      "Episode finished after 85 timesteps with reward=7.0\n",
      "Episode finished after 106 timesteps with reward=12.0\n",
      "Episode finished after 175 timesteps with reward=21.0\n",
      "Episode finished after 165 timesteps with reward=20.0\n",
      "Episode finished after 138 timesteps with reward=15.0\n",
      "Episode finished after 67 timesteps with reward=5.0\n",
      "Episode finished after 84 timesteps with reward=8.0\n",
      "Episode finished after 159 timesteps with reward=16.0\n",
      "Episode finished after 165 timesteps with reward=18.0\n",
      "Episode finished after 75 timesteps with reward=5.0\n"
     ]
    },
    {
     "name": "stderr",
     "output_type": "stream",
     "text": [
      "[2017-06-26 20:24:02,902] Finished writing results. You can upload them to the scoreboard via gym.upload('/home/ubuntu/records')\n"
     ]
    },
    {
     "name": "stdout",
     "output_type": "stream",
     "text": [
      "Episode finished after 133 timesteps with reward=14.0\n",
      "mean session score=16.810000.5\n"
     ]
    }
   ],
   "source": [
    "action_layer.epsilon.set_value(0.001)\n",
    "rw = pool.evaluate(n_games=100,save_path=\"./records\",record_video=True)\n",
    "print(\"mean session score=%f.5\"%np.mean(rw))"
   ]
  },
  {
   "cell_type": "code",
   "execution_count": 26,
   "metadata": {},
   "outputs": [
    {
     "name": "stderr",
     "output_type": "stream",
     "text": [
      "[2017-06-26 20:26:02,462] [DoomDefendLine-v0] Uploading 100 episodes of training data\n",
      "[2017-06-26 20:26:02,722] [DoomDefendLine-v0] Uploading videos of 5 training episodes (4840171 bytes)\n",
      "[2017-06-26 20:26:02,899] [DoomDefendLine-v0] Creating evaluation object from /home/ubuntu/records with learning curve and training video\n",
      "[2017-06-26 20:26:03,899] \n",
      "****************************************************\n",
      "You successfully uploaded your evaluation on DoomDefendLine-v0 to\n",
      "OpenAI Gym! You can find it at:\n",
      "\n",
      "    https://gym.openai.com/evaluations/eval_WRUZju0qQNuEIsheS9mw\n",
      "\n",
      "****************************************************\n"
     ]
    }
   ],
   "source": [
    "gym.scoreboard.api_key = 'sk_X6PO6hv9Rq24jaL21xROSA'\n",
    "gym.upload('/home/ubuntu/records')"
   ]
  },
  {
   "cell_type": "code",
   "execution_count": null,
   "metadata": {
    "collapsed": true
   },
   "outputs": [],
   "source": [
    "from agentnet.utils.persistence import save,load\n",
    "#save for display\n",
    "save(action_layer,\"{}.pcl\".format(GAME_NAME.split('/')[1]))"
   ]
  },
  {
   "cell_type": "code",
   "execution_count": null,
   "metadata": {
    "collapsed": true
   },
   "outputs": [],
   "source": [
    "from IPython.display import HTML\n",
    "import os\n",
    "from random import choice\n",
    "#select the one you want\n",
    "videos = list(filter(lambda s:s.endswith(\".mp4\"),os.listdir(\"./records/\")))\n",
    "video_path=\"./records/\"+choice(videos)\n",
    "\n",
    "HTML(\"\"\"\n",
    "<video width=\"640\" height=\"480\" controls>\n",
    "  <source src=\"{}\" type=\"video/mp4\">\n",
    "</video>\n",
    "\"\"\".format(video_path))\n"
   ]
  },
  {
   "cell_type": "markdown",
   "metadata": {},
   "source": [
    "## Get serious\n",
    "\n",
    "* Switch to DoomDefendCenter, DoomHealthGathering, DoomDeathmatch or similar\n",
    "* Deploy a better RL algorithm\n",
    "* Deploy a better network. Doom will likely need some recurrent nets"
   ]
  },
  {
   "cell_type": "code",
   "execution_count": null,
   "metadata": {
    "collapsed": true
   },
   "outputs": [],
   "source": []
  }
 ],
 "metadata": {
  "anaconda-cloud": {},
  "kernelspec": {
   "display_name": "Python 3",
   "language": "python",
   "name": "python3"
  },
  "language_info": {
   "codemirror_mode": {
    "name": "ipython",
    "version": 3
   },
   "file_extension": ".py",
   "mimetype": "text/x-python",
   "name": "python",
   "nbconvert_exporter": "python",
   "pygments_lexer": "ipython3",
   "version": "3.5.2"
  }
 },
 "nbformat": 4,
 "nbformat_minor": 1
}
