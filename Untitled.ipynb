{
 "cells": [
  {
   "cell_type": "code",
   "execution_count": null,
   "metadata": {},
   "outputs": [
    {
     "name": "stdout",
     "output_type": "stream",
     "text": [
      "Collecting ppaquette-gym-doom\n",
      "  Downloading ppaquette-gym-doom-0.0.6.tar.gz\n",
      "Requirement already satisfied: gym>=0.8.0 in ./gym (from ppaquette-gym-doom)\n",
      "Collecting doom_py>=0.0.11 (from ppaquette-gym-doom)\n",
      "  Downloading doom-py-0.0.15.tar.gz (4.4MB)\n",
      "\u001b[K    100% |████████████████████████████████| 4.4MB 359kB/s eta 0:00:01\n",
      "\u001b[?25hRequirement already satisfied: numpy>=1.10.4 in ./env/lib/python3.5/site-packages (from gym>=0.8.0->ppaquette-gym-doom)\n",
      "Requirement already satisfied: requests>=2.0 in ./env/lib/python3.5/site-packages (from gym>=0.8.0->ppaquette-gym-doom)\n",
      "Requirement already satisfied: six in ./env/lib/python3.5/site-packages (from gym>=0.8.0->ppaquette-gym-doom)\n",
      "Requirement already satisfied: pyglet>=1.2.0 in ./env/lib/python3.5/site-packages (from gym>=0.8.0->ppaquette-gym-doom)\n",
      "Requirement already satisfied: urllib3<1.22,>=1.21.1 in ./env/lib/python3.5/site-packages (from requests>=2.0->gym>=0.8.0->ppaquette-gym-doom)\n",
      "Requirement already satisfied: certifi>=2017.4.17 in ./env/lib/python3.5/site-packages (from requests>=2.0->gym>=0.8.0->ppaquette-gym-doom)\n",
      "Requirement already satisfied: chardet<3.1.0,>=3.0.2 in ./env/lib/python3.5/site-packages (from requests>=2.0->gym>=0.8.0->ppaquette-gym-doom)\n",
      "Requirement already satisfied: idna<2.6,>=2.5 in ./env/lib/python3.5/site-packages (from requests>=2.0->gym>=0.8.0->ppaquette-gym-doom)\n",
      "Building wheels for collected packages: ppaquette-gym-doom, doom-py\n",
      "  Running setup.py bdist_wheel for ppaquette-gym-doom ... \u001b[?25ldone\n",
      "\u001b[?25h  Stored in directory: /root/.cache/pip/wheels/93/09/db/0f1d3f5e23a5d561af3850043cbaf85c62823b472e920285d6\n",
      "  Running setup.py bdist_wheel for doom-py ... \u001b[?25ldone\n",
      "\u001b[?25h  Stored in directory: /root/.cache/pip/wheels/fe/2a/07/7712c142de1788a97de62cf92789c07f38340e8f089c8de098\n",
      "Successfully built ppaquette-gym-doom doom-py\n",
      "Installing collected packages: doom-py, ppaquette-gym-doom\n"
     ]
    }
   ],
   "source": [
    "! pip install ppaquette-gym-doom"
   ]
  },
  {
   "cell_type": "code",
   "execution_count": null,
   "metadata": {
    "collapsed": true
   },
   "outputs": [],
   "source": []
  }
 ],
 "metadata": {
  "kernelspec": {
   "display_name": "Python 3",
   "language": "python",
   "name": "python3"
  },
  "language_info": {
   "codemirror_mode": {
    "name": "ipython",
    "version": 3
   },
   "file_extension": ".py",
   "mimetype": "text/x-python",
   "name": "python",
   "nbconvert_exporter": "python",
   "pygments_lexer": "ipython3",
   "version": "3.5.2"
  }
 },
 "nbformat": 4,
 "nbformat_minor": 2
}
